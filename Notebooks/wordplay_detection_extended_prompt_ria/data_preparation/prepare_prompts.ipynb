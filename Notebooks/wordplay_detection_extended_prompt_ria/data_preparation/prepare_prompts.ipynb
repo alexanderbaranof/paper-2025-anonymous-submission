{
 "cells": [
  {
   "cell_type": "code",
   "execution_count": 1,
   "metadata": {},
   "outputs": [],
   "source": [
    "# imports\n",
    "import os\n",
    "\n",
    "import pandas as pd"
   ]
  },
  {
   "cell_type": "code",
   "execution_count": 2,
   "metadata": {},
   "outputs": [],
   "source": [
    "# config\n",
    "PROJECT_PATH = \"/home/alex/paper-2025-anonymous-submission/\""
   ]
  },
  {
   "cell_type": "code",
   "execution_count": 3,
   "metadata": {},
   "outputs": [],
   "source": [
    "# load data\n",
    "df = pd.read_json(\n",
    "    os.path.join(\n",
    "        PROJECT_PATH, \"Data/processed_data/dataset_wordplay_detection_propmts.json\"\n",
    "    ),\n",
    "    orient=\"index\"\n",
    ")"
   ]
  },
  {
   "cell_type": "code",
   "execution_count": 6,
   "metadata": {},
   "outputs": [],
   "source": [
    "df_dev = pd.read_json(\n",
    "    os.path.join(\n",
    "        PROJECT_PATH, \"Data/processed_data/dev_dataset.json\"\n",
    "    ),\n",
    "    orient=\"index\"\n",
    ")"
   ]
  },
  {
   "cell_type": "code",
   "execution_count": 7,
   "metadata": {},
   "outputs": [
    {
     "data": {
      "text/html": [
       "<div>\n",
       "<style scoped>\n",
       "    .dataframe tbody tr th:only-of-type {\n",
       "        vertical-align: middle;\n",
       "    }\n",
       "\n",
       "    .dataframe tbody tr th {\n",
       "        vertical-align: top;\n",
       "    }\n",
       "\n",
       "    .dataframe thead th {\n",
       "        text-align: right;\n",
       "    }\n",
       "</style>\n",
       "<table border=\"1\" class=\"dataframe\">\n",
       "  <thead>\n",
       "    <tr style=\"text-align: right;\">\n",
       "      <th></th>\n",
       "      <th>user_prompt</th>\n",
       "      <th>system_prompt</th>\n",
       "    </tr>\n",
       "  </thead>\n",
       "  <tbody>\n",
       "    <tr>\n",
       "      <th>0</th>\n",
       "      <td>Заголовок новости: Комфортная среда. Cодержани...</td>\n",
       "      <td>Присутствует ли в заголовке новости игра слов?...</td>\n",
       "    </tr>\n",
       "    <tr>\n",
       "      <th>1</th>\n",
       "      <td>Заголовок новости: Свинина стушевалась. Cодерж...</td>\n",
       "      <td>Присутствует ли в заголовке новости игра слов?...</td>\n",
       "    </tr>\n",
       "  </tbody>\n",
       "</table>\n",
       "</div>"
      ],
      "text/plain": [
       "                                         user_prompt  \\\n",
       "0  Заголовок новости: Комфортная среда. Cодержани...   \n",
       "1  Заголовок новости: Свинина стушевалась. Cодерж...   \n",
       "\n",
       "                                       system_prompt  \n",
       "0  Присутствует ли в заголовке новости игра слов?...  \n",
       "1  Присутствует ли в заголовке новости игра слов?...  "
      ]
     },
     "execution_count": 7,
     "metadata": {},
     "output_type": "execute_result"
    }
   ],
   "source": [
    "df.head(2)"
   ]
  },
  {
   "cell_type": "code",
   "execution_count": 8,
   "metadata": {},
   "outputs": [
    {
     "data": {
      "text/html": [
       "<div>\n",
       "<style scoped>\n",
       "    .dataframe tbody tr th:only-of-type {\n",
       "        vertical-align: middle;\n",
       "    }\n",
       "\n",
       "    .dataframe tbody tr th {\n",
       "        vertical-align: top;\n",
       "    }\n",
       "\n",
       "    .dataframe thead th {\n",
       "        text-align: right;\n",
       "    }\n",
       "</style>\n",
       "<table border=\"1\" class=\"dataframe\">\n",
       "  <thead>\n",
       "    <tr style=\"text-align: right;\">\n",
       "      <th></th>\n",
       "      <th>annotations</th>\n",
       "      <th>summary</th>\n",
       "      <th>is_word_play</th>\n",
       "      <th>date</th>\n",
       "      <th>article_url</th>\n",
       "      <th>headline</th>\n",
       "      <th>lead</th>\n",
       "    </tr>\n",
       "  </thead>\n",
       "  <tbody>\n",
       "    <tr>\n",
       "      <th>0</th>\n",
       "      <td>[{'headline_substring': 'Театр божественных де...</td>\n",
       "      <td>В российский прокат выходит «Голда. Судный ден...</td>\n",
       "      <td>True</td>\n",
       "      <td>2023-08-31</td>\n",
       "      <td>https://www.kommersant.ru/doc/6173963</td>\n",
       "      <td>Театр божественных действий</td>\n",
       "      <td>«Голда»: история первых дней войны Судного дня</td>\n",
       "    </tr>\n",
       "    <tr>\n",
       "      <th>1</th>\n",
       "      <td>None</td>\n",
       "      <td>Участники переговоров по Украине в городе Джид...</td>\n",
       "      <td>False</td>\n",
       "      <td>2023-08-05</td>\n",
       "      <td>https://www.kommersant.ru/doc/6147213</td>\n",
       "      <td>Corriere della Sera: участники переговоров в Д...</td>\n",
       "      <td>На встрече в Джидде решили создать группы для ...</td>\n",
       "    </tr>\n",
       "  </tbody>\n",
       "</table>\n",
       "</div>"
      ],
      "text/plain": [
       "                                         annotations  \\\n",
       "0  [{'headline_substring': 'Театр божественных де...   \n",
       "1                                               None   \n",
       "\n",
       "                                             summary  is_word_play       date  \\\n",
       "0  В российский прокат выходит «Голда. Судный ден...          True 2023-08-31   \n",
       "1  Участники переговоров по Украине в городе Джид...         False 2023-08-05   \n",
       "\n",
       "                             article_url  \\\n",
       "0  https://www.kommersant.ru/doc/6173963   \n",
       "1  https://www.kommersant.ru/doc/6147213   \n",
       "\n",
       "                                            headline  \\\n",
       "0                        Театр божественных действий   \n",
       "1  Corriere della Sera: участники переговоров в Д...   \n",
       "\n",
       "                                                lead  \n",
       "0     «Голда»: история первых дней войны Судного дня  \n",
       "1  На встрече в Джидде решили создать группы для ...  "
      ]
     },
     "execution_count": 8,
     "metadata": {},
     "output_type": "execute_result"
    }
   ],
   "source": [
    "df_dev.head(2)"
   ]
  },
  {
   "cell_type": "code",
   "execution_count": 9,
   "metadata": {},
   "outputs": [],
   "source": [
    "def extract_annotations_labels(annotations):\n",
    "    \n",
    "    all_wordplay_type = list()\n",
    "    \n",
    "    if isinstance(annotations, list):\n",
    "        for annot in annotations:\n",
    "            if isinstance(annot, dict):\n",
    "                all_wordplay_type.append(\n",
    "                    annot[\"wordplay_type\"]\n",
    "                )\n",
    "            elif isinstance(annot, list):\n",
    "                all_wordplay_type.append(\n",
    "                    annot[0][\"wordplay_type\"]\n",
    "                )\n",
    "    \n",
    "    return all_wordplay_type"
   ]
  },
  {
   "cell_type": "code",
   "execution_count": 10,
   "metadata": {},
   "outputs": [],
   "source": [
    "df_dev[\"wordpla_type\"] = df_dev[\"annotations\"].apply(extract_annotations_labels)"
   ]
  },
  {
   "cell_type": "code",
   "execution_count": 12,
   "metadata": {},
   "outputs": [
    {
     "data": {
      "text/plain": [
       "{'Collocation',\n",
       " 'Homonymy',\n",
       " 'Idiom',\n",
       " 'Nonce word',\n",
       " 'Oxymoron',\n",
       " 'Phonetic similarity',\n",
       " 'Polysemy',\n",
       " 'Reference',\n",
       " nan}"
      ]
     },
     "execution_count": 12,
     "metadata": {},
     "output_type": "execute_result"
    }
   ],
   "source": [
    "set(df_dev[\"wordpla_type\"].explode().tolist())"
   ]
  },
  {
   "cell_type": "code",
   "execution_count": 13,
   "metadata": {},
   "outputs": [],
   "source": [
    "collocations = list()\n",
    "homonymys = list()\n",
    "idioms = list()\n",
    "nonce_words = list()\n",
    "oxymorons = list()\n",
    "phonetic_similaritys = list()\n",
    "polysemys = list()\n",
    "references = list()"
   ]
  },
  {
   "cell_type": "code",
   "execution_count": 23,
   "metadata": {},
   "outputs": [],
   "source": [
    "collocations.extend(df_dev[df_dev[\"wordpla_type\"].apply(lambda x: \"Collocation\" in x)].sample(2)[\"headline\"].tolist())\n",
    "homonymys.extend(df_dev[df_dev[\"wordpla_type\"].apply(lambda x: \"Homonymy\" in x)].sample(2)[\"headline\"].tolist())\n",
    "idioms.extend(df_dev[df_dev[\"wordpla_type\"].apply(lambda x: \"Idiom\" in x)].sample(2)[\"headline\"].tolist())\n",
    "nonce_words.extend(df_dev[df_dev[\"wordpla_type\"].apply(lambda x: \"Nonce word\" in x)].sample(2)[\"headline\"].tolist())\n",
    "oxymorons.extend(df_dev[df_dev[\"wordpla_type\"].apply(lambda x: \"Oxymoron\" in x)].sample(2)[\"headline\"].tolist())\n",
    "phonetic_similaritys.extend(df_dev[df_dev[\"wordpla_type\"].apply(lambda x: \"Phonetic similarity\" in x)].sample(2)[\"headline\"].tolist())\n",
    "polysemys.extend(df_dev[df_dev[\"wordpla_type\"].apply(lambda x: \"Polysemy\" in x)].sample(2)[\"headline\"].tolist())\n",
    "references.extend(df_dev[df_dev[\"wordpla_type\"].apply(lambda x: \"Reference\" in x)].sample(2)[\"headline\"].tolist())"
   ]
  },
  {
   "cell_type": "code",
   "execution_count": 24,
   "metadata": {},
   "outputs": [
    {
     "data": {
      "text/plain": [
       "'Присутствует ли в заголовке новости игра слов? Дай ответ с учетом содержания новости. Отвечать можешь только \"да\", \"нет\" или \"не знаю\".'"
      ]
     },
     "execution_count": 24,
     "metadata": {},
     "output_type": "execute_result"
    }
   ],
   "source": [
    "df[\"system_prompt\"].iloc[0]"
   ]
  },
  {
   "cell_type": "code",
   "execution_count": 26,
   "metadata": {},
   "outputs": [],
   "source": [
    "sys_prompt_additional = f\"\"\"\n",
    "Игрой слов считаются следующие механизмы:\n",
    "\n",
    "1. Фонетический уровень\n",
    "\n",
    "Механизм: Омофония\n",
    "Определение: Слова, звучащие одинаково, но имеющие разное написание и значение.\n",
    "Примеры:\n",
    "    - {phonetic_similaritys[0]}\n",
    "    - {phonetic_similaritys[1]}\n",
    "Основные индикаторы: Идентичное произношение при различном написании.\n",
    "\n",
    "2. Морфологический уровень\n",
    "\n",
    "Механизм: Словообразование\n",
    "Определение: Создание новых слов или выражений путём модификации или комбинации существующих.\n",
    "Примеры:\n",
    "    - {nonce_words[0]}\n",
    "    - {nonce_words[1]}\n",
    "Основные индикаторы: Необычные словесные конструкции, играющие с знакомыми\n",
    "морфемами или частями слов.\n",
    "\n",
    "3. Лексико-фразеологический уровень\n",
    "\n",
    "Механизм: Трансформация фразеологизмов\n",
    "Определение: Изменение известных фраз, идиом или пословиц для создания нового\n",
    "смысла или комического эффекта.\n",
    "Примеры:\n",
    "    - {idioms[0]}\n",
    "    - {idioms[1]}\n",
    "Основные индикаторы: Изменения в фразеологизмах, сохраняющие некоторую структуру оригинальной фразы, но с изменёнными словами.\n",
    "\n",
    "Механизм: Полисемия\n",
    "Определение: Использование слов с несколькими значениями для создания двусмысленности или юмора.\n",
    "Примеры:\n",
    "    - {polysemys[0]}\n",
    "    - {polysemys[1]}\n",
    "Основные индикаторы: Одно слово в заголовке имеет более одного вероятного толкования.\n",
    "\n",
    "Механизм: Омонимия\n",
    "Определение: Слова, одинаковые по написанию и звучанию, но разные по значению.\n",
    "Примеры:\n",
    "    - {homonymys[0]}\n",
    "    - {homonymys[1]}\n",
    "Основные индикаторы: Идентичное написание и произношение с различным значением в контексте.\n",
    "\n",
    "Механизм: Оксюморон\n",
    "Определение: Сочетание противоположных по значению слов для создания парадоксального эффекта.\n",
    "Примеры:\n",
    "    - {oxymorons[0]}\n",
    "    - {oxymorons[1]}\n",
    "Основные индикаторы: Фразы, содержащие внутренне противоречивые идеи.\n",
    "\n",
    "Механизм: Трансформация устойчивых сочетаний\n",
    "Определение: Изменение или перестройка известных устойчивых сочетаний (терминов, выражений) для создания нового смысла или комического эффекта.\n",
    "Примеры:\n",
    "    - {collocations[0]}\n",
    "    - {collocations[1]}\n",
    "Основные индикаторы: Частичная замена или перестройка известных устойчивых сочетаний, которая сохраняет распознаваемую основу оригинала, но добавляет новый смысл или комический эффект.\n",
    "\n",
    "4. Дискурсивный уровень\n",
    "Механизм: Отсылка к прецедентным текстам\n",
    "Определение: Ссылка на известные тексты, фильмы, песни или исторические события,\n",
    "немного изменённые для нового контекста.\n",
    "Примеры:\n",
    "    - {references[0]}\n",
    "    - {references[1]}\n",
    "Основные индикаторы: Знание оригинального текста критично, заголовок часто вызывает коннотации оригинального произведения.\n",
    "\n",
    "Дополнительно\n",
    "Трансформация фразеологизма, пословицы, поговорки или прецедентного текста может осуществляться несколькими способами:\n",
    "- с помощью замены одного из слов другим словом;\n",
    "- с помощью вставки нового слова в середину устойчивого сочетания;\n",
    "- с помощью добавления к одному из слов устойчивого сочетания приставки;\n",
    "- с помощью отсечения приставки (обратный процесс);\n",
    "- с помощью замены части звуков слова, то есть посредством подбора сходно звучащего слова. Слова могут иметь схожее окончание;\n",
    "- с помощью усечения конца слов;\n",
    "- с помощью изменения окончания.\n",
    "\"\"\""
   ]
  },
  {
   "cell_type": "code",
   "execution_count": 28,
   "metadata": {},
   "outputs": [],
   "source": [
    "result_system_prompt = f\"\"\"{df[\"system_prompt\"].iloc[0]} {sys_prompt_additional}\"\"\""
   ]
  },
  {
   "cell_type": "code",
   "execution_count": 31,
   "metadata": {},
   "outputs": [],
   "source": [
    "df[\"system_prompt\"] = [result_system_prompt for _ in range(len(df))]"
   ]
  },
  {
   "cell_type": "code",
   "execution_count": 33,
   "metadata": {},
   "outputs": [],
   "source": [
    "df[[\"user_prompt\", \"system_prompt\"]].to_json(\n",
    "    os.path.join(\n",
    "        PROJECT_PATH, \"Data/processed_data/dataset_wordplay_detection_propmts_extended.json\"\n",
    "    ),\n",
    "    orient=\"index\",\n",
    "    force_ascii=False\n",
    ")"
   ]
  },
  {
   "cell_type": "code",
   "execution_count": null,
   "metadata": {},
   "outputs": [],
   "source": []
  }
 ],
 "metadata": {
  "kernelspec": {
   "display_name": "general_venv",
   "language": "python",
   "name": "python3"
  },
  "language_info": {
   "codemirror_mode": {
    "name": "ipython",
    "version": 3
   },
   "file_extension": ".py",
   "mimetype": "text/x-python",
   "name": "python",
   "nbconvert_exporter": "python",
   "pygments_lexer": "ipython3",
   "version": "3.10.12"
  }
 },
 "nbformat": 4,
 "nbformat_minor": 2
}
