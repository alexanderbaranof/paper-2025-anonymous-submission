{
 "cells": [
  {
   "cell_type": "code",
   "execution_count": 1,
   "metadata": {},
   "outputs": [],
   "source": [
    "# imports\n",
    "import os\n",
    "import json\n",
    "\n",
    "import httpx\n",
    "import pandas as pd\n",
    "from openai import OpenAI\n"
   ]
  },
  {
   "cell_type": "code",
   "execution_count": 2,
   "metadata": {},
   "outputs": [],
   "source": [
    "# path\n",
    "PROJECT_PATH = \"/home/alex/paper-2025-anonymous-submission/\""
   ]
  },
  {
   "cell_type": "code",
   "execution_count": 3,
   "metadata": {},
   "outputs": [
    {
     "name": "stdout",
     "output_type": "stream",
     "text": [
      "{\"ip\":\"80.242.58.96\"}\n"
     ]
    }
   ],
   "source": [
    "# config\n",
    "\n",
    "with open(os.path.join(PROJECT_PATH, \"api_credentials.json\")) as f:\n",
    "    configs = json.load(f)\n",
    "\n",
    "proxies=dict(\n",
    "    http=f\"socks5://{configs['proxy_login']}:{configs['proxy_password']}@{configs['proxy_ip']}\",\n",
    "    https=f\"socks5://{configs['proxy_login']}:{configs['proxy_password']}@{configs['proxy_ip']}\"\n",
    ")\n",
    "\n",
    "client_example = httpx.Client(proxy=proxies[\"https\"])\n",
    "print(client_example.get(\"http://jsonip.com\").text)"
   ]
  },
  {
   "cell_type": "code",
   "execution_count": 4,
   "metadata": {},
   "outputs": [],
   "source": [
    "# model config and client\n",
    "\n",
    "OPENAI_MOEDL = \"gpt-4o-2024-08-06\"\n",
    "OPENAI_MOEDL_TEMPERATURE = 0.1\n",
    "\n",
    "TASK_FILE_NAME = \"wordplay_detection_gpt_4o_tasks_extended_ria.json\"\n",
    "TASK_FILE_NAME_PATH = os.path.join(PROJECT_PATH, f\"Data/openai_batch_task/{TASK_FILE_NAME}\")\n",
    "\n",
    "TASK_RESULT_FILE_NAME = \"wordplay_detection_gpt_4o_predictions_extended_ria.json\"\n",
    "TASK_RESULT_FILE_NAME_PATH = os.path.join(PROJECT_PATH, f\"Data/predictions/{TASK_RESULT_FILE_NAME}\")\n"
   ]
  },
  {
   "cell_type": "code",
   "execution_count": 5,
   "metadata": {},
   "outputs": [],
   "source": [
    "client = OpenAI(api_key=configs[\"openai_token\"] , http_client=client_example)"
   ]
  },
  {
   "cell_type": "code",
   "execution_count": 6,
   "metadata": {},
   "outputs": [],
   "source": [
    "# load data\n",
    "\n",
    "df = pd.read_json(\n",
    "    \"/home/alex/paper-2025-anonymous-submission/Data/processed_data/ria_detection_extended.json\",\n",
    "    orient=\"index\"\n",
    ")"
   ]
  },
  {
   "cell_type": "code",
   "execution_count": 7,
   "metadata": {},
   "outputs": [
    {
     "data": {
      "text/html": [
       "<div>\n",
       "<style scoped>\n",
       "    .dataframe tbody tr th:only-of-type {\n",
       "        vertical-align: middle;\n",
       "    }\n",
       "\n",
       "    .dataframe tbody tr th {\n",
       "        vertical-align: top;\n",
       "    }\n",
       "\n",
       "    .dataframe thead th {\n",
       "        text-align: right;\n",
       "    }\n",
       "</style>\n",
       "<table border=\"1\" class=\"dataframe\">\n",
       "  <thead>\n",
       "    <tr style=\"text-align: right;\">\n",
       "      <th></th>\n",
       "      <th>user_prompt</th>\n",
       "      <th>system_prompt</th>\n",
       "    </tr>\n",
       "  </thead>\n",
       "  <tbody>\n",
       "    <tr>\n",
       "      <th>0</th>\n",
       "      <td>Заголовок новости: украинская люстрация: жертв...</td>\n",
       "      <td>\\nПрисутствует ли в заголовке новости игра сло...</td>\n",
       "    </tr>\n",
       "    <tr>\n",
       "      <th>1</th>\n",
       "      <td>Заголовок новости: цена на нефть марки brent п...</td>\n",
       "      <td>\\nПрисутствует ли в заголовке новости игра сло...</td>\n",
       "    </tr>\n",
       "  </tbody>\n",
       "</table>\n",
       "</div>"
      ],
      "text/plain": [
       "                                         user_prompt  \\\n",
       "0  Заголовок новости: украинская люстрация: жертв...   \n",
       "1  Заголовок новости: цена на нефть марки brent п...   \n",
       "\n",
       "                                       system_prompt  \n",
       "0  \\nПрисутствует ли в заголовке новости игра сло...  \n",
       "1  \\nПрисутствует ли в заголовке новости игра сло...  "
      ]
     },
     "execution_count": 7,
     "metadata": {},
     "output_type": "execute_result"
    }
   ],
   "source": [
    "df.head(2)"
   ]
  },
  {
   "cell_type": "code",
   "execution_count": 8,
   "metadata": {},
   "outputs": [],
   "source": [
    "# generate task file\n",
    "\n",
    "tasks = []\n",
    "for index, row in df.iterrows():\n",
    "    task_id = index\n",
    "    task = {\n",
    "        \"custom_id\": f\"task-{task_id}\",\n",
    "        \"method\": \"POST\",\n",
    "        \"url\": \"/v1/chat/completions\",\n",
    "        \"body\": {\n",
    "            \"model\": OPENAI_MOEDL,\n",
    "            \"temperature\": OPENAI_MOEDL_TEMPERATURE,\n",
    "            \"messages\": [\n",
    "                {\n",
    "                    \"role\": \"system\",\n",
    "                    \"content\": row[\"system_prompt\"]\n",
    "                },\n",
    "                {\n",
    "                    \"role\": \"user\",\n",
    "                    \"content\": row[\"user_prompt\"]\n",
    "                }\n",
    "            ],\n",
    "        }\n",
    "    }\n",
    "    tasks.append(task)\n",
    "\n",
    "with open(TASK_FILE_NAME_PATH, 'w') as file:\n",
    "    for obj in tasks:\n",
    "        file.write(\n",
    "            json.dumps(obj) + '\\n'\n",
    "        )"
   ]
  },
  {
   "cell_type": "code",
   "execution_count": 9,
   "metadata": {},
   "outputs": [],
   "source": [
    "# run tasks\n",
    "\n",
    "batch_file = client.files.create(\n",
    "  file=open(TASK_FILE_NAME_PATH, \"rb\"),\n",
    "  purpose=\"batch\"\n",
    ")\n",
    "\n",
    "batch_job = client.batches.create(\n",
    "  input_file_id=batch_file.id,\n",
    "  endpoint=\"/v1/chat/completions\",\n",
    "  completion_window=\"24h\"\n",
    ")"
   ]
  },
  {
   "cell_type": "code",
   "execution_count": 13,
   "metadata": {},
   "outputs": [
    {
     "name": "stdout",
     "output_type": "stream",
     "text": [
      "completed\n",
      "BatchRequestCounts(completed=1000, failed=0, total=1000)\n"
     ]
    }
   ],
   "source": [
    "batch_job = client.batches.retrieve(batch_job.id)\n",
    "print(batch_job.status)\n",
    "print(batch_job.request_counts)"
   ]
  },
  {
   "cell_type": "code",
   "execution_count": 14,
   "metadata": {},
   "outputs": [],
   "source": [
    "# save results\n",
    "\n",
    "result_file_id = batch_job.output_file_id\n",
    "result = client.files.content(result_file_id).content\n",
    "result = str(result, \"utf-8\").split(\"\\n\")\n",
    "result = result[:-1]\n",
    "assert len(df) == len(result)\n",
    "result = [json.loads(t) for t in result]\n",
    "\n",
    "df_results = pd.DataFrame()\n",
    "df_results[\"json_response\"] = result\n",
    "\n",
    "df_results[\"task_id\"] = df_results[\"json_response\"].apply(lambda x: x[\"custom_id\"])\n",
    "df_results[\"task_id\"] = df_results[\"task_id\"].apply(lambda x: x.split(\"-\")[1])\n",
    "df_results[\"gpt4o_yes_no\"] = df_results[\"json_response\"].apply(lambda x: x[\"response\"][\"body\"][\"choices\"][0][\"message\"][\"content\"])\n",
    "\n",
    "\n",
    "df_results.to_json(\n",
    "    TASK_RESULT_FILE_NAME_PATH, orient=\"index\"\n",
    ")"
   ]
  },
  {
   "cell_type": "code",
   "execution_count": 15,
   "metadata": {},
   "outputs": [
    {
     "data": {
      "text/html": [
       "<div>\n",
       "<style scoped>\n",
       "    .dataframe tbody tr th:only-of-type {\n",
       "        vertical-align: middle;\n",
       "    }\n",
       "\n",
       "    .dataframe tbody tr th {\n",
       "        vertical-align: top;\n",
       "    }\n",
       "\n",
       "    .dataframe thead th {\n",
       "        text-align: right;\n",
       "    }\n",
       "</style>\n",
       "<table border=\"1\" class=\"dataframe\">\n",
       "  <thead>\n",
       "    <tr style=\"text-align: right;\">\n",
       "      <th></th>\n",
       "      <th>json_response</th>\n",
       "      <th>task_id</th>\n",
       "      <th>gpt4o_yes_no</th>\n",
       "    </tr>\n",
       "  </thead>\n",
       "  <tbody>\n",
       "    <tr>\n",
       "      <th>0</th>\n",
       "      <td>{'id': 'batch_req_67a5e1a0d8ac8190b17e0ab3ece4...</td>\n",
       "      <td>0</td>\n",
       "      <td>да</td>\n",
       "    </tr>\n",
       "    <tr>\n",
       "      <th>1</th>\n",
       "      <td>{'id': 'batch_req_67a5e1a0edd081909d0cfbaef49a...</td>\n",
       "      <td>1</td>\n",
       "      <td>нет</td>\n",
       "    </tr>\n",
       "    <tr>\n",
       "      <th>2</th>\n",
       "      <td>{'id': 'batch_req_67a5e1a1018c8190b79c0c09437c...</td>\n",
       "      <td>2</td>\n",
       "      <td>нет</td>\n",
       "    </tr>\n",
       "    <tr>\n",
       "      <th>3</th>\n",
       "      <td>{'id': 'batch_req_67a5e1a1128c819092914bcce94d...</td>\n",
       "      <td>3</td>\n",
       "      <td>нет</td>\n",
       "    </tr>\n",
       "    <tr>\n",
       "      <th>4</th>\n",
       "      <td>{'id': 'batch_req_67a5e1a1248081909eb228c35bf4...</td>\n",
       "      <td>4</td>\n",
       "      <td>нет</td>\n",
       "    </tr>\n",
       "    <tr>\n",
       "      <th>...</th>\n",
       "      <td>...</td>\n",
       "      <td>...</td>\n",
       "      <td>...</td>\n",
       "    </tr>\n",
       "    <tr>\n",
       "      <th>995</th>\n",
       "      <td>{'id': 'batch_req_67a5e1ee34088190aa3d1a75cced...</td>\n",
       "      <td>995</td>\n",
       "      <td>нет</td>\n",
       "    </tr>\n",
       "    <tr>\n",
       "      <th>996</th>\n",
       "      <td>{'id': 'batch_req_67a5e1ee442081909c30a474200d...</td>\n",
       "      <td>996</td>\n",
       "      <td>нет</td>\n",
       "    </tr>\n",
       "    <tr>\n",
       "      <th>997</th>\n",
       "      <td>{'id': 'batch_req_67a5e1ee59f8819089d2d4590d6d...</td>\n",
       "      <td>997</td>\n",
       "      <td>нет</td>\n",
       "    </tr>\n",
       "    <tr>\n",
       "      <th>998</th>\n",
       "      <td>{'id': 'batch_req_67a5e1ee6bd8819082164b9da2c3...</td>\n",
       "      <td>998</td>\n",
       "      <td>нет</td>\n",
       "    </tr>\n",
       "    <tr>\n",
       "      <th>999</th>\n",
       "      <td>{'id': 'batch_req_67a5e1ee7c3481909df2b6ed4521...</td>\n",
       "      <td>999</td>\n",
       "      <td>нет</td>\n",
       "    </tr>\n",
       "  </tbody>\n",
       "</table>\n",
       "<p>1000 rows × 3 columns</p>\n",
       "</div>"
      ],
      "text/plain": [
       "                                         json_response task_id gpt4o_yes_no\n",
       "0    {'id': 'batch_req_67a5e1a0d8ac8190b17e0ab3ece4...       0           да\n",
       "1    {'id': 'batch_req_67a5e1a0edd081909d0cfbaef49a...       1          нет\n",
       "2    {'id': 'batch_req_67a5e1a1018c8190b79c0c09437c...       2          нет\n",
       "3    {'id': 'batch_req_67a5e1a1128c819092914bcce94d...       3          нет\n",
       "4    {'id': 'batch_req_67a5e1a1248081909eb228c35bf4...       4          нет\n",
       "..                                                 ...     ...          ...\n",
       "995  {'id': 'batch_req_67a5e1ee34088190aa3d1a75cced...     995          нет\n",
       "996  {'id': 'batch_req_67a5e1ee442081909c30a474200d...     996          нет\n",
       "997  {'id': 'batch_req_67a5e1ee59f8819089d2d4590d6d...     997          нет\n",
       "998  {'id': 'batch_req_67a5e1ee6bd8819082164b9da2c3...     998          нет\n",
       "999  {'id': 'batch_req_67a5e1ee7c3481909df2b6ed4521...     999          нет\n",
       "\n",
       "[1000 rows x 3 columns]"
      ]
     },
     "execution_count": 15,
     "metadata": {},
     "output_type": "execute_result"
    }
   ],
   "source": [
    "df_results"
   ]
  },
  {
   "cell_type": "code",
   "execution_count": 16,
   "metadata": {},
   "outputs": [
    {
     "data": {
      "text/plain": [
       "нет    983\n",
       "да      17\n",
       "Name: gpt4o_yes_no, dtype: int64"
      ]
     },
     "execution_count": 16,
     "metadata": {},
     "output_type": "execute_result"
    }
   ],
   "source": [
    "df_results[\"gpt4o_yes_no\"].value_counts()"
   ]
  },
  {
   "cell_type": "code",
   "execution_count": null,
   "metadata": {},
   "outputs": [],
   "source": []
  }
 ],
 "metadata": {
  "kernelspec": {
   "display_name": "general_venv",
   "language": "python",
   "name": "python3"
  },
  "language_info": {
   "codemirror_mode": {
    "name": "ipython",
    "version": 3
   },
   "file_extension": ".py",
   "mimetype": "text/x-python",
   "name": "python",
   "nbconvert_exporter": "python",
   "pygments_lexer": "ipython3",
   "version": "3.10.12"
  }
 },
 "nbformat": 4,
 "nbformat_minor": 2
}
