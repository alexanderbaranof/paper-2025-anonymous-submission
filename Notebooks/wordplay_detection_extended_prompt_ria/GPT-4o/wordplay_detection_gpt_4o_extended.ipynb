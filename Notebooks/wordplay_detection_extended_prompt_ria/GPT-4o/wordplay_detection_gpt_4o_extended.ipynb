{
 "cells": [
  {
   "cell_type": "code",
   "execution_count": 1,
   "metadata": {},
   "outputs": [],
   "source": [
    "# imports\n",
    "import os\n",
    "import json\n",
    "\n",
    "import httpx\n",
    "import pandas as pd\n",
    "from openai import OpenAI\n"
   ]
  },
  {
   "cell_type": "code",
   "execution_count": 2,
   "metadata": {},
   "outputs": [],
   "source": [
    "# path\n",
    "PROJECT_PATH = \"/home/alex/paper-2025-anonymous-submission/\""
   ]
  },
  {
   "cell_type": "code",
   "execution_count": 3,
   "metadata": {},
   "outputs": [
    {
     "name": "stdout",
     "output_type": "stream",
     "text": [
      "{\"ip\":\"80.242.58.96\"}\n"
     ]
    }
   ],
   "source": [
    "# config\n",
    "\n",
    "with open(os.path.join(PROJECT_PATH, \"api_credentials.json\")) as f:\n",
    "    configs = json.load(f)\n",
    "\n",
    "proxies=dict(\n",
    "    http=f\"socks5://{configs['proxy_login']}:{configs['proxy_password']}@{configs['proxy_ip']}\",\n",
    "    https=f\"socks5://{configs['proxy_login']}:{configs['proxy_password']}@{configs['proxy_ip']}\"\n",
    ")\n",
    "\n",
    "client_example = httpx.Client(proxy=proxies[\"https\"])\n",
    "print(client_example.get(\"http://jsonip.com\").text)"
   ]
  },
  {
   "cell_type": "code",
   "execution_count": 4,
   "metadata": {},
   "outputs": [],
   "source": [
    "# model config and client\n",
    "\n",
    "OPENAI_MOEDL = \"gpt-4o-2024-08-06\"\n",
    "OPENAI_MOEDL_TEMPERATURE = 0.1\n",
    "\n",
    "TASK_FILE_NAME = \"wordplay_detection_gpt_4o_tasks_extended.json\"\n",
    "TASK_FILE_NAME_PATH = os.path.join(PROJECT_PATH, f\"Data/openai_batch_task/{TASK_FILE_NAME}\")\n",
    "\n",
    "TASK_RESULT_FILE_NAME = \"wordplay_detection_gpt_4o_predictions_extended.json\"\n",
    "TASK_RESULT_FILE_NAME_PATH = os.path.join(PROJECT_PATH, f\"Data/predictions/{TASK_RESULT_FILE_NAME}\")\n"
   ]
  },
  {
   "cell_type": "code",
   "execution_count": 5,
   "metadata": {},
   "outputs": [],
   "source": [
    "client = OpenAI(api_key=configs[\"openai_token\"] , http_client=client_example)"
   ]
  },
  {
   "cell_type": "code",
   "execution_count": 6,
   "metadata": {},
   "outputs": [],
   "source": [
    "# load data\n",
    "\n",
    "df = pd.read_json(\n",
    "    \"/home/alex/paper-2025-anonymous-submission/Data/processed_data/dataset_wordplay_detection_propmts_extended.json\",\n",
    "    orient=\"index\"\n",
    ")"
   ]
  },
  {
   "cell_type": "code",
   "execution_count": 7,
   "metadata": {},
   "outputs": [
    {
     "data": {
      "text/html": [
       "<div>\n",
       "<style scoped>\n",
       "    .dataframe tbody tr th:only-of-type {\n",
       "        vertical-align: middle;\n",
       "    }\n",
       "\n",
       "    .dataframe tbody tr th {\n",
       "        vertical-align: top;\n",
       "    }\n",
       "\n",
       "    .dataframe thead th {\n",
       "        text-align: right;\n",
       "    }\n",
       "</style>\n",
       "<table border=\"1\" class=\"dataframe\">\n",
       "  <thead>\n",
       "    <tr style=\"text-align: right;\">\n",
       "      <th></th>\n",
       "      <th>user_prompt</th>\n",
       "      <th>system_prompt</th>\n",
       "    </tr>\n",
       "  </thead>\n",
       "  <tbody>\n",
       "    <tr>\n",
       "      <th>0</th>\n",
       "      <td>Заголовок новости: Комфортная среда. Cодержани...</td>\n",
       "      <td>Присутствует ли в заголовке новости игра слов?...</td>\n",
       "    </tr>\n",
       "    <tr>\n",
       "      <th>1</th>\n",
       "      <td>Заголовок новости: Свинина стушевалась. Cодерж...</td>\n",
       "      <td>Присутствует ли в заголовке новости игра слов?...</td>\n",
       "    </tr>\n",
       "  </tbody>\n",
       "</table>\n",
       "</div>"
      ],
      "text/plain": [
       "                                         user_prompt  \\\n",
       "0  Заголовок новости: Комфортная среда. Cодержани...   \n",
       "1  Заголовок новости: Свинина стушевалась. Cодерж...   \n",
       "\n",
       "                                       system_prompt  \n",
       "0  Присутствует ли в заголовке новости игра слов?...  \n",
       "1  Присутствует ли в заголовке новости игра слов?...  "
      ]
     },
     "execution_count": 7,
     "metadata": {},
     "output_type": "execute_result"
    }
   ],
   "source": [
    "df.head(2)"
   ]
  },
  {
   "cell_type": "code",
   "execution_count": 9,
   "metadata": {},
   "outputs": [],
   "source": [
    "# generate task file\n",
    "\n",
    "tasks = []\n",
    "for index, row in df.iterrows():\n",
    "    task_id = index\n",
    "    task = {\n",
    "        \"custom_id\": f\"task-{task_id}\",\n",
    "        \"method\": \"POST\",\n",
    "        \"url\": \"/v1/chat/completions\",\n",
    "        \"body\": {\n",
    "            \"model\": OPENAI_MOEDL,\n",
    "            \"temperature\": OPENAI_MOEDL_TEMPERATURE,\n",
    "            \"messages\": [\n",
    "                {\n",
    "                    \"role\": \"system\",\n",
    "                    \"content\": row[\"system_prompt\"]\n",
    "                },\n",
    "                {\n",
    "                    \"role\": \"user\",\n",
    "                    \"content\": row[\"user_prompt\"]\n",
    "                }\n",
    "            ],\n",
    "        }\n",
    "    }\n",
    "    tasks.append(task)\n",
    "\n",
    "with open(TASK_FILE_NAME_PATH, 'w') as file:\n",
    "    for obj in tasks:\n",
    "        file.write(\n",
    "            json.dumps(obj) + '\\n'\n",
    "        )"
   ]
  },
  {
   "cell_type": "code",
   "execution_count": 10,
   "metadata": {},
   "outputs": [],
   "source": [
    "# run tasks\n",
    "\n",
    "batch_file = client.files.create(\n",
    "  file=open(TASK_FILE_NAME_PATH, \"rb\"),\n",
    "  purpose=\"batch\"\n",
    ")\n",
    "\n",
    "batch_job = client.batches.create(\n",
    "  input_file_id=batch_file.id,\n",
    "  endpoint=\"/v1/chat/completions\",\n",
    "  completion_window=\"24h\"\n",
    ")"
   ]
  },
  {
   "cell_type": "code",
   "execution_count": 15,
   "metadata": {},
   "outputs": [
    {
     "name": "stdout",
     "output_type": "stream",
     "text": [
      "completed\n",
      "BatchRequestCounts(completed=2500, failed=0, total=2500)\n"
     ]
    }
   ],
   "source": [
    "batch_job = client.batches.retrieve(batch_job.id)\n",
    "print(batch_job.status)\n",
    "print(batch_job.request_counts)"
   ]
  },
  {
   "cell_type": "code",
   "execution_count": 16,
   "metadata": {},
   "outputs": [],
   "source": [
    "# save results\n",
    "\n",
    "result_file_id = batch_job.output_file_id\n",
    "result = client.files.content(result_file_id).content\n",
    "result = str(result, \"utf-8\").split(\"\\n\")\n",
    "result = result[:-1]\n",
    "assert len(df) == len(result)\n",
    "result = [json.loads(t) for t in result]\n",
    "\n",
    "df_results = pd.DataFrame()\n",
    "df_results[\"json_response\"] = result\n",
    "\n",
    "df_results[\"task_id\"] = df_results[\"json_response\"].apply(lambda x: x[\"custom_id\"])\n",
    "df_results[\"task_id\"] = df_results[\"task_id\"].apply(lambda x: x.split(\"-\")[1])\n",
    "df_results[\"gpt4o_yes_no\"] = df_results[\"json_response\"].apply(lambda x: x[\"response\"][\"body\"][\"choices\"][0][\"message\"][\"content\"])\n",
    "\n",
    "\n",
    "df_results.to_json(\n",
    "    TASK_RESULT_FILE_NAME_PATH, orient=\"index\"\n",
    ")"
   ]
  },
  {
   "cell_type": "code",
   "execution_count": 17,
   "metadata": {},
   "outputs": [
    {
     "data": {
      "text/html": [
       "<div>\n",
       "<style scoped>\n",
       "    .dataframe tbody tr th:only-of-type {\n",
       "        vertical-align: middle;\n",
       "    }\n",
       "\n",
       "    .dataframe tbody tr th {\n",
       "        vertical-align: top;\n",
       "    }\n",
       "\n",
       "    .dataframe thead th {\n",
       "        text-align: right;\n",
       "    }\n",
       "</style>\n",
       "<table border=\"1\" class=\"dataframe\">\n",
       "  <thead>\n",
       "    <tr style=\"text-align: right;\">\n",
       "      <th></th>\n",
       "      <th>json_response</th>\n",
       "      <th>task_id</th>\n",
       "      <th>gpt4o_yes_no</th>\n",
       "    </tr>\n",
       "  </thead>\n",
       "  <tbody>\n",
       "    <tr>\n",
       "      <th>0</th>\n",
       "      <td>{'id': 'batch_req_679779eee74c8190b840d4b92f50...</td>\n",
       "      <td>0</td>\n",
       "      <td>нет</td>\n",
       "    </tr>\n",
       "    <tr>\n",
       "      <th>1</th>\n",
       "      <td>{'id': 'batch_req_679779eefd548190924faf63afa7...</td>\n",
       "      <td>1</td>\n",
       "      <td>да</td>\n",
       "    </tr>\n",
       "    <tr>\n",
       "      <th>2</th>\n",
       "      <td>{'id': 'batch_req_679779ef155881909d67c0621d40...</td>\n",
       "      <td>2</td>\n",
       "      <td>да</td>\n",
       "    </tr>\n",
       "    <tr>\n",
       "      <th>3</th>\n",
       "      <td>{'id': 'batch_req_679779ef2c148190a374f73b7b29...</td>\n",
       "      <td>3</td>\n",
       "      <td>да</td>\n",
       "    </tr>\n",
       "    <tr>\n",
       "      <th>4</th>\n",
       "      <td>{'id': 'batch_req_679779ef41888190a3b9b01c7b9e...</td>\n",
       "      <td>4</td>\n",
       "      <td>да</td>\n",
       "    </tr>\n",
       "    <tr>\n",
       "      <th>...</th>\n",
       "      <td>...</td>\n",
       "      <td>...</td>\n",
       "      <td>...</td>\n",
       "    </tr>\n",
       "    <tr>\n",
       "      <th>2495</th>\n",
       "      <td>{'id': 'batch_req_67977ad3ce4481909a1be6941fde...</td>\n",
       "      <td>2495</td>\n",
       "      <td>да</td>\n",
       "    </tr>\n",
       "    <tr>\n",
       "      <th>2496</th>\n",
       "      <td>{'id': 'batch_req_67977ad3e39881908f79a458d08a...</td>\n",
       "      <td>2496</td>\n",
       "      <td>да</td>\n",
       "    </tr>\n",
       "    <tr>\n",
       "      <th>2497</th>\n",
       "      <td>{'id': 'batch_req_67977ad3fa54819087e0ebccc11c...</td>\n",
       "      <td>2497</td>\n",
       "      <td>да</td>\n",
       "    </tr>\n",
       "    <tr>\n",
       "      <th>2498</th>\n",
       "      <td>{'id': 'batch_req_67977ad40fbc8190819845318658...</td>\n",
       "      <td>2498</td>\n",
       "      <td>да</td>\n",
       "    </tr>\n",
       "    <tr>\n",
       "      <th>2499</th>\n",
       "      <td>{'id': 'batch_req_67977ad425fc8190afa188ba9043...</td>\n",
       "      <td>2499</td>\n",
       "      <td>да</td>\n",
       "    </tr>\n",
       "  </tbody>\n",
       "</table>\n",
       "<p>2500 rows × 3 columns</p>\n",
       "</div>"
      ],
      "text/plain": [
       "                                          json_response task_id gpt4o_yes_no\n",
       "0     {'id': 'batch_req_679779eee74c8190b840d4b92f50...       0          нет\n",
       "1     {'id': 'batch_req_679779eefd548190924faf63afa7...       1           да\n",
       "2     {'id': 'batch_req_679779ef155881909d67c0621d40...       2           да\n",
       "3     {'id': 'batch_req_679779ef2c148190a374f73b7b29...       3           да\n",
       "4     {'id': 'batch_req_679779ef41888190a3b9b01c7b9e...       4           да\n",
       "...                                                 ...     ...          ...\n",
       "2495  {'id': 'batch_req_67977ad3ce4481909a1be6941fde...    2495           да\n",
       "2496  {'id': 'batch_req_67977ad3e39881908f79a458d08a...    2496           да\n",
       "2497  {'id': 'batch_req_67977ad3fa54819087e0ebccc11c...    2497           да\n",
       "2498  {'id': 'batch_req_67977ad40fbc8190819845318658...    2498           да\n",
       "2499  {'id': 'batch_req_67977ad425fc8190afa188ba9043...    2499           да\n",
       "\n",
       "[2500 rows x 3 columns]"
      ]
     },
     "execution_count": 17,
     "metadata": {},
     "output_type": "execute_result"
    }
   ],
   "source": [
    "df_results"
   ]
  },
  {
   "cell_type": "code",
   "execution_count": 18,
   "metadata": {},
   "outputs": [
    {
     "data": {
      "text/plain": [
       "да         1665\n",
       "нет         813\n",
       "не знаю      13\n",
       "Да.           5\n",
       "Нет.          4\n",
       "Name: gpt4o_yes_no, dtype: int64"
      ]
     },
     "execution_count": 18,
     "metadata": {},
     "output_type": "execute_result"
    }
   ],
   "source": [
    "df_results[\"gpt4o_yes_no\"].value_counts()"
   ]
  },
  {
   "cell_type": "code",
   "execution_count": null,
   "metadata": {},
   "outputs": [],
   "source": []
  }
 ],
 "metadata": {
  "kernelspec": {
   "display_name": "general_venv",
   "language": "python",
   "name": "python3"
  },
  "language_info": {
   "codemirror_mode": {
    "name": "ipython",
    "version": 3
   },
   "file_extension": ".py",
   "mimetype": "text/x-python",
   "name": "python",
   "nbconvert_exporter": "python",
   "pygments_lexer": "ipython3",
   "version": "3.10.12"
  }
 },
 "nbformat": 4,
 "nbformat_minor": 2
}
