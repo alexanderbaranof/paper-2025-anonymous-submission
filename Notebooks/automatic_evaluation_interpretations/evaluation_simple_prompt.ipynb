{
 "cells": [
  {
   "cell_type": "code",
   "execution_count": 1,
   "metadata": {},
   "outputs": [],
   "source": [
    "import os\n",
    "\n",
    "import re\n",
    "import pymorphy2\n",
    "from typing import List\n",
    "\n",
    "import pandas as pd"
   ]
  },
  {
   "cell_type": "code",
   "execution_count": 2,
   "metadata": {},
   "outputs": [],
   "source": [
    "# configs\n",
    "PROJECT_PATH = \"/home/alex/paper-2025-anonymous-submission\""
   ]
  },
  {
   "cell_type": "code",
   "execution_count": 3,
   "metadata": {},
   "outputs": [
    {
     "name": "stderr",
     "output_type": "stream",
     "text": [
      "/home/alex/aspirantura_hse/general_venv/lib/python3.10/site-packages/pandas/core/tools/datetimes.py:557: RuntimeWarning: invalid value encountered in cast\n",
      "  arr, tz_parsed = tslib.array_with_unit_to_datetime(arg, unit, errors=errors)\n",
      "/home/alex/aspirantura_hse/general_venv/lib/python3.10/site-packages/pandas/core/tools/datetimes.py:557: RuntimeWarning: invalid value encountered in cast\n",
      "  arr, tz_parsed = tslib.array_with_unit_to_datetime(arg, unit, errors=errors)\n"
     ]
    }
   ],
   "source": [
    "dataset = pd.read_json(\n",
    "    os.path.join(\n",
    "        PROJECT_PATH,\n",
    "        \"Data/processed_data/dataset.json\"\n",
    "    ),\n",
    "    orient=\"index\"\n",
    ")"
   ]
  },
  {
   "cell_type": "code",
   "execution_count": 4,
   "metadata": {},
   "outputs": [],
   "source": [
    "df_gigachat_lite = pd.read_json(\n",
    "    os.path.join(\n",
    "        PROJECT_PATH,\n",
    "        \"Data/predictions/wordplay_interpretation_gigachat_lite_predictions.json\"\n",
    "    ),\n",
    "    orient=\"index\"\n",
    ")"
   ]
  },
  {
   "cell_type": "code",
   "execution_count": null,
   "metadata": {},
   "outputs": [
    {
     "data": {
      "text/html": [
       "<div>\n",
       "<style scoped>\n",
       "    .dataframe tbody tr th:only-of-type {\n",
       "        vertical-align: middle;\n",
       "    }\n",
       "\n",
       "    .dataframe tbody tr th {\n",
       "        vertical-align: top;\n",
       "    }\n",
       "\n",
       "    .dataframe thead th {\n",
       "        text-align: right;\n",
       "    }\n",
       "</style>\n",
       "<table border=\"1\" class=\"dataframe\">\n",
       "  <thead>\n",
       "    <tr style=\"text-align: right;\">\n",
       "      <th></th>\n",
       "      <th>user_prompt</th>\n",
       "      <th>system_prompt</th>\n",
       "      <th>gigachat_lite_preds</th>\n",
       "    </tr>\n",
       "  </thead>\n",
       "  <tbody>\n",
       "    <tr>\n",
       "      <th>51</th>\n",
       "      <td>Заголовок новости: Смартфоны в танталовых мука...</td>\n",
       "      <td>\\nПроанализируй заголовок новости в контексте ...</td>\n",
       "      <td>В заголовке новости \"Смартфоны в танталовых му...</td>\n",
       "    </tr>\n",
       "  </tbody>\n",
       "</table>\n",
       "</div>"
      ],
      "text/plain": [
       "                                          user_prompt  \\\n",
       "51  Заголовок новости: Смартфоны в танталовых мука...   \n",
       "\n",
       "                                        system_prompt  \\\n",
       "51  \\nПроанализируй заголовок новости в контексте ...   \n",
       "\n",
       "                                  gigachat_lite_preds  \n",
       "51  В заголовке новости \"Смартфоны в танталовых му...  "
      ]
     },
     "execution_count": 5,
     "metadata": {},
     "output_type": "execute_result"
    }
   ],
   "source": [
    "df_gigachat_lite.sample(1)"
   ]
  },
  {
   "cell_type": "code",
   "execution_count": 6,
   "metadata": {},
   "outputs": [],
   "source": [
    "df_gigachat_max = pd.read_json(\n",
    "    os.path.join(\n",
    "        PROJECT_PATH,\n",
    "        \"Data/predictions/wordplay_interpretation_gigachat_max_predictions.json\"\n",
    "    ),\n",
    "    orient=\"index\"\n",
    ")"
   ]
  },
  {
   "cell_type": "code",
   "execution_count": 7,
   "metadata": {},
   "outputs": [],
   "source": [
    "df_gigachat_max[\"gigachat_max_pred\"].fillna(\"что-то в вашем вопросе меня смущает.\", inplace=True)"
   ]
  },
  {
   "cell_type": "code",
   "execution_count": 8,
   "metadata": {},
   "outputs": [
    {
     "data": {
      "text/html": [
       "<div>\n",
       "<style scoped>\n",
       "    .dataframe tbody tr th:only-of-type {\n",
       "        vertical-align: middle;\n",
       "    }\n",
       "\n",
       "    .dataframe tbody tr th {\n",
       "        vertical-align: top;\n",
       "    }\n",
       "\n",
       "    .dataframe thead th {\n",
       "        text-align: right;\n",
       "    }\n",
       "</style>\n",
       "<table border=\"1\" class=\"dataframe\">\n",
       "  <thead>\n",
       "    <tr style=\"text-align: right;\">\n",
       "      <th></th>\n",
       "      <th>user_prompt</th>\n",
       "      <th>system_prompt</th>\n",
       "      <th>gigachat_max_pred</th>\n",
       "    </tr>\n",
       "  </thead>\n",
       "  <tbody>\n",
       "    <tr>\n",
       "      <th>1025</th>\n",
       "      <td>Заголовок новости: Главное не Таврида, а участ...</td>\n",
       "      <td>\\nПроанализируй заголовок новости в контексте ...</td>\n",
       "      <td>что-то в вашем вопросе меня смущает. может, по...</td>\n",
       "    </tr>\n",
       "  </tbody>\n",
       "</table>\n",
       "</div>"
      ],
      "text/plain": [
       "                                            user_prompt  \\\n",
       "1025  Заголовок новости: Главное не Таврида, а участ...   \n",
       "\n",
       "                                          system_prompt  \\\n",
       "1025  \\nПроанализируй заголовок новости в контексте ...   \n",
       "\n",
       "                                      gigachat_max_pred  \n",
       "1025  что-то в вашем вопросе меня смущает. может, по...  "
      ]
     },
     "execution_count": 8,
     "metadata": {},
     "output_type": "execute_result"
    }
   ],
   "source": [
    "df_gigachat_max.sample(1)"
   ]
  },
  {
   "cell_type": "code",
   "execution_count": 9,
   "metadata": {},
   "outputs": [],
   "source": [
    "df_yagpt = pd.read_json(\n",
    "    os.path.join(\n",
    "        PROJECT_PATH,\n",
    "        \"Data/predictions/wordplay_interpretation_yandex_gpt4_predictions.json\"\n",
    "    ),\n",
    "    orient=\"index\"\n",
    ")"
   ]
  },
  {
   "cell_type": "code",
   "execution_count": 10,
   "metadata": {},
   "outputs": [
    {
     "data": {
      "text/html": [
       "<div>\n",
       "<style scoped>\n",
       "    .dataframe tbody tr th:only-of-type {\n",
       "        vertical-align: middle;\n",
       "    }\n",
       "\n",
       "    .dataframe tbody tr th {\n",
       "        vertical-align: top;\n",
       "    }\n",
       "\n",
       "    .dataframe thead th {\n",
       "        text-align: right;\n",
       "    }\n",
       "</style>\n",
       "<table border=\"1\" class=\"dataframe\">\n",
       "  <thead>\n",
       "    <tr style=\"text-align: right;\">\n",
       "      <th></th>\n",
       "      <th>user_prompt</th>\n",
       "      <th>system_prompt</th>\n",
       "      <th>yagpt_pred</th>\n",
       "    </tr>\n",
       "  </thead>\n",
       "  <tbody>\n",
       "    <tr>\n",
       "      <th>2042</th>\n",
       "      <td>Заголовок новости: И за бот ее бросает. Cодерж...</td>\n",
       "      <td>\\nПроанализируй заголовок новости в контексте ...</td>\n",
       "      <td>в заголовке нет игры слов. это перефразированн...</td>\n",
       "    </tr>\n",
       "  </tbody>\n",
       "</table>\n",
       "</div>"
      ],
      "text/plain": [
       "                                            user_prompt  \\\n",
       "2042  Заголовок новости: И за бот ее бросает. Cодерж...   \n",
       "\n",
       "                                          system_prompt  \\\n",
       "2042  \\nПроанализируй заголовок новости в контексте ...   \n",
       "\n",
       "                                             yagpt_pred  \n",
       "2042  в заголовке нет игры слов. это перефразированн...  "
      ]
     },
     "execution_count": 10,
     "metadata": {},
     "output_type": "execute_result"
    }
   ],
   "source": [
    "df_yagpt.sample(1)"
   ]
  },
  {
   "cell_type": "code",
   "execution_count": 11,
   "metadata": {},
   "outputs": [],
   "source": [
    "df_mistral = pd.read_json(\n",
    "    os.path.join(\n",
    "        PROJECT_PATH,\n",
    "        \"Data/predictions/wordplay_interpretation_mistral_nemo_predictions.json\"\n",
    "    ),\n",
    "    orient=\"index\"\n",
    ")\n",
    "\n",
    "def clear_mistral_prediction(text_pred):\n",
    "    \n",
    "    text = text_pred[0][\"generated_text\"][-1][\"content\"]\n",
    "\n",
    "    return text\n",
    "\n",
    "df_mistral[\"mistral_nemo_preds\"] = df_mistral[\"mistral_nemo_preds\"].apply(clear_mistral_prediction)"
   ]
  },
  {
   "cell_type": "code",
   "execution_count": 12,
   "metadata": {},
   "outputs": [
    {
     "data": {
      "text/html": [
       "<div>\n",
       "<style scoped>\n",
       "    .dataframe tbody tr th:only-of-type {\n",
       "        vertical-align: middle;\n",
       "    }\n",
       "\n",
       "    .dataframe tbody tr th {\n",
       "        vertical-align: top;\n",
       "    }\n",
       "\n",
       "    .dataframe thead th {\n",
       "        text-align: right;\n",
       "    }\n",
       "</style>\n",
       "<table border=\"1\" class=\"dataframe\">\n",
       "  <thead>\n",
       "    <tr style=\"text-align: right;\">\n",
       "      <th></th>\n",
       "      <th>user_prompt</th>\n",
       "      <th>system_prompt</th>\n",
       "      <th>mistral_nemo_preds</th>\n",
       "    </tr>\n",
       "  </thead>\n",
       "  <tbody>\n",
       "    <tr>\n",
       "      <th>2240</th>\n",
       "      <td>Заголовок новости: У коронавируса плохи аутоан...</td>\n",
       "      <td>\\nПроанализируй заголовок новости в контексте ...</td>\n",
       "      <td>В заголовке новости \"У коронавируса плохи ауто...</td>\n",
       "    </tr>\n",
       "  </tbody>\n",
       "</table>\n",
       "</div>"
      ],
      "text/plain": [
       "                                            user_prompt  \\\n",
       "2240  Заголовок новости: У коронавируса плохи аутоан...   \n",
       "\n",
       "                                          system_prompt  \\\n",
       "2240  \\nПроанализируй заголовок новости в контексте ...   \n",
       "\n",
       "                                     mistral_nemo_preds  \n",
       "2240  В заголовке новости \"У коронавируса плохи ауто...  "
      ]
     },
     "execution_count": 12,
     "metadata": {},
     "output_type": "execute_result"
    }
   ],
   "source": [
    "df_mistral.sample(1)"
   ]
  },
  {
   "cell_type": "code",
   "execution_count": 13,
   "metadata": {},
   "outputs": [],
   "source": [
    "df_gpt4o = pd.read_json(\n",
    "    os.path.join(\n",
    "        PROJECT_PATH,\n",
    "        \"Data/predictions/wordplay_interpretation_gpt_4o_predictions.json\"\n",
    "    ),\n",
    "    orient=\"index\"\n",
    ")"
   ]
  },
  {
   "cell_type": "code",
   "execution_count": 14,
   "metadata": {},
   "outputs": [
    {
     "data": {
      "text/html": [
       "<div>\n",
       "<style scoped>\n",
       "    .dataframe tbody tr th:only-of-type {\n",
       "        vertical-align: middle;\n",
       "    }\n",
       "\n",
       "    .dataframe tbody tr th {\n",
       "        vertical-align: top;\n",
       "    }\n",
       "\n",
       "    .dataframe thead th {\n",
       "        text-align: right;\n",
       "    }\n",
       "</style>\n",
       "<table border=\"1\" class=\"dataframe\">\n",
       "  <thead>\n",
       "    <tr style=\"text-align: right;\">\n",
       "      <th></th>\n",
       "      <th>json_response</th>\n",
       "      <th>task_id</th>\n",
       "      <th>gpt4o_explain</th>\n",
       "    </tr>\n",
       "  </thead>\n",
       "  <tbody>\n",
       "    <tr>\n",
       "      <th>780</th>\n",
       "      <td>{'id': 'batch_req_6796a6a9b0408190b7bf10c1ec0a...</td>\n",
       "      <td>780</td>\n",
       "      <td>в заголовке нет игры слов</td>\n",
       "    </tr>\n",
       "  </tbody>\n",
       "</table>\n",
       "</div>"
      ],
      "text/plain": [
       "                                         json_response  task_id  \\\n",
       "780  {'id': 'batch_req_6796a6a9b0408190b7bf10c1ec0a...      780   \n",
       "\n",
       "                 gpt4o_explain  \n",
       "780  в заголовке нет игры слов  "
      ]
     },
     "execution_count": 14,
     "metadata": {},
     "output_type": "execute_result"
    }
   ],
   "source": [
    "df_gpt4o.sample(1)"
   ]
  },
  {
   "cell_type": "code",
   "execution_count": 15,
   "metadata": {},
   "outputs": [],
   "source": [
    "dataset = pd.merge(dataset, df_gigachat_lite[[\"gigachat_lite_preds\"]], left_index=True, right_index=True)\n",
    "dataset = pd.merge(dataset, df_gigachat_max[[\"gigachat_max_pred\"]], left_index=True, right_index=True)\n",
    "dataset = pd.merge(dataset, df_yagpt[[\"yagpt_pred\"]], left_index=True, right_index=True)\n",
    "dataset = pd.merge(dataset, df_mistral[[\"mistral_nemo_preds\"]], left_index=True, right_index=True)\n",
    "dataset = pd.merge(dataset, df_gpt4o[[\"gpt4o_explain\"]], left_index=True, right_index=True)"
   ]
  },
  {
   "cell_type": "code",
   "execution_count": 16,
   "metadata": {},
   "outputs": [
    {
     "data": {
      "text/html": [
       "<div>\n",
       "<style scoped>\n",
       "    .dataframe tbody tr th:only-of-type {\n",
       "        vertical-align: middle;\n",
       "    }\n",
       "\n",
       "    .dataframe tbody tr th {\n",
       "        vertical-align: top;\n",
       "    }\n",
       "\n",
       "    .dataframe thead th {\n",
       "        text-align: right;\n",
       "    }\n",
       "</style>\n",
       "<table border=\"1\" class=\"dataframe\">\n",
       "  <thead>\n",
       "    <tr style=\"text-align: right;\">\n",
       "      <th></th>\n",
       "      <th>annotations</th>\n",
       "      <th>summary</th>\n",
       "      <th>is_word_play</th>\n",
       "      <th>date</th>\n",
       "      <th>article_url</th>\n",
       "      <th>headline</th>\n",
       "      <th>lead</th>\n",
       "      <th>gigachat_lite_preds</th>\n",
       "      <th>gigachat_max_pred</th>\n",
       "      <th>yagpt_pred</th>\n",
       "      <th>mistral_nemo_preds</th>\n",
       "      <th>gpt4o_explain</th>\n",
       "    </tr>\n",
       "  </thead>\n",
       "  <tbody>\n",
       "    <tr>\n",
       "      <th>0</th>\n",
       "      <td>None</td>\n",
       "      <td>Жилищный нацпроект помимо количественных целей...</td>\n",
       "      <td>False</td>\n",
       "      <td>2021-12-16</td>\n",
       "      <td>https://www.kommersant.ru/doc/5130217</td>\n",
       "      <td>Комфортная среда</td>\n",
       "      <td>Городскую среду улучшают с учетом мнения жителей</td>\n",
       "      <td>В данном заголовке нет игры слов. Он просто ин...</td>\n",
       "      <td>в заголовке нет игры слов.</td>\n",
       "      <td>в заголовке нет игры слов. заголовок «комфортн...</td>\n",
       "      <td>В заголовке новости \"Комфортная среда\" нет игр...</td>\n",
       "      <td>в заголовке нет игры слов</td>\n",
       "    </tr>\n",
       "  </tbody>\n",
       "</table>\n",
       "</div>"
      ],
      "text/plain": [
       "  annotations                                            summary  \\\n",
       "0        None  Жилищный нацпроект помимо количественных целей...   \n",
       "\n",
       "   is_word_play       date                            article_url  \\\n",
       "0         False 2021-12-16  https://www.kommersant.ru/doc/5130217   \n",
       "\n",
       "           headline                                              lead  \\\n",
       "0  Комфортная среда  Городскую среду улучшают с учетом мнения жителей   \n",
       "\n",
       "                                 gigachat_lite_preds  \\\n",
       "0  В данном заголовке нет игры слов. Он просто ин...   \n",
       "\n",
       "            gigachat_max_pred  \\\n",
       "0  в заголовке нет игры слов.   \n",
       "\n",
       "                                          yagpt_pred  \\\n",
       "0  в заголовке нет игры слов. заголовок «комфортн...   \n",
       "\n",
       "                                  mistral_nemo_preds  \\\n",
       "0  В заголовке новости \"Комфортная среда\" нет игр...   \n",
       "\n",
       "               gpt4o_explain  \n",
       "0  в заголовке нет игры слов  "
      ]
     },
     "execution_count": 16,
     "metadata": {},
     "output_type": "execute_result"
    }
   ],
   "source": [
    "dataset.head(1)"
   ]
  },
  {
   "cell_type": "code",
   "execution_count": 17,
   "metadata": {},
   "outputs": [],
   "source": [
    "dataset[\"deepseak_explain\"] = [\"какой то текст для объяснения\" for _ in range(len(dataset))]"
   ]
  },
  {
   "cell_type": "code",
   "execution_count": 18,
   "metadata": {},
   "outputs": [],
   "source": [
    "dataset = dataset.dropna(subset=[\"annotations\"])"
   ]
  },
  {
   "cell_type": "code",
   "execution_count": 19,
   "metadata": {},
   "outputs": [],
   "source": [
    "def parse_one_annotation(annot):\n",
    "\n",
    "    searcheable_elements = list()\n",
    "    searcheable_links = list()\n",
    "\n",
    "    if isinstance(annot[\"reference_string\"], list):\n",
    "        for i in range(len(annot[\"reference_string\"])):\n",
    "            searcheable_elements.append(\n",
    "                annot[\"reference_string\"][i]\n",
    "            )\n",
    "    elif isinstance(annot[\"reference_string\"], str) and annot[\"reference_string\"].strip() != \"\":\n",
    "        searcheable_elements.append(\n",
    "                annot[\"reference_string\"]\n",
    "        )\n",
    "\n",
    "    if isinstance(annot[\"reference_url\"], list):\n",
    "        for i in range(len(annot[\"reference_url\"])):\n",
    "            searcheable_links.append(\n",
    "                annot[\"reference_url\"][i]\n",
    "            )\n",
    "    elif isinstance(annot[\"reference_url\"], str) and annot[\"reference_url\"].strip() != \"\":\n",
    "        searcheable_links.append(\n",
    "                annot[\"reference_url\"]\n",
    "        )\n",
    "\n",
    "    return searcheable_elements, searcheable_links"
   ]
  },
  {
   "cell_type": "code",
   "execution_count": 20,
   "metadata": {},
   "outputs": [],
   "source": [
    "def extract_searcheable_elements_and_links(annotations):\n",
    "\n",
    "    searcheable_elements = list()\n",
    "    searcheable_links = list()\n",
    "\n",
    "    for annot in annotations:\n",
    "\n",
    "        if isinstance(annot, dict):\n",
    "\n",
    "            tmp_elements, tmp_links = parse_one_annotation(annot)\n",
    "            searcheable_elements.extend(\n",
    "                tmp_elements\n",
    "            )\n",
    "            searcheable_links.extend(\n",
    "                tmp_links\n",
    "            )\n",
    "\n",
    "        elif isinstance(annot, list):\n",
    "\n",
    "            for single_annot in annot:\n",
    "                tmp_elements, tmp_links = parse_one_annotation(single_annot)\n",
    "                searcheable_elements.extend(\n",
    "                    tmp_elements\n",
    "                )\n",
    "                searcheable_links.extend(\n",
    "                    tmp_links\n",
    "                )\n",
    "    \n",
    "    return searcheable_elements, searcheable_links"
   ]
  },
  {
   "cell_type": "code",
   "execution_count": 21,
   "metadata": {},
   "outputs": [],
   "source": [
    "dataset[\"annotations_len\"] = dataset[\"annotations\"].apply(lambda x: len(x))"
   ]
  },
  {
   "cell_type": "code",
   "execution_count": 22,
   "metadata": {},
   "outputs": [],
   "source": [
    "dataset[\"searcheable_elements\"] = dataset[\"annotations\"].apply(lambda x: extract_searcheable_elements_and_links(x)[0])\n",
    "dataset[\"searcheable_links\"] = dataset[\"annotations\"].apply(lambda x: extract_searcheable_elements_and_links(x)[1])"
   ]
  },
  {
   "cell_type": "code",
   "execution_count": 23,
   "metadata": {},
   "outputs": [],
   "source": [
    "dataset[\"searcheable_elements_len\"] = dataset[\"searcheable_elements\"].apply(lambda x: len(x))\n",
    "dataset[\"searcheable_links_len\"] = dataset[\"searcheable_links\"].apply(lambda x: len(x))"
   ]
  },
  {
   "cell_type": "code",
   "execution_count": 24,
   "metadata": {},
   "outputs": [],
   "source": [
    "dataset = dataset.query(\"searcheable_elements_len >= 1 or searcheable_links_len >= 1\")"
   ]
  },
  {
   "cell_type": "code",
   "execution_count": 25,
   "metadata": {},
   "outputs": [],
   "source": [
    "def normalize_link(link):\n",
    "    if \"https://ru.wikipedia.org\" in link:\n",
    "        link = link.split(\"https://ru.wikipedia.org/wiki/\")[1]\n",
    "    elif \"https://ru.wiktionary.org\" in link:\n",
    "        link = link.split(\"https://ru.wiktionary.org/wiki/\")[1]\n",
    "    \n",
    "    if \"#\" in link:\n",
    "        position = link.find(\"#\")\n",
    "        link = link[:position]\n",
    "    \n",
    "    link = re.sub(r'\\(.*?\\)', '', link).strip()\n",
    "\n",
    "    link = re.sub(r'[^a-zA-Zа-яА-ЯёЁ]', ' ', link)\n",
    "    link = re.sub(r'\\s+', ' ', link).strip()\n",
    "\n",
    "    return link.lower()"
   ]
  },
  {
   "cell_type": "code",
   "execution_count": 26,
   "metadata": {},
   "outputs": [],
   "source": [
    "def tokenize(text: str):\n",
    "    return \" \".join(re.findall(r'\\b\\w+\\b', text.lower()))\n",
    "\n",
    "def lemmatize(tokens: str):\n",
    "    tokens = tokens.split(\" \")\n",
    "    morph = pymorphy2.MorphAnalyzer()\n",
    "    return \" \".join([morph.parse(token)[0].normal_form for token in tokens])\n",
    "\n",
    "def normalize_text(text):\n",
    "    tokens = tokenize(text)\n",
    "    lemmas = lemmatize(tokens)\n",
    "    return \" \".join(lemmas)"
   ]
  },
  {
   "cell_type": "code",
   "execution_count": 27,
   "metadata": {},
   "outputs": [],
   "source": [
    "dataset[\"searcheable_elements\"] = dataset[\"searcheable_elements\"].apply(lambda x: [str.lower(t) for t in x])\n",
    "dataset[\"searcheable_elements_tokenized\"] = dataset[\"searcheable_elements\"].apply(lambda x: [tokenize(t) for t in x])\n",
    "dataset[\"searcheable_elements_normalized\"] = dataset[\"searcheable_elements_tokenized\"].apply(lambda x: [lemmatize(t) for t in x])"
   ]
  },
  {
   "cell_type": "code",
   "execution_count": 28,
   "metadata": {},
   "outputs": [],
   "source": [
    "dataset[\"searcheable_links\"] = dataset[\"searcheable_links\"].apply(lambda x: [normalize_link(t) for t in x])\n",
    "dataset[\"searcheable_links\"] = dataset[\"searcheable_links\"].apply(lambda x: [str.lower(t) for t in x])\n",
    "dataset[\"searcheable_links_tokenized\"] = dataset[\"searcheable_links\"].apply(lambda x: [tokenize(t) for t in x])\n",
    "dataset[\"searcheable_links_normalized\"] = dataset[\"searcheable_links_tokenized\"].apply(lambda x: [lemmatize(t) for t in x])"
   ]
  },
  {
   "cell_type": "code",
   "execution_count": 29,
   "metadata": {},
   "outputs": [],
   "source": [
    "dataset[\"searcheable_all\"] = dataset[\"searcheable_elements\"] + dataset[\"searcheable_elements_tokenized\"] + dataset[\"searcheable_elements_normalized\"]"
   ]
  },
  {
   "cell_type": "code",
   "execution_count": 30,
   "metadata": {},
   "outputs": [
    {
     "data": {
      "text/html": [
       "<div>\n",
       "<style scoped>\n",
       "    .dataframe tbody tr th:only-of-type {\n",
       "        vertical-align: middle;\n",
       "    }\n",
       "\n",
       "    .dataframe tbody tr th {\n",
       "        vertical-align: top;\n",
       "    }\n",
       "\n",
       "    .dataframe thead th {\n",
       "        text-align: right;\n",
       "    }\n",
       "</style>\n",
       "<table border=\"1\" class=\"dataframe\">\n",
       "  <thead>\n",
       "    <tr style=\"text-align: right;\">\n",
       "      <th></th>\n",
       "      <th>annotations</th>\n",
       "      <th>summary</th>\n",
       "      <th>is_word_play</th>\n",
       "      <th>date</th>\n",
       "      <th>article_url</th>\n",
       "      <th>headline</th>\n",
       "      <th>lead</th>\n",
       "      <th>gigachat_lite_preds</th>\n",
       "      <th>gigachat_max_pred</th>\n",
       "      <th>yagpt_pred</th>\n",
       "      <th>...</th>\n",
       "      <th>annotations_len</th>\n",
       "      <th>searcheable_elements</th>\n",
       "      <th>searcheable_links</th>\n",
       "      <th>searcheable_elements_len</th>\n",
       "      <th>searcheable_links_len</th>\n",
       "      <th>searcheable_elements_tokenized</th>\n",
       "      <th>searcheable_elements_normalized</th>\n",
       "      <th>searcheable_links_tokenized</th>\n",
       "      <th>searcheable_links_normalized</th>\n",
       "      <th>searcheable_all</th>\n",
       "    </tr>\n",
       "  </thead>\n",
       "  <tbody>\n",
       "    <tr>\n",
       "      <th>2014</th>\n",
       "      <td>[{'headline_substring': 'Дели', 'start_index':...</td>\n",
       "      <td>Саммит лидеров G20 завершился подписанием итог...</td>\n",
       "      <td>True</td>\n",
       "      <td>2023-09-10</td>\n",
       "      <td>https://www.kommersant.ru/doc/6209906</td>\n",
       "      <td>На самом Дели</td>\n",
       "      <td>Что участники саммита G20 предпочли украинской...</td>\n",
       "      <td>В заголовке новости \"На самом Дели\" использует...</td>\n",
       "      <td>что-то в вашем вопросе меня смущает. может, по...</td>\n",
       "      <td>в интернете есть много сайтов с информацией на...</td>\n",
       "      <td>...</td>\n",
       "      <td>2</td>\n",
       "      <td>[деле, на са]</td>\n",
       "      <td>[]</td>\n",
       "      <td>2</td>\n",
       "      <td>0</td>\n",
       "      <td>[деле, на са]</td>\n",
       "      <td>[дело, на са]</td>\n",
       "      <td>[]</td>\n",
       "      <td>[]</td>\n",
       "      <td>[деле, на са, деле, на са, дело, на са]</td>\n",
       "    </tr>\n",
       "  </tbody>\n",
       "</table>\n",
       "<p>1 rows × 23 columns</p>\n",
       "</div>"
      ],
      "text/plain": [
       "                                            annotations  \\\n",
       "2014  [{'headline_substring': 'Дели', 'start_index':...   \n",
       "\n",
       "                                                summary  is_word_play  \\\n",
       "2014  Саммит лидеров G20 завершился подписанием итог...          True   \n",
       "\n",
       "           date                            article_url       headline  \\\n",
       "2014 2023-09-10  https://www.kommersant.ru/doc/6209906  На самом Дели   \n",
       "\n",
       "                                                   lead  \\\n",
       "2014  Что участники саммита G20 предпочли украинской...   \n",
       "\n",
       "                                    gigachat_lite_preds  \\\n",
       "2014  В заголовке новости \"На самом Дели\" использует...   \n",
       "\n",
       "                                      gigachat_max_pred  \\\n",
       "2014  что-то в вашем вопросе меня смущает. может, по...   \n",
       "\n",
       "                                             yagpt_pred  ... annotations_len  \\\n",
       "2014  в интернете есть много сайтов с информацией на...  ...               2   \n",
       "\n",
       "     searcheable_elements searcheable_links  searcheable_elements_len  \\\n",
       "2014        [деле, на са]                []                         2   \n",
       "\n",
       "     searcheable_links_len searcheable_elements_tokenized  \\\n",
       "2014                     0                  [деле, на са]   \n",
       "\n",
       "      searcheable_elements_normalized  searcheable_links_tokenized  \\\n",
       "2014                    [дело, на са]                           []   \n",
       "\n",
       "     searcheable_links_normalized                          searcheable_all  \n",
       "2014                           []  [деле, на са, деле, на са, дело, на са]  \n",
       "\n",
       "[1 rows x 23 columns]"
      ]
     },
     "execution_count": 30,
     "metadata": {},
     "output_type": "execute_result"
    }
   ],
   "source": [
    "dataset.query(\n",
    "    \"article_url == 'https://www.kommersant.ru/doc/6209906'\"\n",
    ")"
   ]
  },
  {
   "cell_type": "code",
   "execution_count": 31,
   "metadata": {},
   "outputs": [],
   "source": [
    "def do_search(searcheable_elements, all_texts):\n",
    "    \n",
    "    results = list()\n",
    "\n",
    "    assert isinstance(all_texts, list)\n",
    "    assert len(all_texts) == 3\n",
    "\n",
    "    for elem in searcheable_elements:\n",
    "        for text in all_texts:\n",
    "            results.append(\n",
    "                str.find(text, elem)\n",
    "            )\n",
    "    return results"
   ]
  },
  {
   "cell_type": "code",
   "execution_count": 32,
   "metadata": {},
   "outputs": [],
   "source": [
    "EXPLIAN_COLUMNS = [\"deepseak_explain\", \"gigachat_lite_preds\", \"gigachat_max_pred\", \"yagpt_pred\", \"mistral_nemo_preds\", \"gpt4o_explain\"]\n",
    "\n",
    "for explain_column in EXPLIAN_COLUMNS:\n",
    "    dataset[f\"{explain_column}\"] = dataset[f\"{explain_column}\"].apply(lambda x: str.lower(x))\n",
    "    dataset[f\"{explain_column}_tokenized\"] = dataset[f\"{explain_column}\"].apply(lambda x: tokenize(x))\n",
    "    dataset[f\"{explain_column}_normalized\"] = dataset[f\"{explain_column}_tokenized\"].apply(lambda x: lemmatize(x))\n",
    "    dataset[f\"{explain_column}\"] = dataset[f\"{explain_column}\"].apply(lambda x: [x])\n",
    "    dataset[f\"{explain_column}_tokenized\"] = dataset[f\"{explain_column}_tokenized\"].apply(lambda x: [x])\n",
    "    dataset[f\"{explain_column}_normalized\"] = dataset[f\"{explain_column}_normalized\"].apply(lambda x: [x])\n",
    "    dataset[f\"{explain_column}_all\"] = dataset[f\"{explain_column}\"] + dataset[f\"{explain_column}_tokenized\"] + dataset[f\"{explain_column}_normalized\"]\n",
    "\n",
    "    dataset[f\"{explain_column}_search_results\"] = dataset.apply(lambda row: do_search(row[\"searcheable_all\"], row[f\"{explain_column}_all\"]), axis=1)\n",
    "    dataset[f\"{explain_column}_search_results\"] = dataset[f\"{explain_column}_search_results\"].apply(lambda x: max(x))\n",
    "\n",
    "    dataset[f\"{explain_column}_search_results\"] = dataset[f\"{explain_column}_search_results\"].apply(lambda x: True if x >= 0 else False)\n",
    "\n",
    "\n"
   ]
  },
  {
   "cell_type": "code",
   "execution_count": 33,
   "metadata": {},
   "outputs": [
    {
     "data": {
      "text/html": [
       "<div>\n",
       "<style scoped>\n",
       "    .dataframe tbody tr th:only-of-type {\n",
       "        vertical-align: middle;\n",
       "    }\n",
       "\n",
       "    .dataframe tbody tr th {\n",
       "        vertical-align: top;\n",
       "    }\n",
       "\n",
       "    .dataframe thead th {\n",
       "        text-align: right;\n",
       "    }\n",
       "</style>\n",
       "<table border=\"1\" class=\"dataframe\">\n",
       "  <thead>\n",
       "    <tr style=\"text-align: right;\">\n",
       "      <th></th>\n",
       "      <th>annotations</th>\n",
       "      <th>summary</th>\n",
       "      <th>is_word_play</th>\n",
       "      <th>date</th>\n",
       "      <th>article_url</th>\n",
       "      <th>headline</th>\n",
       "      <th>lead</th>\n",
       "      <th>gigachat_lite_preds</th>\n",
       "      <th>gigachat_max_pred</th>\n",
       "      <th>yagpt_pred</th>\n",
       "      <th>...</th>\n",
       "      <th>yagpt_pred_all</th>\n",
       "      <th>yagpt_pred_search_results</th>\n",
       "      <th>mistral_nemo_preds_tokenized</th>\n",
       "      <th>mistral_nemo_preds_normalized</th>\n",
       "      <th>mistral_nemo_preds_all</th>\n",
       "      <th>mistral_nemo_preds_search_results</th>\n",
       "      <th>gpt4o_explain_tokenized</th>\n",
       "      <th>gpt4o_explain_normalized</th>\n",
       "      <th>gpt4o_explain_all</th>\n",
       "      <th>gpt4o_explain_search_results</th>\n",
       "    </tr>\n",
       "  </thead>\n",
       "  <tbody>\n",
       "    <tr>\n",
       "      <th>1754</th>\n",
       "      <td>[{'headline_substring': 'Все подается в сравне...</td>\n",
       "      <td>“Ъ” ознакомился с рекомендациями по работе с и...</td>\n",
       "      <td>True</td>\n",
       "      <td>2022-11-07</td>\n",
       "      <td>https://www.kommersant.ru/doc/5457819</td>\n",
       "      <td>Все подается в сравнении</td>\n",
       "      <td>Единороссам посоветовали найти аналогии между ...</td>\n",
       "      <td>[в данном заголовке присутствует игра слов. \\n...</td>\n",
       "      <td>[не люблю менять тему разговора, но вот сейчас...</td>\n",
       "      <td>[в интернете есть много сайтов с информацией н...</td>\n",
       "      <td>...</td>\n",
       "      <td>[в интернете есть много сайтов с информацией н...</td>\n",
       "      <td>False</td>\n",
       "      <td>[в заголовке новости все подается в сравнении ...</td>\n",
       "      <td>[в заголовок новость всё подаваться в сравнени...</td>\n",
       "      <td>[в заголовке новости \"все подается в сравнении...</td>\n",
       "      <td>False</td>\n",
       "      <td>[в заголовке нет игры слов]</td>\n",
       "      <td>[в заголовок нет игра слово]</td>\n",
       "      <td>[в заголовке нет игры слов, в заголовке нет иг...</td>\n",
       "      <td>False</td>\n",
       "    </tr>\n",
       "    <tr>\n",
       "      <th>2142</th>\n",
       "      <td>[{'headline_substring': 'Заражен и особо конта...</td>\n",
       "      <td>Московская мэрия потратит 175 млн руб. на моде...</td>\n",
       "      <td>True</td>\n",
       "      <td>2021-01-10</td>\n",
       "      <td>https://www.kommersant.ru/doc/5009292</td>\n",
       "      <td>Заражен и особо контактен</td>\n",
       "      <td>Московская мэрия будет тщательнее следить за б...</td>\n",
       "      <td>[в данном заголовке нет игры слов.&lt;|message_se...</td>\n",
       "      <td>[в заголовке нет игры слов.]</td>\n",
       "      <td>[в заголовке нет игры слов.]</td>\n",
       "      <td>...</td>\n",
       "      <td>[в заголовке нет игры слов., в заголовке нет и...</td>\n",
       "      <td>False</td>\n",
       "      <td>[в заголовке новости есть игра слов слово конт...</td>\n",
       "      <td>[в заголовок новость есть игра слово слово кон...</td>\n",
       "      <td>[в заголовке новости есть игра слов. слово \"ко...</td>\n",
       "      <td>False</td>\n",
       "      <td>[в заголовке нет игры слов]</td>\n",
       "      <td>[в заголовок нет игра слово]</td>\n",
       "      <td>[в заголовке нет игры слов, в заголовке нет иг...</td>\n",
       "      <td>False</td>\n",
       "    </tr>\n",
       "  </tbody>\n",
       "</table>\n",
       "<p>2 rows × 47 columns</p>\n",
       "</div>"
      ],
      "text/plain": [
       "                                            annotations  \\\n",
       "1754  [{'headline_substring': 'Все подается в сравне...   \n",
       "2142  [{'headline_substring': 'Заражен и особо конта...   \n",
       "\n",
       "                                                summary  is_word_play  \\\n",
       "1754  “Ъ” ознакомился с рекомендациями по работе с и...          True   \n",
       "2142  Московская мэрия потратит 175 млн руб. на моде...          True   \n",
       "\n",
       "           date                            article_url  \\\n",
       "1754 2022-11-07  https://www.kommersant.ru/doc/5457819   \n",
       "2142 2021-01-10  https://www.kommersant.ru/doc/5009292   \n",
       "\n",
       "                       headline  \\\n",
       "1754   Все подается в сравнении   \n",
       "2142  Заражен и особо контактен   \n",
       "\n",
       "                                                   lead  \\\n",
       "1754  Единороссам посоветовали найти аналогии между ...   \n",
       "2142  Московская мэрия будет тщательнее следить за б...   \n",
       "\n",
       "                                    gigachat_lite_preds  \\\n",
       "1754  [в данном заголовке присутствует игра слов. \\n...   \n",
       "2142  [в данном заголовке нет игры слов.<|message_se...   \n",
       "\n",
       "                                      gigachat_max_pred  \\\n",
       "1754  [не люблю менять тему разговора, но вот сейчас...   \n",
       "2142                       [в заголовке нет игры слов.]   \n",
       "\n",
       "                                             yagpt_pred  ...  \\\n",
       "1754  [в интернете есть много сайтов с информацией н...  ...   \n",
       "2142                       [в заголовке нет игры слов.]  ...   \n",
       "\n",
       "                                         yagpt_pred_all  \\\n",
       "1754  [в интернете есть много сайтов с информацией н...   \n",
       "2142  [в заголовке нет игры слов., в заголовке нет и...   \n",
       "\n",
       "     yagpt_pred_search_results  \\\n",
       "1754                     False   \n",
       "2142                     False   \n",
       "\n",
       "                           mistral_nemo_preds_tokenized  \\\n",
       "1754  [в заголовке новости все подается в сравнении ...   \n",
       "2142  [в заголовке новости есть игра слов слово конт...   \n",
       "\n",
       "                          mistral_nemo_preds_normalized  \\\n",
       "1754  [в заголовок новость всё подаваться в сравнени...   \n",
       "2142  [в заголовок новость есть игра слово слово кон...   \n",
       "\n",
       "                                 mistral_nemo_preds_all  \\\n",
       "1754  [в заголовке новости \"все подается в сравнении...   \n",
       "2142  [в заголовке новости есть игра слов. слово \"ко...   \n",
       "\n",
       "     mistral_nemo_preds_search_results      gpt4o_explain_tokenized  \\\n",
       "1754                             False  [в заголовке нет игры слов]   \n",
       "2142                             False  [в заголовке нет игры слов]   \n",
       "\n",
       "          gpt4o_explain_normalized  \\\n",
       "1754  [в заголовок нет игра слово]   \n",
       "2142  [в заголовок нет игра слово]   \n",
       "\n",
       "                                      gpt4o_explain_all  \\\n",
       "1754  [в заголовке нет игры слов, в заголовке нет иг...   \n",
       "2142  [в заголовке нет игры слов, в заголовке нет иг...   \n",
       "\n",
       "     gpt4o_explain_search_results  \n",
       "1754                        False  \n",
       "2142                        False  \n",
       "\n",
       "[2 rows x 47 columns]"
      ]
     },
     "execution_count": 33,
     "metadata": {},
     "output_type": "execute_result"
    }
   ],
   "source": [
    "dataset.sample(2)"
   ]
  },
  {
   "cell_type": "code",
   "execution_count": 35,
   "metadata": {},
   "outputs": [
    {
     "data": {
      "text/plain": [
       "deepseak_explain_search_results       0.000968\n",
       "gigachat_lite_preds_search_results    0.167473\n",
       "gigachat_max_pred_search_results      0.140368\n",
       "yagpt_pred_search_results             0.167473\n",
       "mistral_nemo_preds_search_results     0.232333\n",
       "gpt4o_explain_search_results          0.238141\n",
       "dtype: float64"
      ]
     },
     "execution_count": 35,
     "metadata": {},
     "output_type": "execute_result"
    }
   ],
   "source": [
    "dataset[[f\"{t}_search_results\" for t in EXPLIAN_COLUMNS]].sum() / len(dataset)"
   ]
  },
  {
   "cell_type": "code",
   "execution_count": null,
   "metadata": {},
   "outputs": [],
   "source": []
  }
 ],
 "metadata": {
  "kernelspec": {
   "display_name": "general_venv",
   "language": "python",
   "name": "python3"
  },
  "language_info": {
   "codemirror_mode": {
    "name": "ipython",
    "version": 3
   },
   "file_extension": ".py",
   "mimetype": "text/x-python",
   "name": "python",
   "nbconvert_exporter": "python",
   "pygments_lexer": "ipython3",
   "version": "3.10.12"
  }
 },
 "nbformat": 4,
 "nbformat_minor": 2
}
