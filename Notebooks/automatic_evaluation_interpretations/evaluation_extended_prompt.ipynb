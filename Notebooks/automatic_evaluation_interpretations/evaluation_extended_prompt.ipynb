{
 "cells": [
  {
   "cell_type": "code",
   "execution_count": 1,
   "metadata": {},
   "outputs": [],
   "source": [
    "import os\n",
    "\n",
    "import re\n",
    "import pymorphy2\n",
    "from typing import List\n",
    "\n",
    "import pandas as pd"
   ]
  },
  {
   "cell_type": "code",
   "execution_count": 2,
   "metadata": {},
   "outputs": [],
   "source": [
    "# configs\n",
    "PROJECT_PATH = \"/home/alex/paper-2025-anonymous-submission\""
   ]
  },
  {
   "cell_type": "code",
   "execution_count": 3,
   "metadata": {},
   "outputs": [
    {
     "name": "stderr",
     "output_type": "stream",
     "text": [
      "/home/alex/aspirantura_hse/general_venv/lib/python3.10/site-packages/pandas/core/tools/datetimes.py:557: RuntimeWarning: invalid value encountered in cast\n",
      "  arr, tz_parsed = tslib.array_with_unit_to_datetime(arg, unit, errors=errors)\n",
      "/home/alex/aspirantura_hse/general_venv/lib/python3.10/site-packages/pandas/core/tools/datetimes.py:557: RuntimeWarning: invalid value encountered in cast\n",
      "  arr, tz_parsed = tslib.array_with_unit_to_datetime(arg, unit, errors=errors)\n"
     ]
    }
   ],
   "source": [
    "dataset = pd.read_json(\n",
    "    os.path.join(\n",
    "        PROJECT_PATH,\n",
    "        \"Data/processed_data/dataset.json\"\n",
    "    ),\n",
    "    orient=\"index\"\n",
    ")"
   ]
  },
  {
   "cell_type": "code",
   "execution_count": 4,
   "metadata": {},
   "outputs": [],
   "source": [
    "df_gigachat_lite = pd.read_json(\n",
    "    os.path.join(\n",
    "        PROJECT_PATH,\n",
    "        \"Data/predictions/wordplay_interpretation_gigachat_lite_predictions_extended.json\"\n",
    "    ),\n",
    "    orient=\"index\"\n",
    ")"
   ]
  },
  {
   "cell_type": "code",
   "execution_count": null,
   "metadata": {},
   "outputs": [
    {
     "data": {
      "text/html": [
       "<div>\n",
       "<style scoped>\n",
       "    .dataframe tbody tr th:only-of-type {\n",
       "        vertical-align: middle;\n",
       "    }\n",
       "\n",
       "    .dataframe tbody tr th {\n",
       "        vertical-align: top;\n",
       "    }\n",
       "\n",
       "    .dataframe thead th {\n",
       "        text-align: right;\n",
       "    }\n",
       "</style>\n",
       "<table border=\"1\" class=\"dataframe\">\n",
       "  <thead>\n",
       "    <tr style=\"text-align: right;\">\n",
       "      <th></th>\n",
       "      <th>user_prompt</th>\n",
       "      <th>system_prompt</th>\n",
       "      <th>gigachat_lite_preds</th>\n",
       "    </tr>\n",
       "  </thead>\n",
       "  <tbody>\n",
       "    <tr>\n",
       "      <th>2195</th>\n",
       "      <td>Заголовок новости: Принцип одного жильца. Cоде...</td>\n",
       "      <td>\\nПроанализируй заголовок новости в контексте ...</td>\n",
       "      <td>В заголовке новости нет игры слов.&lt;|message_sep|&gt;</td>\n",
       "    </tr>\n",
       "  </tbody>\n",
       "</table>\n",
       "</div>"
      ],
      "text/plain": [
       "                                            user_prompt  \\\n",
       "2195  Заголовок новости: Принцип одного жильца. Cоде...   \n",
       "\n",
       "                                          system_prompt  \\\n",
       "2195  \\nПроанализируй заголовок новости в контексте ...   \n",
       "\n",
       "                                    gigachat_lite_preds  \n",
       "2195  В заголовке новости нет игры слов.<|message_sep|>  "
      ]
     },
     "execution_count": 5,
     "metadata": {},
     "output_type": "execute_result"
    }
   ],
   "source": [
    "df_gigachat_lite.sample(1)"
   ]
  },
  {
   "cell_type": "code",
   "execution_count": 6,
   "metadata": {},
   "outputs": [],
   "source": [
    "df_gigachat_max = pd.read_json(\n",
    "    os.path.join(\n",
    "        PROJECT_PATH,\n",
    "        \"Data/predictions/wordplay_interpretation_gigachat_max_predictions_extended.json\"\n",
    "    ),\n",
    "    orient=\"index\"\n",
    ")"
   ]
  },
  {
   "cell_type": "code",
   "execution_count": 7,
   "metadata": {},
   "outputs": [],
   "source": [
    "df_gigachat_max[\"gigachat_max_pred\"].fillna(\"что-то в вашем вопросе меня смущает.\", inplace=True)"
   ]
  },
  {
   "cell_type": "code",
   "execution_count": 8,
   "metadata": {},
   "outputs": [
    {
     "data": {
      "text/html": [
       "<div>\n",
       "<style scoped>\n",
       "    .dataframe tbody tr th:only-of-type {\n",
       "        vertical-align: middle;\n",
       "    }\n",
       "\n",
       "    .dataframe tbody tr th {\n",
       "        vertical-align: top;\n",
       "    }\n",
       "\n",
       "    .dataframe thead th {\n",
       "        text-align: right;\n",
       "    }\n",
       "</style>\n",
       "<table border=\"1\" class=\"dataframe\">\n",
       "  <thead>\n",
       "    <tr style=\"text-align: right;\">\n",
       "      <th></th>\n",
       "      <th>user_prompt</th>\n",
       "      <th>system_prompt</th>\n",
       "      <th>gigachat_max_pred</th>\n",
       "    </tr>\n",
       "  </thead>\n",
       "  <tbody>\n",
       "    <tr>\n",
       "      <th>2449</th>\n",
       "      <td>Заголовок новости: В амнистию не вышел. Cодерж...</td>\n",
       "      <td>\\nПроанализируй заголовок новости в контексте ...</td>\n",
       "      <td>в заголовке нет игры слов.</td>\n",
       "    </tr>\n",
       "  </tbody>\n",
       "</table>\n",
       "</div>"
      ],
      "text/plain": [
       "                                            user_prompt  \\\n",
       "2449  Заголовок новости: В амнистию не вышел. Cодерж...   \n",
       "\n",
       "                                          system_prompt  \\\n",
       "2449  \\nПроанализируй заголовок новости в контексте ...   \n",
       "\n",
       "               gigachat_max_pred  \n",
       "2449  в заголовке нет игры слов.  "
      ]
     },
     "execution_count": 8,
     "metadata": {},
     "output_type": "execute_result"
    }
   ],
   "source": [
    "df_gigachat_max.sample(1)"
   ]
  },
  {
   "cell_type": "code",
   "execution_count": 9,
   "metadata": {},
   "outputs": [],
   "source": [
    "df_yagpt = pd.read_json(\n",
    "    os.path.join(\n",
    "        PROJECT_PATH,\n",
    "        \"Data/predictions/wordplay_interpretation_yandex_gpt4_predictions_extended.json\"\n",
    "    ),\n",
    "    orient=\"index\"\n",
    ")"
   ]
  },
  {
   "cell_type": "code",
   "execution_count": 10,
   "metadata": {},
   "outputs": [
    {
     "data": {
      "text/html": [
       "<div>\n",
       "<style scoped>\n",
       "    .dataframe tbody tr th:only-of-type {\n",
       "        vertical-align: middle;\n",
       "    }\n",
       "\n",
       "    .dataframe tbody tr th {\n",
       "        vertical-align: top;\n",
       "    }\n",
       "\n",
       "    .dataframe thead th {\n",
       "        text-align: right;\n",
       "    }\n",
       "</style>\n",
       "<table border=\"1\" class=\"dataframe\">\n",
       "  <thead>\n",
       "    <tr style=\"text-align: right;\">\n",
       "      <th></th>\n",
       "      <th>user_prompt</th>\n",
       "      <th>system_prompt</th>\n",
       "      <th>yagpt_pred</th>\n",
       "    </tr>\n",
       "  </thead>\n",
       "  <tbody>\n",
       "    <tr>\n",
       "      <th>1111</th>\n",
       "      <td>Заголовок новости: «Спартак» сыграл на все сто...</td>\n",
       "      <td>\\nПроанализируй заголовок новости в контексте ...</td>\n",
       "      <td>в заголовке новости «спартак» сыграл на все ст...</td>\n",
       "    </tr>\n",
       "  </tbody>\n",
       "</table>\n",
       "</div>"
      ],
      "text/plain": [
       "                                            user_prompt  \\\n",
       "1111  Заголовок новости: «Спартак» сыграл на все сто...   \n",
       "\n",
       "                                          system_prompt  \\\n",
       "1111  \\nПроанализируй заголовок новости в контексте ...   \n",
       "\n",
       "                                             yagpt_pred  \n",
       "1111  в заголовке новости «спартак» сыграл на все ст...  "
      ]
     },
     "execution_count": 10,
     "metadata": {},
     "output_type": "execute_result"
    }
   ],
   "source": [
    "df_yagpt.sample(1)"
   ]
  },
  {
   "cell_type": "code",
   "execution_count": 11,
   "metadata": {},
   "outputs": [],
   "source": [
    "df_mistral = pd.read_json(\n",
    "    os.path.join(\n",
    "        PROJECT_PATH,\n",
    "        \"Data/predictions/wordplay_interpretation_mistral_nemo_predictions_extended.json\"\n",
    "    ),\n",
    "    orient=\"index\"\n",
    ")\n",
    "\n",
    "def clear_mistral_prediction(text_pred):\n",
    "    \n",
    "    text = text_pred[0][\"generated_text\"][-1][\"content\"]\n",
    "\n",
    "    return text\n",
    "\n",
    "df_mistral[\"mistral_nemo_preds\"] = df_mistral[\"mistral_nemo_preds\"].apply(clear_mistral_prediction)"
   ]
  },
  {
   "cell_type": "code",
   "execution_count": 12,
   "metadata": {},
   "outputs": [
    {
     "data": {
      "text/html": [
       "<div>\n",
       "<style scoped>\n",
       "    .dataframe tbody tr th:only-of-type {\n",
       "        vertical-align: middle;\n",
       "    }\n",
       "\n",
       "    .dataframe tbody tr th {\n",
       "        vertical-align: top;\n",
       "    }\n",
       "\n",
       "    .dataframe thead th {\n",
       "        text-align: right;\n",
       "    }\n",
       "</style>\n",
       "<table border=\"1\" class=\"dataframe\">\n",
       "  <thead>\n",
       "    <tr style=\"text-align: right;\">\n",
       "      <th></th>\n",
       "      <th>user_prompt</th>\n",
       "      <th>system_prompt</th>\n",
       "      <th>mistral_nemo_preds</th>\n",
       "    </tr>\n",
       "  </thead>\n",
       "  <tbody>\n",
       "    <tr>\n",
       "      <th>1146</th>\n",
       "      <td>Заголовок новости: С ними дядька-черногор. Cод...</td>\n",
       "      <td>\\nПроанализируй заголовок новости в контексте ...</td>\n",
       "      <td>В заголовке новости \"С ними дядька-черногор\" и...</td>\n",
       "    </tr>\n",
       "  </tbody>\n",
       "</table>\n",
       "</div>"
      ],
      "text/plain": [
       "                                            user_prompt  \\\n",
       "1146  Заголовок новости: С ними дядька-черногор. Cод...   \n",
       "\n",
       "                                          system_prompt  \\\n",
       "1146  \\nПроанализируй заголовок новости в контексте ...   \n",
       "\n",
       "                                     mistral_nemo_preds  \n",
       "1146  В заголовке новости \"С ними дядька-черногор\" и...  "
      ]
     },
     "execution_count": 12,
     "metadata": {},
     "output_type": "execute_result"
    }
   ],
   "source": [
    "df_mistral.sample(1)"
   ]
  },
  {
   "cell_type": "code",
   "execution_count": 13,
   "metadata": {},
   "outputs": [],
   "source": [
    "df_gpt4o = pd.read_json(\n",
    "    os.path.join(\n",
    "        PROJECT_PATH,\n",
    "        \"Data/predictions/wordplay_interpretation_gpt_4o_predictions_extended.json\"\n",
    "    ),\n",
    "    orient=\"index\"\n",
    ")"
   ]
  },
  {
   "cell_type": "code",
   "execution_count": 14,
   "metadata": {},
   "outputs": [
    {
     "data": {
      "text/html": [
       "<div>\n",
       "<style scoped>\n",
       "    .dataframe tbody tr th:only-of-type {\n",
       "        vertical-align: middle;\n",
       "    }\n",
       "\n",
       "    .dataframe tbody tr th {\n",
       "        vertical-align: top;\n",
       "    }\n",
       "\n",
       "    .dataframe thead th {\n",
       "        text-align: right;\n",
       "    }\n",
       "</style>\n",
       "<table border=\"1\" class=\"dataframe\">\n",
       "  <thead>\n",
       "    <tr style=\"text-align: right;\">\n",
       "      <th></th>\n",
       "      <th>json_response</th>\n",
       "      <th>task_id</th>\n",
       "      <th>gpt4o_explain</th>\n",
       "    </tr>\n",
       "  </thead>\n",
       "  <tbody>\n",
       "    <tr>\n",
       "      <th>1881</th>\n",
       "      <td>{'id': 'batch_req_6797859bcd2081909d2a745188d6...</td>\n",
       "      <td>1881</td>\n",
       "      <td>В заголовке есть игра слов. Использован механи...</td>\n",
       "    </tr>\n",
       "  </tbody>\n",
       "</table>\n",
       "</div>"
      ],
      "text/plain": [
       "                                          json_response  task_id  \\\n",
       "1881  {'id': 'batch_req_6797859bcd2081909d2a745188d6...     1881   \n",
       "\n",
       "                                          gpt4o_explain  \n",
       "1881  В заголовке есть игра слов. Использован механи...  "
      ]
     },
     "execution_count": 14,
     "metadata": {},
     "output_type": "execute_result"
    }
   ],
   "source": [
    "df_gpt4o.sample(1)"
   ]
  },
  {
   "cell_type": "code",
   "execution_count": 15,
   "metadata": {},
   "outputs": [],
   "source": [
    "dataset = pd.merge(dataset, df_gigachat_lite[[\"gigachat_lite_preds\"]], left_index=True, right_index=True)\n",
    "dataset = pd.merge(dataset, df_gigachat_max[[\"gigachat_max_pred\"]], left_index=True, right_index=True)\n",
    "dataset = pd.merge(dataset, df_yagpt[[\"yagpt_pred\"]], left_index=True, right_index=True)\n",
    "dataset = pd.merge(dataset, df_mistral[[\"mistral_nemo_preds\"]], left_index=True, right_index=True)\n",
    "dataset = pd.merge(dataset, df_gpt4o[[\"gpt4o_explain\"]], left_index=True, right_index=True)"
   ]
  },
  {
   "cell_type": "code",
   "execution_count": null,
   "metadata": {},
   "outputs": [
    {
     "data": {
      "text/html": [
       "<div>\n",
       "<style scoped>\n",
       "    .dataframe tbody tr th:only-of-type {\n",
       "        vertical-align: middle;\n",
       "    }\n",
       "\n",
       "    .dataframe tbody tr th {\n",
       "        vertical-align: top;\n",
       "    }\n",
       "\n",
       "    .dataframe thead th {\n",
       "        text-align: right;\n",
       "    }\n",
       "</style>\n",
       "<table border=\"1\" class=\"dataframe\">\n",
       "  <thead>\n",
       "    <tr style=\"text-align: right;\">\n",
       "      <th></th>\n",
       "      <th>annotations</th>\n",
       "      <th>summary</th>\n",
       "      <th>is_word_play</th>\n",
       "      <th>date</th>\n",
       "      <th>article_url</th>\n",
       "      <th>headline</th>\n",
       "      <th>lead</th>\n",
       "      <th>gigachat_lite_preds</th>\n",
       "      <th>gigachat_max_pred</th>\n",
       "      <th>yagpt_pred</th>\n",
       "      <th>mistral_nemo_preds</th>\n",
       "      <th>gpt4o_explain</th>\n",
       "    </tr>\n",
       "  </thead>\n",
       "  <tbody>\n",
       "    <tr>\n",
       "      <th>0</th>\n",
       "      <td>None</td>\n",
       "      <td>Жилищный нацпроект помимо количественных целей...</td>\n",
       "      <td>False</td>\n",
       "      <td>2021-12-16</td>\n",
       "      <td>https://www.kommersant.ru/doc/5130217</td>\n",
       "      <td>Комфортная среда</td>\n",
       "      <td>Городскую среду улучшают с учетом мнения жителей</td>\n",
       "      <td>В заголовке новости \"Комфортная среда\" нет игр...</td>\n",
       "      <td>в заголовке нет игры слов.</td>\n",
       "      <td>в заголовке нет игры слов.</td>\n",
       "      <td>В заголовке новости \"Комфортная среда\" нет игр...</td>\n",
       "      <td>в заголовке нет игры слов</td>\n",
       "    </tr>\n",
       "  </tbody>\n",
       "</table>\n",
       "</div>"
      ],
      "text/plain": [
       "  annotations                                            summary  \\\n",
       "0        None  Жилищный нацпроект помимо количественных целей...   \n",
       "\n",
       "   is_word_play       date                            article_url  \\\n",
       "0         False 2021-12-16  https://www.kommersant.ru/doc/5130217   \n",
       "\n",
       "           headline                                              lead  \\\n",
       "0  Комфортная среда  Городскую среду улучшают с учетом мнения жителей   \n",
       "\n",
       "                                 gigachat_lite_preds  \\\n",
       "0  В заголовке новости \"Комфортная среда\" нет игр...   \n",
       "\n",
       "            gigachat_max_pred                  yagpt_pred  \\\n",
       "0  в заголовке нет игры слов.  в заголовке нет игры слов.   \n",
       "\n",
       "                                  mistral_nemo_preds  \\\n",
       "0  В заголовке новости \"Комфортная среда\" нет игр...   \n",
       "\n",
       "               gpt4o_explain  \n",
       "0  в заголовке нет игры слов  "
      ]
     },
     "execution_count": 16,
     "metadata": {},
     "output_type": "execute_result"
    }
   ],
   "source": [
    "dataset.head(1)"
   ]
  },
  {
   "cell_type": "code",
   "execution_count": 17,
   "metadata": {},
   "outputs": [],
   "source": [
    "dataset[\"deepseak_explain\"] = [\"какой то текст для объяснения\" for _ in range(len(dataset))]"
   ]
  },
  {
   "cell_type": "code",
   "execution_count": 18,
   "metadata": {},
   "outputs": [],
   "source": [
    "dataset = dataset.dropna(subset=[\"annotations\"])"
   ]
  },
  {
   "cell_type": "code",
   "execution_count": 19,
   "metadata": {},
   "outputs": [],
   "source": [
    "def parse_one_annotation(annot):\n",
    "\n",
    "    searcheable_elements = list()\n",
    "    searcheable_links = list()\n",
    "\n",
    "    if isinstance(annot[\"reference_string\"], list):\n",
    "        for i in range(len(annot[\"reference_string\"])):\n",
    "            searcheable_elements.append(\n",
    "                annot[\"reference_string\"][i]\n",
    "            )\n",
    "    elif isinstance(annot[\"reference_string\"], str) and annot[\"reference_string\"].strip() != \"\":\n",
    "        searcheable_elements.append(\n",
    "                annot[\"reference_string\"]\n",
    "        )\n",
    "\n",
    "    if isinstance(annot[\"reference_url\"], list):\n",
    "        for i in range(len(annot[\"reference_url\"])):\n",
    "            searcheable_links.append(\n",
    "                annot[\"reference_url\"][i]\n",
    "            )\n",
    "    elif isinstance(annot[\"reference_url\"], str) and annot[\"reference_url\"].strip() != \"\":\n",
    "        searcheable_links.append(\n",
    "                annot[\"reference_url\"]\n",
    "        )\n",
    "\n",
    "    return searcheable_elements, searcheable_links"
   ]
  },
  {
   "cell_type": "code",
   "execution_count": 20,
   "metadata": {},
   "outputs": [],
   "source": [
    "def extract_searcheable_elements_and_links(annotations):\n",
    "\n",
    "    searcheable_elements = list()\n",
    "    searcheable_links = list()\n",
    "\n",
    "    for annot in annotations:\n",
    "\n",
    "        if isinstance(annot, dict):\n",
    "\n",
    "            tmp_elements, tmp_links = parse_one_annotation(annot)\n",
    "            searcheable_elements.extend(\n",
    "                tmp_elements\n",
    "            )\n",
    "            searcheable_links.extend(\n",
    "                tmp_links\n",
    "            )\n",
    "\n",
    "        elif isinstance(annot, list):\n",
    "\n",
    "            for single_annot in annot:\n",
    "                tmp_elements, tmp_links = parse_one_annotation(single_annot)\n",
    "                searcheable_elements.extend(\n",
    "                    tmp_elements\n",
    "                )\n",
    "                searcheable_links.extend(\n",
    "                    tmp_links\n",
    "                )\n",
    "    \n",
    "    return searcheable_elements, searcheable_links"
   ]
  },
  {
   "cell_type": "code",
   "execution_count": 21,
   "metadata": {},
   "outputs": [],
   "source": [
    "dataset[\"annotations_len\"] = dataset[\"annotations\"].apply(lambda x: len(x))"
   ]
  },
  {
   "cell_type": "code",
   "execution_count": 22,
   "metadata": {},
   "outputs": [],
   "source": [
    "dataset[\"searcheable_elements\"] = dataset[\"annotations\"].apply(lambda x: extract_searcheable_elements_and_links(x)[0])\n",
    "dataset[\"searcheable_links\"] = dataset[\"annotations\"].apply(lambda x: extract_searcheable_elements_and_links(x)[1])"
   ]
  },
  {
   "cell_type": "code",
   "execution_count": 23,
   "metadata": {},
   "outputs": [],
   "source": [
    "dataset[\"searcheable_elements_len\"] = dataset[\"searcheable_elements\"].apply(lambda x: len(x))\n",
    "dataset[\"searcheable_links_len\"] = dataset[\"searcheable_links\"].apply(lambda x: len(x))"
   ]
  },
  {
   "cell_type": "code",
   "execution_count": 24,
   "metadata": {},
   "outputs": [],
   "source": [
    "dataset = dataset.query(\"searcheable_elements_len >= 1 or searcheable_links_len >= 1\")"
   ]
  },
  {
   "cell_type": "code",
   "execution_count": 25,
   "metadata": {},
   "outputs": [],
   "source": [
    "def normalize_link(link):\n",
    "    if \"https://ru.wikipedia.org\" in link:\n",
    "        link = link.split(\"https://ru.wikipedia.org/wiki/\")[1]\n",
    "    elif \"https://ru.wiktionary.org\" in link:\n",
    "        link = link.split(\"https://ru.wiktionary.org/wiki/\")[1]\n",
    "    \n",
    "    if \"#\" in link:\n",
    "        position = link.find(\"#\")\n",
    "        link = link[:position]\n",
    "    \n",
    "    link = re.sub(r'\\(.*?\\)', '', link).strip()\n",
    "\n",
    "    link = re.sub(r'[^a-zA-Zа-яА-ЯёЁ]', ' ', link)\n",
    "    link = re.sub(r'\\s+', ' ', link).strip()\n",
    "\n",
    "    return link.lower()"
   ]
  },
  {
   "cell_type": "code",
   "execution_count": 26,
   "metadata": {},
   "outputs": [],
   "source": [
    "def tokenize(text: str):\n",
    "    return \" \".join(re.findall(r'\\b\\w+\\b', text.lower()))\n",
    "\n",
    "def lemmatize(tokens: str):\n",
    "    tokens = tokens.split(\" \")\n",
    "    morph = pymorphy2.MorphAnalyzer()\n",
    "    return \" \".join([morph.parse(token)[0].normal_form for token in tokens])\n",
    "\n",
    "def normalize_text(text):\n",
    "    tokens = tokenize(text)\n",
    "    lemmas = lemmatize(tokens)\n",
    "    return \" \".join(lemmas)"
   ]
  },
  {
   "cell_type": "code",
   "execution_count": 27,
   "metadata": {},
   "outputs": [],
   "source": [
    "dataset[\"searcheable_elements\"] = dataset[\"searcheable_elements\"].apply(lambda x: [str.lower(t) for t in x])\n",
    "dataset[\"searcheable_elements_tokenized\"] = dataset[\"searcheable_elements\"].apply(lambda x: [tokenize(t) for t in x])\n",
    "dataset[\"searcheable_elements_normalized\"] = dataset[\"searcheable_elements_tokenized\"].apply(lambda x: [lemmatize(t) for t in x])"
   ]
  },
  {
   "cell_type": "code",
   "execution_count": 28,
   "metadata": {},
   "outputs": [],
   "source": [
    "dataset[\"searcheable_links\"] = dataset[\"searcheable_links\"].apply(lambda x: [normalize_link(t) for t in x])\n",
    "dataset[\"searcheable_links\"] = dataset[\"searcheable_links\"].apply(lambda x: [str.lower(t) for t in x])\n",
    "dataset[\"searcheable_links_tokenized\"] = dataset[\"searcheable_links\"].apply(lambda x: [tokenize(t) for t in x])\n",
    "dataset[\"searcheable_links_normalized\"] = dataset[\"searcheable_links_tokenized\"].apply(lambda x: [lemmatize(t) for t in x])"
   ]
  },
  {
   "cell_type": "code",
   "execution_count": 29,
   "metadata": {},
   "outputs": [],
   "source": [
    "dataset[\"searcheable_all\"] = dataset[\"searcheable_elements\"] + dataset[\"searcheable_elements_tokenized\"] + dataset[\"searcheable_elements_normalized\"]"
   ]
  },
  {
   "cell_type": "code",
   "execution_count": 30,
   "metadata": {},
   "outputs": [
    {
     "data": {
      "text/html": [
       "<div>\n",
       "<style scoped>\n",
       "    .dataframe tbody tr th:only-of-type {\n",
       "        vertical-align: middle;\n",
       "    }\n",
       "\n",
       "    .dataframe tbody tr th {\n",
       "        vertical-align: top;\n",
       "    }\n",
       "\n",
       "    .dataframe thead th {\n",
       "        text-align: right;\n",
       "    }\n",
       "</style>\n",
       "<table border=\"1\" class=\"dataframe\">\n",
       "  <thead>\n",
       "    <tr style=\"text-align: right;\">\n",
       "      <th></th>\n",
       "      <th>annotations</th>\n",
       "      <th>summary</th>\n",
       "      <th>is_word_play</th>\n",
       "      <th>date</th>\n",
       "      <th>article_url</th>\n",
       "      <th>headline</th>\n",
       "      <th>lead</th>\n",
       "      <th>gigachat_lite_preds</th>\n",
       "      <th>gigachat_max_pred</th>\n",
       "      <th>yagpt_pred</th>\n",
       "      <th>...</th>\n",
       "      <th>annotations_len</th>\n",
       "      <th>searcheable_elements</th>\n",
       "      <th>searcheable_links</th>\n",
       "      <th>searcheable_elements_len</th>\n",
       "      <th>searcheable_links_len</th>\n",
       "      <th>searcheable_elements_tokenized</th>\n",
       "      <th>searcheable_elements_normalized</th>\n",
       "      <th>searcheable_links_tokenized</th>\n",
       "      <th>searcheable_links_normalized</th>\n",
       "      <th>searcheable_all</th>\n",
       "    </tr>\n",
       "  </thead>\n",
       "  <tbody>\n",
       "    <tr>\n",
       "      <th>2014</th>\n",
       "      <td>[{'headline_substring': 'Дели', 'start_index':...</td>\n",
       "      <td>Саммит лидеров G20 завершился подписанием итог...</td>\n",
       "      <td>True</td>\n",
       "      <td>2023-09-10</td>\n",
       "      <td>https://www.kommersant.ru/doc/6209906</td>\n",
       "      <td>На самом Дели</td>\n",
       "      <td>Что участники саммита G20 предпочли украинской...</td>\n",
       "      <td>В заголовке новости \"На самом Дели\" использует...</td>\n",
       "      <td>что-то в вашем вопросе меня смущает. может, по...</td>\n",
       "      <td>в интернете есть много сайтов с информацией на...</td>\n",
       "      <td>...</td>\n",
       "      <td>2</td>\n",
       "      <td>[деле, на самом деле]</td>\n",
       "      <td>[на самом деле]</td>\n",
       "      <td>2</td>\n",
       "      <td>1</td>\n",
       "      <td>[деле, на самом деле]</td>\n",
       "      <td>[дело, на сам дело]</td>\n",
       "      <td>[на самом деле]</td>\n",
       "      <td>[на сам дело]</td>\n",
       "      <td>[деле, на самом деле, деле, на самом деле, дел...</td>\n",
       "    </tr>\n",
       "  </tbody>\n",
       "</table>\n",
       "<p>1 rows × 23 columns</p>\n",
       "</div>"
      ],
      "text/plain": [
       "                                            annotations  \\\n",
       "2014  [{'headline_substring': 'Дели', 'start_index':...   \n",
       "\n",
       "                                                summary  is_word_play  \\\n",
       "2014  Саммит лидеров G20 завершился подписанием итог...          True   \n",
       "\n",
       "           date                            article_url       headline  \\\n",
       "2014 2023-09-10  https://www.kommersant.ru/doc/6209906  На самом Дели   \n",
       "\n",
       "                                                   lead  \\\n",
       "2014  Что участники саммита G20 предпочли украинской...   \n",
       "\n",
       "                                    gigachat_lite_preds  \\\n",
       "2014  В заголовке новости \"На самом Дели\" использует...   \n",
       "\n",
       "                                      gigachat_max_pred  \\\n",
       "2014  что-то в вашем вопросе меня смущает. может, по...   \n",
       "\n",
       "                                             yagpt_pred  ... annotations_len  \\\n",
       "2014  в интернете есть много сайтов с информацией на...  ...               2   \n",
       "\n",
       "       searcheable_elements searcheable_links  searcheable_elements_len  \\\n",
       "2014  [деле, на самом деле]   [на самом деле]                         2   \n",
       "\n",
       "     searcheable_links_len searcheable_elements_tokenized  \\\n",
       "2014                     1          [деле, на самом деле]   \n",
       "\n",
       "      searcheable_elements_normalized  searcheable_links_tokenized  \\\n",
       "2014              [дело, на сам дело]              [на самом деле]   \n",
       "\n",
       "     searcheable_links_normalized  \\\n",
       "2014                [на сам дело]   \n",
       "\n",
       "                                        searcheable_all  \n",
       "2014  [деле, на самом деле, деле, на самом деле, дел...  \n",
       "\n",
       "[1 rows x 23 columns]"
      ]
     },
     "execution_count": 30,
     "metadata": {},
     "output_type": "execute_result"
    }
   ],
   "source": [
    "dataset.query(\n",
    "    \"article_url == 'https://www.kommersant.ru/doc/6209906'\"\n",
    ")"
   ]
  },
  {
   "cell_type": "code",
   "execution_count": 31,
   "metadata": {},
   "outputs": [],
   "source": [
    "def do_search(searcheable_elements, all_texts):\n",
    "    \n",
    "    results = list()\n",
    "\n",
    "    assert isinstance(all_texts, list)\n",
    "    assert len(all_texts) == 3\n",
    "\n",
    "    for elem in searcheable_elements:\n",
    "        for text in all_texts:\n",
    "            results.append(\n",
    "                str.find(text, elem)\n",
    "            )\n",
    "    return results"
   ]
  },
  {
   "cell_type": "code",
   "execution_count": 32,
   "metadata": {},
   "outputs": [],
   "source": [
    "EXPLIAN_COLUMNS = [\"deepseak_explain\", \"gigachat_lite_preds\", \"gigachat_max_pred\", \"yagpt_pred\", \"mistral_nemo_preds\", \"gpt4o_explain\"]\n",
    "\n",
    "for explain_column in EXPLIAN_COLUMNS:\n",
    "    dataset[f\"{explain_column}\"] = dataset[f\"{explain_column}\"].apply(lambda x: str.lower(x))\n",
    "    dataset[f\"{explain_column}_tokenized\"] = dataset[f\"{explain_column}\"].apply(lambda x: tokenize(x))\n",
    "    dataset[f\"{explain_column}_normalized\"] = dataset[f\"{explain_column}_tokenized\"].apply(lambda x: lemmatize(x))\n",
    "    dataset[f\"{explain_column}\"] = dataset[f\"{explain_column}\"].apply(lambda x: [x])\n",
    "    dataset[f\"{explain_column}_tokenized\"] = dataset[f\"{explain_column}_tokenized\"].apply(lambda x: [x])\n",
    "    dataset[f\"{explain_column}_normalized\"] = dataset[f\"{explain_column}_normalized\"].apply(lambda x: [x])\n",
    "    dataset[f\"{explain_column}_all\"] = dataset[f\"{explain_column}\"] + dataset[f\"{explain_column}_tokenized\"] + dataset[f\"{explain_column}_normalized\"]\n",
    "\n",
    "    dataset[f\"{explain_column}_search_results\"] = dataset.apply(lambda row: do_search(row[\"searcheable_all\"], row[f\"{explain_column}_all\"]), axis=1)\n",
    "    dataset[f\"{explain_column}_search_results\"] = dataset[f\"{explain_column}_search_results\"].apply(lambda x: max(x))\n",
    "\n",
    "    dataset[f\"{explain_column}_search_results\"] = dataset[f\"{explain_column}_search_results\"].apply(lambda x: True if x >= 0 else False)\n",
    "\n",
    "\n"
   ]
  },
  {
   "cell_type": "code",
   "execution_count": 33,
   "metadata": {},
   "outputs": [
    {
     "data": {
      "text/html": [
       "<div>\n",
       "<style scoped>\n",
       "    .dataframe tbody tr th:only-of-type {\n",
       "        vertical-align: middle;\n",
       "    }\n",
       "\n",
       "    .dataframe tbody tr th {\n",
       "        vertical-align: top;\n",
       "    }\n",
       "\n",
       "    .dataframe thead th {\n",
       "        text-align: right;\n",
       "    }\n",
       "</style>\n",
       "<table border=\"1\" class=\"dataframe\">\n",
       "  <thead>\n",
       "    <tr style=\"text-align: right;\">\n",
       "      <th></th>\n",
       "      <th>annotations</th>\n",
       "      <th>summary</th>\n",
       "      <th>is_word_play</th>\n",
       "      <th>date</th>\n",
       "      <th>article_url</th>\n",
       "      <th>headline</th>\n",
       "      <th>lead</th>\n",
       "      <th>gigachat_lite_preds</th>\n",
       "      <th>gigachat_max_pred</th>\n",
       "      <th>yagpt_pred</th>\n",
       "      <th>...</th>\n",
       "      <th>yagpt_pred_all</th>\n",
       "      <th>yagpt_pred_search_results</th>\n",
       "      <th>mistral_nemo_preds_tokenized</th>\n",
       "      <th>mistral_nemo_preds_normalized</th>\n",
       "      <th>mistral_nemo_preds_all</th>\n",
       "      <th>mistral_nemo_preds_search_results</th>\n",
       "      <th>gpt4o_explain_tokenized</th>\n",
       "      <th>gpt4o_explain_normalized</th>\n",
       "      <th>gpt4o_explain_all</th>\n",
       "      <th>gpt4o_explain_search_results</th>\n",
       "    </tr>\n",
       "  </thead>\n",
       "  <tbody>\n",
       "    <tr>\n",
       "      <th>1816</th>\n",
       "      <td>[{'headline_substring': 'Колос Америки', 'star...</td>\n",
       "      <td>Тема вывоза украинских зерновых активно обсужд...</td>\n",
       "      <td>True</td>\n",
       "      <td>2023-08-18</td>\n",
       "      <td>https://www.kommersant.ru/doc/6171497</td>\n",
       "      <td>Колос Америки</td>\n",
       "      <td>Для украинского зерна ищут и находят альтернат...</td>\n",
       "      <td>[в данном заголовке игры слов не наблюдается. ...</td>\n",
       "      <td>[что-то в вашем вопросе меня смущает. может, п...</td>\n",
       "      <td>[в интернете есть много сайтов с информацией н...</td>\n",
       "      <td>...</td>\n",
       "      <td>[в интернете есть много сайтов с информацией н...</td>\n",
       "      <td>False</td>\n",
       "      <td>[в заголовке новости колос америки используетс...</td>\n",
       "      <td>[в заголовок новость колос америка использоват...</td>\n",
       "      <td>[в заголовке новости \"колос америки\" используе...</td>\n",
       "      <td>False</td>\n",
       "      <td>[в заголовке нет игры слов]</td>\n",
       "      <td>[в заголовок нет игра слово]</td>\n",
       "      <td>[в заголовке нет игры слов., в заголовке нет и...</td>\n",
       "      <td>False</td>\n",
       "    </tr>\n",
       "    <tr>\n",
       "      <th>1080</th>\n",
       "      <td>[{'headline_substring': 'А море подумало: учен...</td>\n",
       "      <td>Украина в пятницу выдвинула России ультиматум,...</td>\n",
       "      <td>True</td>\n",
       "      <td>2022-12-02</td>\n",
       "      <td>https://www.kommersant.ru/doc/5215482</td>\n",
       "      <td>А море подумало: ученья идут</td>\n",
       "      <td>Киев потребовал от Москвы объяснить «военную д...</td>\n",
       "      <td>[в данном заголовке игры слов не наблюдается. ...</td>\n",
       "      <td>[не люблю менять тему разговора, но вот сейчас...</td>\n",
       "      <td>[в интернете есть много сайтов с информацией н...</td>\n",
       "      <td>...</td>\n",
       "      <td>[в интернете есть много сайтов с информацией н...</td>\n",
       "      <td>False</td>\n",
       "      <td>[в заголовке новости а море подумало ученья ид...</td>\n",
       "      <td>[в заголовок новость а море подумать учение ид...</td>\n",
       "      <td>[в заголовке новости \"а море подумало: ученья ...</td>\n",
       "      <td>False</td>\n",
       "      <td>[в заголовке есть игра слов использован механи...</td>\n",
       "      <td>[в заголовок есть игра слово использовать меха...</td>\n",
       "      <td>[в заголовке есть игра слов. использован механ...</td>\n",
       "      <td>False</td>\n",
       "    </tr>\n",
       "  </tbody>\n",
       "</table>\n",
       "<p>2 rows × 47 columns</p>\n",
       "</div>"
      ],
      "text/plain": [
       "                                            annotations  \\\n",
       "1816  [{'headline_substring': 'Колос Америки', 'star...   \n",
       "1080  [{'headline_substring': 'А море подумало: учен...   \n",
       "\n",
       "                                                summary  is_word_play  \\\n",
       "1816  Тема вывоза украинских зерновых активно обсужд...          True   \n",
       "1080  Украина в пятницу выдвинула России ультиматум,...          True   \n",
       "\n",
       "           date                            article_url  \\\n",
       "1816 2023-08-18  https://www.kommersant.ru/doc/6171497   \n",
       "1080 2022-12-02  https://www.kommersant.ru/doc/5215482   \n",
       "\n",
       "                          headline  \\\n",
       "1816                 Колос Америки   \n",
       "1080  А море подумало: ученья идут   \n",
       "\n",
       "                                                   lead  \\\n",
       "1816  Для украинского зерна ищут и находят альтернат...   \n",
       "1080  Киев потребовал от Москвы объяснить «военную д...   \n",
       "\n",
       "                                    gigachat_lite_preds  \\\n",
       "1816  [в данном заголовке игры слов не наблюдается. ...   \n",
       "1080  [в данном заголовке игры слов не наблюдается. ...   \n",
       "\n",
       "                                      gigachat_max_pred  \\\n",
       "1816  [что-то в вашем вопросе меня смущает. может, п...   \n",
       "1080  [не люблю менять тему разговора, но вот сейчас...   \n",
       "\n",
       "                                             yagpt_pred  ...  \\\n",
       "1816  [в интернете есть много сайтов с информацией н...  ...   \n",
       "1080  [в интернете есть много сайтов с информацией н...  ...   \n",
       "\n",
       "                                         yagpt_pred_all  \\\n",
       "1816  [в интернете есть много сайтов с информацией н...   \n",
       "1080  [в интернете есть много сайтов с информацией н...   \n",
       "\n",
       "     yagpt_pred_search_results  \\\n",
       "1816                     False   \n",
       "1080                     False   \n",
       "\n",
       "                           mistral_nemo_preds_tokenized  \\\n",
       "1816  [в заголовке новости колос америки используетс...   \n",
       "1080  [в заголовке новости а море подумало ученья ид...   \n",
       "\n",
       "                          mistral_nemo_preds_normalized  \\\n",
       "1816  [в заголовок новость колос америка использоват...   \n",
       "1080  [в заголовок новость а море подумать учение ид...   \n",
       "\n",
       "                                 mistral_nemo_preds_all  \\\n",
       "1816  [в заголовке новости \"колос америки\" используе...   \n",
       "1080  [в заголовке новости \"а море подумало: ученья ...   \n",
       "\n",
       "     mistral_nemo_preds_search_results  \\\n",
       "1816                             False   \n",
       "1080                             False   \n",
       "\n",
       "                                gpt4o_explain_tokenized  \\\n",
       "1816                        [в заголовке нет игры слов]   \n",
       "1080  [в заголовке есть игра слов использован механи...   \n",
       "\n",
       "                               gpt4o_explain_normalized  \\\n",
       "1816                       [в заголовок нет игра слово]   \n",
       "1080  [в заголовок есть игра слово использовать меха...   \n",
       "\n",
       "                                      gpt4o_explain_all  \\\n",
       "1816  [в заголовке нет игры слов., в заголовке нет и...   \n",
       "1080  [в заголовке есть игра слов. использован механ...   \n",
       "\n",
       "     gpt4o_explain_search_results  \n",
       "1816                        False  \n",
       "1080                        False  \n",
       "\n",
       "[2 rows x 47 columns]"
      ]
     },
     "execution_count": 33,
     "metadata": {},
     "output_type": "execute_result"
    }
   ],
   "source": [
    "dataset.sample(2)"
   ]
  },
  {
   "cell_type": "code",
   "execution_count": null,
   "metadata": {},
   "outputs": [],
   "source": [
    "# old"
   ]
  },
  {
   "cell_type": "code",
   "execution_count": 37,
   "metadata": {},
   "outputs": [
    {
     "data": {
      "text/plain": [
       "deepseak_explain_search_results       0.000968\n",
       "gigachat_lite_preds_search_results    0.188771\n",
       "gigachat_max_pred_search_results      0.273959\n",
       "yagpt_pred_search_results             0.214908\n",
       "mistral_nemo_preds_search_results     0.305905\n",
       "gpt4o_explain_search_results          0.424976\n",
       "dtype: float64"
      ]
     },
     "execution_count": 37,
     "metadata": {},
     "output_type": "execute_result"
    }
   ],
   "source": [
    "dataset[[f\"{t}_search_results\" for t in EXPLIAN_COLUMNS]].sum() / len(dataset)"
   ]
  },
  {
   "cell_type": "code",
   "execution_count": null,
   "metadata": {},
   "outputs": [],
   "source": [
    "# new"
   ]
  },
  {
   "cell_type": "code",
   "execution_count": 34,
   "metadata": {},
   "outputs": [
    {
     "data": {
      "text/plain": [
       "deepseak_explain_search_results       0.000968\n",
       "gigachat_lite_preds_search_results    0.190707\n",
       "gigachat_max_pred_search_results      0.276864\n",
       "yagpt_pred_search_results             0.216844\n",
       "mistral_nemo_preds_search_results     0.303001\n",
       "gpt4o_explain_search_results          0.426912\n",
       "dtype: float64"
      ]
     },
     "execution_count": 34,
     "metadata": {},
     "output_type": "execute_result"
    }
   ],
   "source": [
    "dataset[[f\"{t}_search_results\" for t in EXPLIAN_COLUMNS]].sum() / len(dataset)"
   ]
  },
  {
   "cell_type": "code",
   "execution_count": null,
   "metadata": {},
   "outputs": [],
   "source": []
  }
 ],
 "metadata": {
  "kernelspec": {
   "display_name": "general_venv",
   "language": "python",
   "name": "python3"
  },
  "language_info": {
   "codemirror_mode": {
    "name": "ipython",
    "version": 3
   },
   "file_extension": ".py",
   "mimetype": "text/x-python",
   "name": "python",
   "nbconvert_exporter": "python",
   "pygments_lexer": "ipython3",
   "version": "3.10.12"
  }
 },
 "nbformat": 4,
 "nbformat_minor": 2
}
