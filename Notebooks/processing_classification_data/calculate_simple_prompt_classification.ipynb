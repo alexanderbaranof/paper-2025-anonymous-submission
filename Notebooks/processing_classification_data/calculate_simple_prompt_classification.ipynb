{
 "cells": [
  {
   "cell_type": "code",
   "execution_count": 1,
   "metadata": {},
   "outputs": [],
   "source": [
    "# imports\n",
    "import os\n",
    "\n",
    "import pandas as pd\n",
    "from sklearn.metrics import classification_report, f1_score"
   ]
  },
  {
   "cell_type": "code",
   "execution_count": 2,
   "metadata": {},
   "outputs": [],
   "source": [
    "# configs\n",
    "PROJECT_PATH = \"/home/alex/paper-2025-anonymous-submission\""
   ]
  },
  {
   "cell_type": "code",
   "execution_count": 3,
   "metadata": {},
   "outputs": [],
   "source": [
    "# load data\n",
    "df_gigachat_lite = pd.read_json(\n",
    "    os.path.join(\n",
    "        PROJECT_PATH,\n",
    "        \"Data/predictions/wordplay_detection_gigachat_lite_predictions.json\"\n",
    "    ),\n",
    "    orient=\"index\"\n",
    ")\n",
    "df_gigachat_max = pd.read_json(\n",
    "    os.path.join(\n",
    "        PROJECT_PATH,\n",
    "        \"Data/predictions/wordplay_detection_gigachat_max_predictions.json\"\n",
    "    ),\n",
    "    orient=\"index\"\n",
    ")\n",
    "df_yandexgpt = pd.read_json(\n",
    "    os.path.join(\n",
    "        PROJECT_PATH,\n",
    "        \"Data/predictions/wordplay_detection_yandex_gpt4_predictions.json\"\n",
    "    ),\n",
    "    orient=\"index\"\n",
    ")\n",
    "df_mistral = pd.read_json(\n",
    "    os.path.join(\n",
    "        PROJECT_PATH,\n",
    "        \"Data/predictions/wordplay_detection_mistral_nemo_predictions.json\"\n",
    "    ),\n",
    "    orient=\"index\"\n",
    ")\n",
    "df_gpt4 = pd.read_json(\n",
    "    os.path.join(\n",
    "        PROJECT_PATH,\n",
    "        \"Data/predictions/wordplay_detection_gpt_4o_predictions.json\"\n",
    "    ),\n",
    "    orient=\"index\"\n",
    ")\n",
    "dataset = pd.read_json(\n",
    "    os.path.join(\n",
    "        PROJECT_PATH,\n",
    "        \"Data/processed_data/dataset.json\"\n",
    "    ),\n",
    "    orient=\"index\"\n",
    ")"
   ]
  },
  {
   "cell_type": "code",
   "execution_count": 4,
   "metadata": {},
   "outputs": [
    {
     "data": {
      "text/html": [
       "<div>\n",
       "<style scoped>\n",
       "    .dataframe tbody tr th:only-of-type {\n",
       "        vertical-align: middle;\n",
       "    }\n",
       "\n",
       "    .dataframe tbody tr th {\n",
       "        vertical-align: top;\n",
       "    }\n",
       "\n",
       "    .dataframe thead th {\n",
       "        text-align: right;\n",
       "    }\n",
       "</style>\n",
       "<table border=\"1\" class=\"dataframe\">\n",
       "  <thead>\n",
       "    <tr style=\"text-align: right;\">\n",
       "      <th></th>\n",
       "      <th>user_prompt</th>\n",
       "      <th>system_prompt</th>\n",
       "      <th>gigachat_lite_preds</th>\n",
       "    </tr>\n",
       "  </thead>\n",
       "  <tbody>\n",
       "    <tr>\n",
       "      <th>0</th>\n",
       "      <td>Заголовок новости: Комфортная среда. Cодержани...</td>\n",
       "      <td>Присутствует ли в заголовке новости игра слов?...</td>\n",
       "      <td>Да&lt;|message_sep|&gt;</td>\n",
       "    </tr>\n",
       "    <tr>\n",
       "      <th>1</th>\n",
       "      <td>Заголовок новости: Свинина стушевалась. Cодерж...</td>\n",
       "      <td>Присутствует ли в заголовке новости игра слов?...</td>\n",
       "      <td>нет&lt;|message_sep|&gt;</td>\n",
       "    </tr>\n",
       "  </tbody>\n",
       "</table>\n",
       "</div>"
      ],
      "text/plain": [
       "                                         user_prompt  \\\n",
       "0  Заголовок новости: Комфортная среда. Cодержани...   \n",
       "1  Заголовок новости: Свинина стушевалась. Cодерж...   \n",
       "\n",
       "                                       system_prompt gigachat_lite_preds  \n",
       "0  Присутствует ли в заголовке новости игра слов?...   Да<|message_sep|>  \n",
       "1  Присутствует ли в заголовке новости игра слов?...  нет<|message_sep|>  "
      ]
     },
     "execution_count": 4,
     "metadata": {},
     "output_type": "execute_result"
    }
   ],
   "source": [
    "# explore GigaChat-Lite\n",
    "\n",
    "def clear_gigachar_lite_predictions(text_pred):\n",
    "    text_pred = text_pred.replace(\"<|message_sep|>\", \"\")\n",
    "    text_pred = text_pred.replace(\".\", \"\")\n",
    "    return str.lower(text_pred)\n",
    "\n",
    "def binary_convert(text_pred):\n",
    "    if \"да\" in text_pred:\n",
    "        return True\n",
    "    else:\n",
    "        return False\n",
    "\n",
    "df_gigachat_lite.head(2)"
   ]
  },
  {
   "cell_type": "code",
   "execution_count": 5,
   "metadata": {},
   "outputs": [
    {
     "data": {
      "text/plain": [
       "Да<|message_sep|>          1225\n",
       "нет<|message_sep|>          786\n",
       "Не знаю.<|message_sep|>     389\n",
       "не знаю<|message_sep|>       76\n",
       "Нет<|message_sep|>           20\n",
       "Да.<|message_sep|>            4\n",
       "Name: gigachat_lite_preds, dtype: int64"
      ]
     },
     "execution_count": 5,
     "metadata": {},
     "output_type": "execute_result"
    }
   ],
   "source": [
    "df_gigachat_lite[\"gigachat_lite_preds\"].value_counts()"
   ]
  },
  {
   "cell_type": "code",
   "execution_count": 6,
   "metadata": {},
   "outputs": [],
   "source": [
    "df_gigachat_lite[\"gigachat_lite_preds\"] = df_gigachat_lite[\"gigachat_lite_preds\"].apply(clear_gigachar_lite_predictions)"
   ]
  },
  {
   "cell_type": "code",
   "execution_count": 7,
   "metadata": {},
   "outputs": [
    {
     "data": {
      "text/plain": [
       "да         1229\n",
       "нет         806\n",
       "не знаю     465\n",
       "Name: gigachat_lite_preds, dtype: int64"
      ]
     },
     "execution_count": 7,
     "metadata": {},
     "output_type": "execute_result"
    }
   ],
   "source": [
    "df_gigachat_lite[\"gigachat_lite_preds\"].value_counts()"
   ]
  },
  {
   "cell_type": "code",
   "execution_count": 8,
   "metadata": {},
   "outputs": [],
   "source": [
    "df_gigachat_lite[\"gigachat_lite_preds\"] = df_gigachat_lite[\"gigachat_lite_preds\"].apply(binary_convert)"
   ]
  },
  {
   "cell_type": "code",
   "execution_count": 9,
   "metadata": {},
   "outputs": [
    {
     "data": {
      "text/plain": [
       "False    1271\n",
       "True     1229\n",
       "Name: gigachat_lite_preds, dtype: int64"
      ]
     },
     "execution_count": 9,
     "metadata": {},
     "output_type": "execute_result"
    }
   ],
   "source": [
    "df_gigachat_lite[\"gigachat_lite_preds\"].value_counts()"
   ]
  },
  {
   "cell_type": "code",
   "execution_count": 10,
   "metadata": {},
   "outputs": [
    {
     "name": "stdout",
     "output_type": "stream",
     "text": [
      "              precision    recall  f1-score   support\n",
      "\n",
      "       False       0.51      0.51      0.51      1259\n",
      "        True       0.50      0.50      0.50      1241\n",
      "\n",
      "    accuracy                           0.50      2500\n",
      "   macro avg       0.50      0.50      0.50      2500\n",
      "weighted avg       0.50      0.50      0.50      2500\n",
      "\n"
     ]
    }
   ],
   "source": [
    "print(classification_report(dataset[\"is_word_play\"], df_gigachat_lite[\"gigachat_lite_preds\"]))"
   ]
  },
  {
   "cell_type": "code",
   "execution_count": 11,
   "metadata": {},
   "outputs": [
    {
     "data": {
      "text/html": [
       "<div>\n",
       "<style scoped>\n",
       "    .dataframe tbody tr th:only-of-type {\n",
       "        vertical-align: middle;\n",
       "    }\n",
       "\n",
       "    .dataframe tbody tr th {\n",
       "        vertical-align: top;\n",
       "    }\n",
       "\n",
       "    .dataframe thead th {\n",
       "        text-align: right;\n",
       "    }\n",
       "</style>\n",
       "<table border=\"1\" class=\"dataframe\">\n",
       "  <thead>\n",
       "    <tr style=\"text-align: right;\">\n",
       "      <th></th>\n",
       "      <th>user_prompt</th>\n",
       "      <th>system_prompt</th>\n",
       "      <th>gigachat_max_pred</th>\n",
       "    </tr>\n",
       "  </thead>\n",
       "  <tbody>\n",
       "    <tr>\n",
       "      <th>0</th>\n",
       "      <td>Заголовок новости: Комфортная среда. Cодержани...</td>\n",
       "      <td>Присутствует ли в заголовке новости игра слов?...</td>\n",
       "      <td>нет</td>\n",
       "    </tr>\n",
       "    <tr>\n",
       "      <th>1</th>\n",
       "      <td>Заголовок новости: Свинина стушевалась. Cодерж...</td>\n",
       "      <td>Присутствует ли в заголовке новости игра слов?...</td>\n",
       "      <td>да</td>\n",
       "    </tr>\n",
       "  </tbody>\n",
       "</table>\n",
       "</div>"
      ],
      "text/plain": [
       "                                         user_prompt  \\\n",
       "0  Заголовок новости: Комфортная среда. Cодержани...   \n",
       "1  Заголовок новости: Свинина стушевалась. Cодерж...   \n",
       "\n",
       "                                       system_prompt gigachat_max_pred  \n",
       "0  Присутствует ли в заголовке новости игра слов?...               нет  \n",
       "1  Присутствует ли в заголовке новости игра слов?...                да  "
      ]
     },
     "execution_count": 11,
     "metadata": {},
     "output_type": "execute_result"
    }
   ],
   "source": [
    "# explore GigaChat-Max\n",
    "\n",
    "df_gigachat_max.head(2)"
   ]
  },
  {
   "cell_type": "code",
   "execution_count": 12,
   "metadata": {},
   "outputs": [
    {
     "data": {
      "text/plain": [
       "нет                                                                                                                        1146\n",
       "да                                                                                                                          968\n",
       "не люблю менять тему разговора, но вот сейчас тот самый случай.                                                             134\n",
       "как у нейросетевой языковой модели у меня не может быть настроения, но почему-то я совсем не хочу говорить на эту тему.     126\n",
       "что-то в вашем вопросе меня смущает. может, поговорим на другую тему?                                                       125\n",
       "не знаю                                                                                                                       1\n",
       "Name: gigachat_max_pred, dtype: int64"
      ]
     },
     "execution_count": 12,
     "metadata": {},
     "output_type": "execute_result"
    }
   ],
   "source": [
    "df_gigachat_max[\"gigachat_max_pred\"].value_counts()"
   ]
  },
  {
   "cell_type": "code",
   "execution_count": 13,
   "metadata": {},
   "outputs": [],
   "source": [
    "def clear_gigachat_max_predictions(text_pred):\n",
    "    if text_pred.strip() == \"нет\":\n",
    "        return \"нет\"\n",
    "    elif text_pred.strip() == \"да\":\n",
    "        return \"да\"\n",
    "    elif text_pred.strip() == \"не знаю\":\n",
    "        return \"не знаю\"\n",
    "    else:\n",
    "        return \"нет\""
   ]
  },
  {
   "cell_type": "code",
   "execution_count": 14,
   "metadata": {},
   "outputs": [],
   "source": [
    "df_gigachat_max[\"gigachat_max_pred\"] = df_gigachat_max[\"gigachat_max_pred\"].apply(clear_gigachat_max_predictions)"
   ]
  },
  {
   "cell_type": "code",
   "execution_count": 15,
   "metadata": {},
   "outputs": [
    {
     "data": {
      "text/plain": [
       "нет        1531\n",
       "да          968\n",
       "не знаю       1\n",
       "Name: gigachat_max_pred, dtype: int64"
      ]
     },
     "execution_count": 15,
     "metadata": {},
     "output_type": "execute_result"
    }
   ],
   "source": [
    "df_gigachat_max[\"gigachat_max_pred\"].value_counts()"
   ]
  },
  {
   "cell_type": "code",
   "execution_count": 16,
   "metadata": {},
   "outputs": [],
   "source": [
    "df_gigachat_max[\"gigachat_max_pred\"] = df_gigachat_max[\"gigachat_max_pred\"].apply(binary_convert)"
   ]
  },
  {
   "cell_type": "code",
   "execution_count": 18,
   "metadata": {},
   "outputs": [
    {
     "name": "stdout",
     "output_type": "stream",
     "text": [
      "              precision    recall  f1-score   support\n",
      "\n",
      "       False       0.58      0.71      0.64      1259\n",
      "        True       0.62      0.48      0.54      1241\n",
      "\n",
      "    accuracy                           0.59      2500\n",
      "   macro avg       0.60      0.59      0.59      2500\n",
      "weighted avg       0.60      0.59      0.59      2500\n",
      "\n"
     ]
    }
   ],
   "source": [
    "print(classification_report(dataset[\"is_word_play\"], df_gigachat_max[\"gigachat_max_pred\"]))"
   ]
  },
  {
   "cell_type": "code",
   "execution_count": 21,
   "metadata": {},
   "outputs": [
    {
     "data": {
      "text/html": [
       "<div>\n",
       "<style scoped>\n",
       "    .dataframe tbody tr th:only-of-type {\n",
       "        vertical-align: middle;\n",
       "    }\n",
       "\n",
       "    .dataframe tbody tr th {\n",
       "        vertical-align: top;\n",
       "    }\n",
       "\n",
       "    .dataframe thead th {\n",
       "        text-align: right;\n",
       "    }\n",
       "</style>\n",
       "<table border=\"1\" class=\"dataframe\">\n",
       "  <thead>\n",
       "    <tr style=\"text-align: right;\">\n",
       "      <th></th>\n",
       "      <th>user_prompt</th>\n",
       "      <th>system_prompt</th>\n",
       "      <th>yagpt_pred</th>\n",
       "    </tr>\n",
       "  </thead>\n",
       "  <tbody>\n",
       "    <tr>\n",
       "      <th>0</th>\n",
       "      <td>Заголовок новости: Комфортная среда. Cодержани...</td>\n",
       "      <td>Присутствует ли в заголовке новости игра слов?...</td>\n",
       "      <td>нет</td>\n",
       "    </tr>\n",
       "    <tr>\n",
       "      <th>1</th>\n",
       "      <td>Заголовок новости: Свинина стушевалась. Cодерж...</td>\n",
       "      <td>Присутствует ли в заголовке новости игра слов?...</td>\n",
       "      <td>нет</td>\n",
       "    </tr>\n",
       "  </tbody>\n",
       "</table>\n",
       "</div>"
      ],
      "text/plain": [
       "                                         user_prompt  \\\n",
       "0  Заголовок новости: Комфортная среда. Cодержани...   \n",
       "1  Заголовок новости: Свинина стушевалась. Cодерж...   \n",
       "\n",
       "                                       system_prompt yagpt_pred  \n",
       "0  Присутствует ли в заголовке новости игра слов?...        нет  \n",
       "1  Присутствует ли в заголовке новости игра слов?...        нет  "
      ]
     },
     "execution_count": 21,
     "metadata": {},
     "output_type": "execute_result"
    }
   ],
   "source": [
    "# yandex gpt4\n",
    "\n",
    "df_yandexgpt.head(2)"
   ]
  },
  {
   "cell_type": "code",
   "execution_count": 22,
   "metadata": {},
   "outputs": [
    {
     "data": {
      "text/plain": [
       "нет                                                                                                           1262\n",
       "в интернете есть много сайтов с информацией на эту тему. [посмотрите, что нашлось в поиске](https://ya.ru)     619\n",
       "не знаю                                                                                                        477\n",
       "да                                                                                                             142\n",
       "Name: yagpt_pred, dtype: int64"
      ]
     },
     "execution_count": 22,
     "metadata": {},
     "output_type": "execute_result"
    }
   ],
   "source": [
    "df_yandexgpt[\"yagpt_pred\"].value_counts()"
   ]
  },
  {
   "cell_type": "code",
   "execution_count": 23,
   "metadata": {},
   "outputs": [],
   "source": [
    "def clear_yandex_predictions(text_pred):\n",
    "    if text_pred.strip() == \"нет\":\n",
    "        return \"нет\"\n",
    "    elif text_pred.strip() == \"да\":\n",
    "        return \"да\"\n",
    "    elif text_pred.strip() == \"не знаю\":\n",
    "        return \"не знаю\"\n",
    "    else:\n",
    "        return \"нет\""
   ]
  },
  {
   "cell_type": "code",
   "execution_count": 24,
   "metadata": {},
   "outputs": [],
   "source": [
    "df_yandexgpt[\"yagpt_pred\"] = df_yandexgpt[\"yagpt_pred\"].apply(clear_yandex_predictions)"
   ]
  },
  {
   "cell_type": "code",
   "execution_count": 25,
   "metadata": {},
   "outputs": [
    {
     "data": {
      "text/plain": [
       "нет        1881\n",
       "не знаю     477\n",
       "да          142\n",
       "Name: yagpt_pred, dtype: int64"
      ]
     },
     "execution_count": 25,
     "metadata": {},
     "output_type": "execute_result"
    }
   ],
   "source": [
    "df_yandexgpt[\"yagpt_pred\"].value_counts()"
   ]
  },
  {
   "cell_type": "code",
   "execution_count": 26,
   "metadata": {},
   "outputs": [],
   "source": [
    "df_yandexgpt[\"yagpt_pred\"] = df_yandexgpt[\"yagpt_pred\"].apply(binary_convert)"
   ]
  },
  {
   "cell_type": "code",
   "execution_count": 27,
   "metadata": {},
   "outputs": [
    {
     "name": "stdout",
     "output_type": "stream",
     "text": [
      "              precision    recall  f1-score   support\n",
      "\n",
      "       False       0.52      0.98      0.68      1259\n",
      "        True       0.83      0.10      0.17      1241\n",
      "\n",
      "    accuracy                           0.54      2500\n",
      "   macro avg       0.68      0.54      0.43      2500\n",
      "weighted avg       0.68      0.54      0.43      2500\n",
      "\n"
     ]
    }
   ],
   "source": [
    "print(classification_report(dataset[\"is_word_play\"], df_yandexgpt[\"yagpt_pred\"]))"
   ]
  },
  {
   "cell_type": "code",
   "execution_count": 28,
   "metadata": {},
   "outputs": [
    {
     "data": {
      "text/html": [
       "<div>\n",
       "<style scoped>\n",
       "    .dataframe tbody tr th:only-of-type {\n",
       "        vertical-align: middle;\n",
       "    }\n",
       "\n",
       "    .dataframe tbody tr th {\n",
       "        vertical-align: top;\n",
       "    }\n",
       "\n",
       "    .dataframe thead th {\n",
       "        text-align: right;\n",
       "    }\n",
       "</style>\n",
       "<table border=\"1\" class=\"dataframe\">\n",
       "  <thead>\n",
       "    <tr style=\"text-align: right;\">\n",
       "      <th></th>\n",
       "      <th>user_prompt</th>\n",
       "      <th>system_prompt</th>\n",
       "      <th>mistral_nemo_preds</th>\n",
       "    </tr>\n",
       "  </thead>\n",
       "  <tbody>\n",
       "    <tr>\n",
       "      <th>0</th>\n",
       "      <td>Заголовок новости: Комфортная среда. Cодержани...</td>\n",
       "      <td>Присутствует ли в заголовке новости игра слов?...</td>\n",
       "      <td>[{'generated_text': [{'role': 'system', 'conte...</td>\n",
       "    </tr>\n",
       "    <tr>\n",
       "      <th>1</th>\n",
       "      <td>Заголовок новости: Свинина стушевалась. Cодерж...</td>\n",
       "      <td>Присутствует ли в заголовке новости игра слов?...</td>\n",
       "      <td>[{'generated_text': [{'role': 'system', 'conte...</td>\n",
       "    </tr>\n",
       "  </tbody>\n",
       "</table>\n",
       "</div>"
      ],
      "text/plain": [
       "                                         user_prompt  \\\n",
       "0  Заголовок новости: Комфортная среда. Cодержани...   \n",
       "1  Заголовок новости: Свинина стушевалась. Cодерж...   \n",
       "\n",
       "                                       system_prompt  \\\n",
       "0  Присутствует ли в заголовке новости игра слов?...   \n",
       "1  Присутствует ли в заголовке новости игра слов?...   \n",
       "\n",
       "                                  mistral_nemo_preds  \n",
       "0  [{'generated_text': [{'role': 'system', 'conte...  \n",
       "1  [{'generated_text': [{'role': 'system', 'conte...  "
      ]
     },
     "execution_count": 28,
     "metadata": {},
     "output_type": "execute_result"
    }
   ],
   "source": [
    "# mistral\n",
    "df_mistral.head(2)"
   ]
  },
  {
   "cell_type": "code",
   "execution_count": 35,
   "metadata": {},
   "outputs": [],
   "source": [
    "def clear_mistral_prediction(text_pred):\n",
    "    \n",
    "    text = text_pred[0][\"generated_text\"][-1][\"content\"]\n",
    "\n",
    "    return text"
   ]
  },
  {
   "cell_type": "code",
   "execution_count": 36,
   "metadata": {},
   "outputs": [],
   "source": [
    "df_mistral[\"mistral_nemo_preds\"] = df_mistral[\"mistral_nemo_preds\"].apply(clear_mistral_prediction)"
   ]
  },
  {
   "cell_type": "code",
   "execution_count": 37,
   "metadata": {},
   "outputs": [
    {
     "data": {
      "text/plain": [
       "Нет.    2500\n",
       "Name: mistral_nemo_preds, dtype: int64"
      ]
     },
     "execution_count": 37,
     "metadata": {},
     "output_type": "execute_result"
    }
   ],
   "source": [
    "df_mistral[\"mistral_nemo_preds\"].value_counts()"
   ]
  },
  {
   "cell_type": "code",
   "execution_count": 39,
   "metadata": {},
   "outputs": [
    {
     "data": {
      "text/html": [
       "<div>\n",
       "<style scoped>\n",
       "    .dataframe tbody tr th:only-of-type {\n",
       "        vertical-align: middle;\n",
       "    }\n",
       "\n",
       "    .dataframe tbody tr th {\n",
       "        vertical-align: top;\n",
       "    }\n",
       "\n",
       "    .dataframe thead th {\n",
       "        text-align: right;\n",
       "    }\n",
       "</style>\n",
       "<table border=\"1\" class=\"dataframe\">\n",
       "  <thead>\n",
       "    <tr style=\"text-align: right;\">\n",
       "      <th></th>\n",
       "      <th>json_response</th>\n",
       "      <th>task_id</th>\n",
       "      <th>gpt4o_yes_no</th>\n",
       "    </tr>\n",
       "  </thead>\n",
       "  <tbody>\n",
       "    <tr>\n",
       "      <th>0</th>\n",
       "      <td>{'id': 'batch_req_67961e978118819092d351bbadcc...</td>\n",
       "      <td>0</td>\n",
       "      <td>нет</td>\n",
       "    </tr>\n",
       "    <tr>\n",
       "      <th>1</th>\n",
       "      <td>{'id': 'batch_req_67961e97a5f0819089ed462ea616...</td>\n",
       "      <td>1</td>\n",
       "      <td>да</td>\n",
       "    </tr>\n",
       "    <tr>\n",
       "      <th>2</th>\n",
       "      <td>{'id': 'batch_req_67961e97d634819083cb126efe14...</td>\n",
       "      <td>2</td>\n",
       "      <td>да</td>\n",
       "    </tr>\n",
       "    <tr>\n",
       "      <th>3</th>\n",
       "      <td>{'id': 'batch_req_67961e97fb088190af852a25ef94...</td>\n",
       "      <td>3</td>\n",
       "      <td>да</td>\n",
       "    </tr>\n",
       "    <tr>\n",
       "      <th>4</th>\n",
       "      <td>{'id': 'batch_req_67961e981f6081908b5e999ec82c...</td>\n",
       "      <td>4</td>\n",
       "      <td>да</td>\n",
       "    </tr>\n",
       "  </tbody>\n",
       "</table>\n",
       "</div>"
      ],
      "text/plain": [
       "                                       json_response  task_id gpt4o_yes_no\n",
       "0  {'id': 'batch_req_67961e978118819092d351bbadcc...        0          нет\n",
       "1  {'id': 'batch_req_67961e97a5f0819089ed462ea616...        1           да\n",
       "2  {'id': 'batch_req_67961e97d634819083cb126efe14...        2           да\n",
       "3  {'id': 'batch_req_67961e97fb088190af852a25ef94...        3           да\n",
       "4  {'id': 'batch_req_67961e981f6081908b5e999ec82c...        4           да"
      ]
     },
     "execution_count": 39,
     "metadata": {},
     "output_type": "execute_result"
    }
   ],
   "source": [
    "# GPT4-o\n",
    "\n",
    "df_gpt4.head()"
   ]
  },
  {
   "cell_type": "code",
   "execution_count": 41,
   "metadata": {},
   "outputs": [
    {
     "data": {
      "text/plain": [
       "да          1610\n",
       "нет          819\n",
       "не знаю       42\n",
       "Да.           20\n",
       "Нет.           8\n",
       "Не знаю.       1\n",
       "Name: gpt4o_yes_no, dtype: int64"
      ]
     },
     "execution_count": 41,
     "metadata": {},
     "output_type": "execute_result"
    }
   ],
   "source": [
    "df_gpt4[\"gpt4o_yes_no\"].value_counts()"
   ]
  },
  {
   "cell_type": "code",
   "execution_count": 42,
   "metadata": {},
   "outputs": [],
   "source": [
    "def clear_gpt4o_prediction(text_pred):\n",
    "    \n",
    "    text = str.lower(text_pred)\n",
    "    text = text.replace(\".\", \"\")\n",
    "\n",
    "    return text"
   ]
  },
  {
   "cell_type": "code",
   "execution_count": 43,
   "metadata": {},
   "outputs": [],
   "source": [
    "df_gpt4[\"gpt4o_yes_no\"] = df_gpt4[\"gpt4o_yes_no\"].apply(clear_gpt4o_prediction)"
   ]
  },
  {
   "cell_type": "code",
   "execution_count": 44,
   "metadata": {},
   "outputs": [
    {
     "data": {
      "text/plain": [
       "да         1630\n",
       "нет         827\n",
       "не знаю      43\n",
       "Name: gpt4o_yes_no, dtype: int64"
      ]
     },
     "execution_count": 44,
     "metadata": {},
     "output_type": "execute_result"
    }
   ],
   "source": [
    "df_gpt4[\"gpt4o_yes_no\"].value_counts()"
   ]
  },
  {
   "cell_type": "code",
   "execution_count": 45,
   "metadata": {},
   "outputs": [],
   "source": [
    "df_gpt4[\"gpt4o_yes_no\"] = df_gpt4[\"gpt4o_yes_no\"].apply(binary_convert)"
   ]
  },
  {
   "cell_type": "code",
   "execution_count": 46,
   "metadata": {},
   "outputs": [
    {
     "name": "stdout",
     "output_type": "stream",
     "text": [
      "              precision    recall  f1-score   support\n",
      "\n",
      "       False       0.73      0.51      0.60      1259\n",
      "        True       0.62      0.81      0.70      1241\n",
      "\n",
      "    accuracy                           0.66      2500\n",
      "   macro avg       0.67      0.66      0.65      2500\n",
      "weighted avg       0.67      0.66      0.65      2500\n",
      "\n"
     ]
    }
   ],
   "source": [
    "print(classification_report(dataset[\"is_word_play\"], df_gpt4[\"gpt4o_yes_no\"]))"
   ]
  },
  {
   "cell_type": "code",
   "execution_count": null,
   "metadata": {},
   "outputs": [],
   "source": []
  }
 ],
 "metadata": {
  "kernelspec": {
   "display_name": "general_venv",
   "language": "python",
   "name": "python3"
  },
  "language_info": {
   "codemirror_mode": {
    "name": "ipython",
    "version": 3
   },
   "file_extension": ".py",
   "mimetype": "text/x-python",
   "name": "python",
   "nbconvert_exporter": "python",
   "pygments_lexer": "ipython3",
   "version": "3.10.12"
  }
 },
 "nbformat": 4,
 "nbformat_minor": 2
}
