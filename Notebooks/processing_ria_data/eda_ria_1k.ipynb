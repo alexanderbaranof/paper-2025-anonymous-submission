{
 "cells": [
  {
   "cell_type": "code",
   "execution_count": 1,
   "metadata": {},
   "outputs": [],
   "source": [
    "import pandas as pd\n",
    "\n",
    "import json\n",
    "\n",
    "import copy\n",
    "\n",
    "import re"
   ]
  },
  {
   "cell_type": "code",
   "execution_count": 2,
   "metadata": {},
   "outputs": [],
   "source": [
    "from bs4 import BeautifulSoup"
   ]
  },
  {
   "cell_type": "code",
   "execution_count": 3,
   "metadata": {},
   "outputs": [],
   "source": [
    "data = []\n",
    "with open('/home/alex/paper-2025-anonymous-submission/Data/raw_data/ria_1k.json', 'r') as file:\n",
    "    for line in file:\n",
    "        data.append(json.loads(line))"
   ]
  },
  {
   "cell_type": "code",
   "execution_count": 4,
   "metadata": {},
   "outputs": [],
   "source": [
    "for i in range(len(data)):\n",
    "    data[i][\"text\"] = re.sub(r\"<strong>.*?</strong>\", \"\", data[i][\"text\"], flags=re.DOTALL)\n",
    "    data[i][\"text\"] = re.sub(r\"<p>\\s*</p>\", \"\", data[i][\"text\"])\n",
    "    soup = BeautifulSoup(data[i][\"text\"], \"html.parser\")\n",
    "\n",
    "    paragraphs = [p.get_text() for p in soup.find_all(\"p\")]\n",
    "    paragraphs = [item for item in paragraphs if item.strip()]\n",
    "    paragraphs = [re.sub(r\"^\\.\\s*\", \"\", item) for item in paragraphs]\n",
    "    if len(paragraphs) > 0:\n",
    "        data[i][\"text\"] = paragraphs[0].strip()\n",
    "    else:\n",
    "        paragraphs = [p.get_text() for p in soup.find_all(\"div\")]\n",
    "        data[i][\"text\"] = paragraphs[0].strip()"
   ]
  },
  {
   "cell_type": "code",
   "execution_count": 6,
   "metadata": {},
   "outputs": [],
   "source": [
    "df = pd.DataFrame(data)"
   ]
  },
  {
   "cell_type": "code",
   "execution_count": 7,
   "metadata": {},
   "outputs": [],
   "source": [
    "df = df.rename(columns={\n",
    "    \"title\": \"headline\",\n",
    "    \"text\": \"lead\"\n",
    "})"
   ]
  },
  {
   "cell_type": "code",
   "execution_count": 8,
   "metadata": {},
   "outputs": [
    {
     "data": {
      "text/html": [
       "<div>\n",
       "<style scoped>\n",
       "    .dataframe tbody tr th:only-of-type {\n",
       "        vertical-align: middle;\n",
       "    }\n",
       "\n",
       "    .dataframe tbody tr th {\n",
       "        vertical-align: top;\n",
       "    }\n",
       "\n",
       "    .dataframe thead th {\n",
       "        text-align: right;\n",
       "    }\n",
       "</style>\n",
       "<table border=\"1\" class=\"dataframe\">\n",
       "  <thead>\n",
       "    <tr style=\"text-align: right;\">\n",
       "      <th></th>\n",
       "      <th>lead</th>\n",
       "      <th>headline</th>\n",
       "    </tr>\n",
       "  </thead>\n",
       "  <tbody>\n",
       "    <tr>\n",
       "      <th>0</th>\n",
       "      <td>на украине уволили уже больше 500 чиновников. ...</td>\n",
       "      <td>украинская люстрация: жертвоприношение во власти</td>\n",
       "    </tr>\n",
       "    <tr>\n",
       "      <th>1</th>\n",
       "      <td>цена на нефть марки brent, ранее в понедельник...</td>\n",
       "      <td>цена на нефть марки brent поднялась выше $73 з...</td>\n",
       "    </tr>\n",
       "    <tr>\n",
       "      <th>2</th>\n",
       "      <td>число россиян, пострадавших в дтп в окрестност...</td>\n",
       "      <td>число пострадавших в аварии в таиланде россиян...</td>\n",
       "    </tr>\n",
       "    <tr>\n",
       "      <th>3</th>\n",
       "      <td>строительство детского сада на улице маршала т...</td>\n",
       "      <td>собянин открыл детсад в хорошево-мневниках в м...</td>\n",
       "    </tr>\n",
       "    <tr>\n",
       "      <th>4</th>\n",
       "      <td>группа компаний \"ташир\" построит перинатально-...</td>\n",
       "      <td>\"ташир\" построит в москве перинатально-кардиол...</td>\n",
       "    </tr>\n",
       "    <tr>\n",
       "      <th>...</th>\n",
       "      <td>...</td>\n",
       "      <td>...</td>\n",
       "    </tr>\n",
       "    <tr>\n",
       "      <th>995</th>\n",
       "      <td>главными стратегическими учениями для армии ро...</td>\n",
       "      <td>крупнейшими учениями для вс россии в 2015 году...</td>\n",
       "    </tr>\n",
       "    <tr>\n",
       "      <th>996</th>\n",
       "      <td>ракетные войска стратегического назначения (рв...</td>\n",
       "      <td>рвсн россии проведут в 2015 году более ста учений</td>\n",
       "    </tr>\n",
       "    <tr>\n",
       "      <th>997</th>\n",
       "      <td>сухопутные войска россии в 2015 году примут уч...</td>\n",
       "      <td>сухопутные войска россии в 2015 году проведут ...</td>\n",
       "    </tr>\n",
       "    <tr>\n",
       "      <th>998</th>\n",
       "      <td>полиция мексиканского города чилапа в штате ге...</td>\n",
       "      <td>еще несколько сожженных тел нашли в мексиканск...</td>\n",
       "    </tr>\n",
       "    <tr>\n",
       "      <th>999</th>\n",
       "      <td>крупный пожар начался в одном из цехов в север...</td>\n",
       "      <td>гумчс: цех горит на севере москвы на площади 2...</td>\n",
       "    </tr>\n",
       "  </tbody>\n",
       "</table>\n",
       "<p>1000 rows × 2 columns</p>\n",
       "</div>"
      ],
      "text/plain": [
       "                                                  lead  \\\n",
       "0    на украине уволили уже больше 500 чиновников. ...   \n",
       "1    цена на нефть марки brent, ранее в понедельник...   \n",
       "2    число россиян, пострадавших в дтп в окрестност...   \n",
       "3    строительство детского сада на улице маршала т...   \n",
       "4    группа компаний \"ташир\" построит перинатально-...   \n",
       "..                                                 ...   \n",
       "995  главными стратегическими учениями для армии ро...   \n",
       "996  ракетные войска стратегического назначения (рв...   \n",
       "997  сухопутные войска россии в 2015 году примут уч...   \n",
       "998  полиция мексиканского города чилапа в штате ге...   \n",
       "999  крупный пожар начался в одном из цехов в север...   \n",
       "\n",
       "                                              headline  \n",
       "0     украинская люстрация: жертвоприношение во власти  \n",
       "1    цена на нефть марки brent поднялась выше $73 з...  \n",
       "2    число пострадавших в аварии в таиланде россиян...  \n",
       "3    собянин открыл детсад в хорошево-мневниках в м...  \n",
       "4    \"ташир\" построит в москве перинатально-кардиол...  \n",
       "..                                                 ...  \n",
       "995  крупнейшими учениями для вс россии в 2015 году...  \n",
       "996  рвсн россии проведут в 2015 году более ста учений  \n",
       "997  сухопутные войска россии в 2015 году проведут ...  \n",
       "998  еще несколько сожженных тел нашли в мексиканск...  \n",
       "999  гумчс: цех горит на севере москвы на площади 2...  \n",
       "\n",
       "[1000 rows x 2 columns]"
      ]
     },
     "execution_count": 8,
     "metadata": {},
     "output_type": "execute_result"
    }
   ],
   "source": [
    "df"
   ]
  },
  {
   "cell_type": "code",
   "execution_count": 9,
   "metadata": {},
   "outputs": [],
   "source": [
    "df.to_json(\"/home/alex/paper-2025-anonymous-submission/Data/processed_data/ria_dataset.json\")"
   ]
  },
  {
   "cell_type": "code",
   "execution_count": null,
   "metadata": {},
   "outputs": [],
   "source": []
  }
 ],
 "metadata": {
  "kernelspec": {
   "display_name": "general_venv",
   "language": "python",
   "name": "python3"
  },
  "language_info": {
   "codemirror_mode": {
    "name": "ipython",
    "version": 3
   },
   "file_extension": ".py",
   "mimetype": "text/x-python",
   "name": "python",
   "nbconvert_exporter": "python",
   "pygments_lexer": "ipython3",
   "version": "3.10.12"
  }
 },
 "nbformat": 4,
 "nbformat_minor": 2
}
