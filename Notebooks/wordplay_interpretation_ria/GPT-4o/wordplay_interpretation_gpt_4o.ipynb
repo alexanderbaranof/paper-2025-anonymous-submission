{
 "cells": [
  {
   "cell_type": "code",
   "execution_count": 1,
   "metadata": {},
   "outputs": [],
   "source": [
    "# imports\n",
    "import os\n",
    "import json\n",
    "\n",
    "import httpx\n",
    "import pandas as pd\n",
    "from openai import OpenAI\n"
   ]
  },
  {
   "cell_type": "code",
   "execution_count": 2,
   "metadata": {},
   "outputs": [],
   "source": [
    "# path\n",
    "PROJECT_PATH = \"/home/alex/paper-2025-anonymous-submission/\""
   ]
  },
  {
   "cell_type": "code",
   "execution_count": 3,
   "metadata": {},
   "outputs": [
    {
     "name": "stdout",
     "output_type": "stream",
     "text": [
      "{\"ip\":\"80.242.58.96\"}\n"
     ]
    }
   ],
   "source": [
    "# config\n",
    "\n",
    "with open(os.path.join(PROJECT_PATH, \"api_credentials.json\")) as f:\n",
    "    configs = json.load(f)\n",
    "\n",
    "proxies=dict(\n",
    "    http=f\"socks5://{configs['proxy_login']}:{configs['proxy_password']}@{configs['proxy_ip']}\",\n",
    "    https=f\"socks5://{configs['proxy_login']}:{configs['proxy_password']}@{configs['proxy_ip']}\"\n",
    ")\n",
    "\n",
    "client_example = httpx.Client(proxy=proxies[\"https\"])\n",
    "print(client_example.get(\"http://jsonip.com\").text)"
   ]
  },
  {
   "cell_type": "code",
   "execution_count": 4,
   "metadata": {},
   "outputs": [],
   "source": [
    "# model config and client\n",
    "\n",
    "OPENAI_MOEDL = \"gpt-4o-2024-08-06\"\n",
    "OPENAI_MOEDL_TEMPERATURE = 0.1\n",
    "\n",
    "TASK_FILE_NAME = \"wordplay_interpretation_gpt_4o_tasks_ria.json\"\n",
    "TASK_FILE_NAME_PATH = os.path.join(PROJECT_PATH, f\"Data/openai_batch_task/{TASK_FILE_NAME}\")\n",
    "\n",
    "TASK_RESULT_FILE_NAME = \"wordplay_interpretation_gpt_4o_predictions_ria.json\"\n",
    "TASK_RESULT_FILE_NAME_PATH = os.path.join(PROJECT_PATH, f\"Data/predictions/{TASK_RESULT_FILE_NAME}\")\n"
   ]
  },
  {
   "cell_type": "code",
   "execution_count": 5,
   "metadata": {},
   "outputs": [],
   "source": [
    "client = OpenAI(api_key=configs[\"openai_token\"] , http_client=client_example)"
   ]
  },
  {
   "cell_type": "code",
   "execution_count": 6,
   "metadata": {},
   "outputs": [],
   "source": [
    "# load data\n",
    "\n",
    "df = pd.read_json(\n",
    "    \"/home/alex/paper-2025-anonymous-submission/Data/processed_data/ria_interpretation.json\",\n",
    "    orient=\"index\"\n",
    ")"
   ]
  },
  {
   "cell_type": "code",
   "execution_count": 7,
   "metadata": {},
   "outputs": [
    {
     "data": {
      "text/html": [
       "<div>\n",
       "<style scoped>\n",
       "    .dataframe tbody tr th:only-of-type {\n",
       "        vertical-align: middle;\n",
       "    }\n",
       "\n",
       "    .dataframe tbody tr th {\n",
       "        vertical-align: top;\n",
       "    }\n",
       "\n",
       "    .dataframe thead th {\n",
       "        text-align: right;\n",
       "    }\n",
       "</style>\n",
       "<table border=\"1\" class=\"dataframe\">\n",
       "  <thead>\n",
       "    <tr style=\"text-align: right;\">\n",
       "      <th></th>\n",
       "      <th>user_prompt</th>\n",
       "      <th>system_prompt</th>\n",
       "    </tr>\n",
       "  </thead>\n",
       "  <tbody>\n",
       "    <tr>\n",
       "      <th>0</th>\n",
       "      <td>Заголовок новости: украинская люстрация: жертв...</td>\n",
       "      <td>\\nПроанализируй заголовок новости в контексте ...</td>\n",
       "    </tr>\n",
       "    <tr>\n",
       "      <th>1</th>\n",
       "      <td>Заголовок новости: цена на нефть марки brent п...</td>\n",
       "      <td>\\nПроанализируй заголовок новости в контексте ...</td>\n",
       "    </tr>\n",
       "  </tbody>\n",
       "</table>\n",
       "</div>"
      ],
      "text/plain": [
       "                                         user_prompt  \\\n",
       "0  Заголовок новости: украинская люстрация: жертв...   \n",
       "1  Заголовок новости: цена на нефть марки brent п...   \n",
       "\n",
       "                                       system_prompt  \n",
       "0  \\nПроанализируй заголовок новости в контексте ...  \n",
       "1  \\nПроанализируй заголовок новости в контексте ...  "
      ]
     },
     "execution_count": 7,
     "metadata": {},
     "output_type": "execute_result"
    }
   ],
   "source": [
    "df.head(2)"
   ]
  },
  {
   "cell_type": "code",
   "execution_count": 8,
   "metadata": {},
   "outputs": [],
   "source": [
    "# generate task file\n",
    "\n",
    "tasks = []\n",
    "for index, row in df.iterrows():\n",
    "    task_id = index\n",
    "    task = {\n",
    "        \"custom_id\": f\"task-{task_id}\",\n",
    "        \"method\": \"POST\",\n",
    "        \"url\": \"/v1/chat/completions\",\n",
    "        \"body\": {\n",
    "            \"model\": OPENAI_MOEDL,\n",
    "            \"temperature\": OPENAI_MOEDL_TEMPERATURE,\n",
    "            \"messages\": [\n",
    "                {\n",
    "                    \"role\": \"system\",\n",
    "                    \"content\": row[\"system_prompt\"]\n",
    "                },\n",
    "                {\n",
    "                    \"role\": \"user\",\n",
    "                    \"content\": row[\"user_prompt\"]\n",
    "                }\n",
    "            ],\n",
    "        }\n",
    "    }\n",
    "    tasks.append(task)\n",
    "\n",
    "with open(TASK_FILE_NAME_PATH, 'w') as file:\n",
    "    for obj in tasks:\n",
    "        file.write(\n",
    "            json.dumps(obj) + '\\n'\n",
    "        )"
   ]
  },
  {
   "cell_type": "code",
   "execution_count": 9,
   "metadata": {},
   "outputs": [],
   "source": [
    "# run tasks\n",
    "\n",
    "batch_file = client.files.create(\n",
    "  file=open(TASK_FILE_NAME_PATH, \"rb\"),\n",
    "  purpose=\"batch\"\n",
    ")\n",
    "\n",
    "batch_job = client.batches.create(\n",
    "  input_file_id=batch_file.id,\n",
    "  endpoint=\"/v1/chat/completions\",\n",
    "  completion_window=\"24h\"\n",
    ")"
   ]
  },
  {
   "cell_type": "code",
   "execution_count": 16,
   "metadata": {},
   "outputs": [
    {
     "name": "stdout",
     "output_type": "stream",
     "text": [
      "completed\n",
      "BatchRequestCounts(completed=1000, failed=0, total=1000)\n"
     ]
    }
   ],
   "source": [
    "batch_job = client.batches.retrieve(batch_job.id)\n",
    "print(batch_job.status)\n",
    "print(batch_job.request_counts)"
   ]
  },
  {
   "cell_type": "code",
   "execution_count": 17,
   "metadata": {},
   "outputs": [],
   "source": [
    "# save results\n",
    "\n",
    "result_file_id = batch_job.output_file_id\n",
    "result = client.files.content(result_file_id).content\n",
    "result = str(result, \"utf-8\").split(\"\\n\")\n",
    "result = result[:-1]\n",
    "assert len(df) == len(result)\n",
    "result = [json.loads(t) for t in result]\n",
    "\n",
    "df_results = pd.DataFrame()\n",
    "df_results[\"json_response\"] = result\n",
    "\n",
    "df_results[\"task_id\"] = df_results[\"json_response\"].apply(lambda x: x[\"custom_id\"])\n",
    "df_results[\"task_id\"] = df_results[\"task_id\"].apply(lambda x: x.split(\"-\")[1])\n",
    "df_results[\"gpt4o_explain\"] = df_results[\"json_response\"].apply(lambda x: x[\"response\"][\"body\"][\"choices\"][0][\"message\"][\"content\"])\n",
    "\n",
    "\n",
    "df_results.to_json(\n",
    "    TASK_RESULT_FILE_NAME_PATH, orient=\"index\"\n",
    ")"
   ]
  },
  {
   "cell_type": "code",
   "execution_count": 18,
   "metadata": {},
   "outputs": [
    {
     "data": {
      "text/html": [
       "<div>\n",
       "<style scoped>\n",
       "    .dataframe tbody tr th:only-of-type {\n",
       "        vertical-align: middle;\n",
       "    }\n",
       "\n",
       "    .dataframe tbody tr th {\n",
       "        vertical-align: top;\n",
       "    }\n",
       "\n",
       "    .dataframe thead th {\n",
       "        text-align: right;\n",
       "    }\n",
       "</style>\n",
       "<table border=\"1\" class=\"dataframe\">\n",
       "  <thead>\n",
       "    <tr style=\"text-align: right;\">\n",
       "      <th></th>\n",
       "      <th>json_response</th>\n",
       "      <th>task_id</th>\n",
       "      <th>gpt4o_explain</th>\n",
       "    </tr>\n",
       "  </thead>\n",
       "  <tbody>\n",
       "    <tr>\n",
       "      <th>0</th>\n",
       "      <td>{'id': 'batch_req_67a5e3a8c6bc8190a46a15a9f86d...</td>\n",
       "      <td>0</td>\n",
       "      <td>В заголовке есть игра слов. \\n\\nСмысл игры сло...</td>\n",
       "    </tr>\n",
       "    <tr>\n",
       "      <th>1</th>\n",
       "      <td>{'id': 'batch_req_67a5e3a8de788190a64ca7f55e41...</td>\n",
       "      <td>1</td>\n",
       "      <td>в заголовке нет игры слов</td>\n",
       "    </tr>\n",
       "    <tr>\n",
       "      <th>2</th>\n",
       "      <td>{'id': 'batch_req_67a5e3a8f7548190904d5460adac...</td>\n",
       "      <td>2</td>\n",
       "      <td>в заголовке нет игры слов</td>\n",
       "    </tr>\n",
       "    <tr>\n",
       "      <th>3</th>\n",
       "      <td>{'id': 'batch_req_67a5e3a908888190b43621e0d20f...</td>\n",
       "      <td>3</td>\n",
       "      <td>в заголовке нет игры слов</td>\n",
       "    </tr>\n",
       "    <tr>\n",
       "      <th>4</th>\n",
       "      <td>{'id': 'batch_req_67a5e3a91c088190864faf985ad0...</td>\n",
       "      <td>4</td>\n",
       "      <td>в заголовке нет игры слов</td>\n",
       "    </tr>\n",
       "    <tr>\n",
       "      <th>...</th>\n",
       "      <td>...</td>\n",
       "      <td>...</td>\n",
       "      <td>...</td>\n",
       "    </tr>\n",
       "    <tr>\n",
       "      <th>995</th>\n",
       "      <td>{'id': 'batch_req_67a5e3f5720881908412efd2f677...</td>\n",
       "      <td>995</td>\n",
       "      <td>в заголовке нет игры слов</td>\n",
       "    </tr>\n",
       "    <tr>\n",
       "      <th>996</th>\n",
       "      <td>{'id': 'batch_req_67a5e3f585e88190b5922af54f0e...</td>\n",
       "      <td>996</td>\n",
       "      <td>в заголовке нет игры слов.</td>\n",
       "    </tr>\n",
       "    <tr>\n",
       "      <th>997</th>\n",
       "      <td>{'id': 'batch_req_67a5e3f597288190bf216b9375a9...</td>\n",
       "      <td>997</td>\n",
       "      <td>в заголовке нет игры слов</td>\n",
       "    </tr>\n",
       "    <tr>\n",
       "      <th>998</th>\n",
       "      <td>{'id': 'batch_req_67a5e3f5aa088190b72eb9feb56c...</td>\n",
       "      <td>998</td>\n",
       "      <td>в заголовке нет игры слов</td>\n",
       "    </tr>\n",
       "    <tr>\n",
       "      <th>999</th>\n",
       "      <td>{'id': 'batch_req_67a5e3f5bab481908dff6279e006...</td>\n",
       "      <td>999</td>\n",
       "      <td>в заголовке нет игры слов</td>\n",
       "    </tr>\n",
       "  </tbody>\n",
       "</table>\n",
       "<p>1000 rows × 3 columns</p>\n",
       "</div>"
      ],
      "text/plain": [
       "                                         json_response task_id  \\\n",
       "0    {'id': 'batch_req_67a5e3a8c6bc8190a46a15a9f86d...       0   \n",
       "1    {'id': 'batch_req_67a5e3a8de788190a64ca7f55e41...       1   \n",
       "2    {'id': 'batch_req_67a5e3a8f7548190904d5460adac...       2   \n",
       "3    {'id': 'batch_req_67a5e3a908888190b43621e0d20f...       3   \n",
       "4    {'id': 'batch_req_67a5e3a91c088190864faf985ad0...       4   \n",
       "..                                                 ...     ...   \n",
       "995  {'id': 'batch_req_67a5e3f5720881908412efd2f677...     995   \n",
       "996  {'id': 'batch_req_67a5e3f585e88190b5922af54f0e...     996   \n",
       "997  {'id': 'batch_req_67a5e3f597288190bf216b9375a9...     997   \n",
       "998  {'id': 'batch_req_67a5e3f5aa088190b72eb9feb56c...     998   \n",
       "999  {'id': 'batch_req_67a5e3f5bab481908dff6279e006...     999   \n",
       "\n",
       "                                         gpt4o_explain  \n",
       "0    В заголовке есть игра слов. \\n\\nСмысл игры сло...  \n",
       "1                            в заголовке нет игры слов  \n",
       "2                            в заголовке нет игры слов  \n",
       "3                            в заголовке нет игры слов  \n",
       "4                            в заголовке нет игры слов  \n",
       "..                                                 ...  \n",
       "995                          в заголовке нет игры слов  \n",
       "996                         в заголовке нет игры слов.  \n",
       "997                          в заголовке нет игры слов  \n",
       "998                          в заголовке нет игры слов  \n",
       "999                          в заголовке нет игры слов  \n",
       "\n",
       "[1000 rows x 3 columns]"
      ]
     },
     "execution_count": 18,
     "metadata": {},
     "output_type": "execute_result"
    }
   ],
   "source": [
    "df_results"
   ]
  },
  {
   "cell_type": "code",
   "execution_count": 19,
   "metadata": {},
   "outputs": [
    {
     "data": {
      "text/plain": [
       "в заголовке нет игры слов                                                                                                                                                                                                                                                                                                                                                                                                                                                                                                                                                                                                                                                                                                                                                                                                                                                       901\n",
       "в заголовке нет игры слов.                                                                                                                                                                                                                                                                                                                                                                                                                                                                                                                                                                                                                                                                                                                                                                                                                                                       89\n",
       "В заголовке нет игры слов.                                                                                                                                                                                                                                                                                                                                                                                                                                                                                                                                                                                                                                                                                                                                                                                                                                                        2\n",
       "В заголовке есть игра слов. \\n\\nСмысл игры слов заключается в использовании термина \"люстрация\", который в данном контексте означает процесс очищения власти от коррумпированных или нежелательных чиновников. Однако в заголовке это слово обыгрывается с помощью слова \"жертвоприношение\", что создает ассоциацию с ритуальным актом принесения жертвы. Это подчеркивает драматичность и, возможно, жестокость процесса увольнения большого количества чиновников, как будто они приносятся в жертву ради очищения власти.\\n\\nИспользованный метод – метафора, где увольнение чиновников представлено как жертвоприношение, что усиливает эмоциональное восприятие новости и привлекает внимание к теме люстрации. Связь с основным текстом заключается в том, что в статье обсуждается массовое увольнение чиновников в рамках люстрации, что и обыгрывается в заголовке.      1\n",
       "В заголовке есть игра слов. Использован фразеологизм \"республика с наценкой\", который обыгрывает название \"Республика Крым\" и указывает на повышение цен. Это создает двойное значение: с одной стороны, это географическое название, с другой — намек на увеличение стоимости отдыха в Крыму по сравнению с Сочи. Игра слов подчеркивает основную тему статьи о сравнении цен на отдых в разных регионах.                                                                                                                                                                                                                                                                                                                                                                                                                                                                        1\n",
       "В заголовке есть игра слов. \\n\\nСмысл игры слов заключается в использовании фразы \"ни флага, ни 'родины'\", которая отсылает к известному выражению \"ни флага, ни родины\", означающему отсутствие привязанности или принадлежности к какой-либо стране. В данном контексте слово \"родина\" взято в кавычки, что может указывать на ироничное или специфическое значение, связанное с ситуацией в Молдавии. \\n\\nИспользованные методы включают в себя игру с устойчивым выражением и добавление кавычек для создания дополнительного смысла. Это связано с основным текстом, который описывает неопределенность и проблемы, с которыми сталкивается Молдавия в контексте выборов и организации голосования для своих граждан за границей. Заголовок подчеркивает отсутствие четкой позиции или решения, что отражается в содержании новости.                                         1\n",
       "В заголовке есть игра слов. Используется игра с именем \"мистер Секонд\", что может быть интерпретировано как \"второй\" или \"второсортный\". Это связано с тем, что Дональд Туск стал вторым президентом Европейского Союза после Хермана Ван Ромпея. Также это может намекать на восприятие Туска как менее значимой или менее яркой фигуры по сравнению с его предшественником, что подчеркивается в содержании новости через цитаты и мнения о его недостаточной харизме и необходимости проявлять осторожность и аккуратность.                                                                                                                                                                                                                                                                                                                                                    1\n",
       "В заголовке есть игра слов. Используется омонимия слова \"рубеж\": с одной стороны, это может означать границу или предел, а с другой — это созвучно с \"рубль\". Таким образом, заголовок намекает на то, что рубль находится на важном или критическом этапе (историческом рубеже) из-за изменений в валютных курсах. Это связано с основным текстом, который говорит о том, что рубль достиг исторических максимумов по отношению к доллару и евро.                                                                                                                                                                                                                                                                                                                                                                                                                                1\n",
       "В заголовке есть игра слов. Фраза \"игры с огнем\" используется в переносном смысле, чтобы подчеркнуть рискованность действий Ангелы Меркель в политической сфере. Это выражение обычно означает, что кто-то занимается опасными или рискованными действиями, которые могут привести к негативным последствиям. В данном контексте, \"игры с огнем\" указывают на то, что политика Меркель, направленная на поддержку Вашингтона и критику России, может привести к обострению отношений в Европе и нанести ущерб экономическим интересам Германии и других европейских стран.                                                                                                                                                                                                                                                                                                        1\n",
       "В заголовке есть игра слов. Фраза \"послали в лес\" обычно используется в русском языке в переносном смысле, означая отказ или пренебрежительное отношение к просьбе. В данном контексте она обыгрывает ситуацию, когда учителям предлагают искать вторую работу, что воспринимается как отказ в повышении зарплаты. Заголовок использует иронию, чтобы подчеркнуть, что вместо выполнения обещаний о повышении зарплат, учителям предлагают самим искать дополнительные источники дохода.                                                                                                                                                                                                                                                                                                                                                                                          1\n",
       "В заголовке есть игра слов. Он представляет собой адаптацию известной русской поговорки \"и хочется, и колется, и мама не велит\", которая обычно используется для описания ситуации, когда человек хочет что-то сделать, но сталкивается с препятствиями или внутренними сомнениями. В данном контексте заголовок обыгрывает ситуацию, в которой находится Франсуа Олланд, президент Франции, в вопросе военно-технического сотрудничества с Россией. Он хочет завершить сделку по передаче вертолетоносцев \"Мистраль\", но сталкивается с политическими и, возможно, международными препятствиями, которые мешают этому. Таким образом, заголовок удачно передает суть дилеммы, с которой сталкивается французское правительство.                                                                                                                                                  1\n",
       "Name: gpt4o_explain, dtype: int64"
      ]
     },
     "execution_count": 19,
     "metadata": {},
     "output_type": "execute_result"
    }
   ],
   "source": [
    "df_results[\"gpt4o_explain\"].value_counts()"
   ]
  },
  {
   "cell_type": "code",
   "execution_count": null,
   "metadata": {},
   "outputs": [],
   "source": []
  }
 ],
 "metadata": {
  "kernelspec": {
   "display_name": "general_venv",
   "language": "python",
   "name": "python3"
  },
  "language_info": {
   "codemirror_mode": {
    "name": "ipython",
    "version": 3
   },
   "file_extension": ".py",
   "mimetype": "text/x-python",
   "name": "python",
   "nbconvert_exporter": "python",
   "pygments_lexer": "ipython3",
   "version": "3.10.12"
  }
 },
 "nbformat": 4,
 "nbformat_minor": 2
}
