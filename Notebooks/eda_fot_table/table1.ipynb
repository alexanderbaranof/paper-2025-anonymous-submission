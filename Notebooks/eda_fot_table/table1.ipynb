{
 "cells": [
  {
   "cell_type": "code",
   "execution_count": 1,
   "metadata": {},
   "outputs": [],
   "source": [
    "# imports\n",
    "import os\n",
    "\n",
    "import pandas as pd\n",
    "import numpy as np\n",
    "from sklearn.metrics import classification_report, f1_score, recall_score"
   ]
  },
  {
   "cell_type": "code",
   "execution_count": 2,
   "metadata": {},
   "outputs": [],
   "source": [
    "# configs\n",
    "PROJECT_PATH = \"/home/alex/paper-2025-anonymous-submission\""
   ]
  },
  {
   "cell_type": "code",
   "execution_count": 3,
   "metadata": {},
   "outputs": [
    {
     "name": "stderr",
     "output_type": "stream",
     "text": [
      "/home/alex/aspirantura_hse/general_venv/lib/python3.10/site-packages/pandas/core/tools/datetimes.py:557: RuntimeWarning: invalid value encountered in cast\n",
      "  arr, tz_parsed = tslib.array_with_unit_to_datetime(arg, unit, errors=errors)\n",
      "/home/alex/aspirantura_hse/general_venv/lib/python3.10/site-packages/pandas/core/tools/datetimes.py:557: RuntimeWarning: invalid value encountered in cast\n",
      "  arr, tz_parsed = tslib.array_with_unit_to_datetime(arg, unit, errors=errors)\n"
     ]
    }
   ],
   "source": [
    "# load data\n",
    "\n",
    "dataset = pd.read_json(\n",
    "    os.path.join(\n",
    "        PROJECT_PATH,\n",
    "        \"Data/processed_data/dataset.json\"\n",
    "    ),\n",
    "    orient=\"index\"\n",
    ")\n",
    "\n",
    "dev_dataset = pd.read_json(\n",
    "    os.path.join(\n",
    "        PROJECT_PATH,\n",
    "        \"Data/processed_data/dev_dataset.json\"\n",
    "    ),\n",
    "    orient=\"index\"\n",
    ")"
   ]
  },
  {
   "cell_type": "code",
   "execution_count": 4,
   "metadata": {},
   "outputs": [],
   "source": [
    "df = pd.concat([dataset, dev_dataset])"
   ]
  },
  {
   "cell_type": "code",
   "execution_count": 5,
   "metadata": {},
   "outputs": [
    {
     "data": {
      "text/html": [
       "<div>\n",
       "<style scoped>\n",
       "    .dataframe tbody tr th:only-of-type {\n",
       "        vertical-align: middle;\n",
       "    }\n",
       "\n",
       "    .dataframe tbody tr th {\n",
       "        vertical-align: top;\n",
       "    }\n",
       "\n",
       "    .dataframe thead th {\n",
       "        text-align: right;\n",
       "    }\n",
       "</style>\n",
       "<table border=\"1\" class=\"dataframe\">\n",
       "  <thead>\n",
       "    <tr style=\"text-align: right;\">\n",
       "      <th></th>\n",
       "      <th>annotations</th>\n",
       "      <th>summary</th>\n",
       "      <th>is_word_play</th>\n",
       "      <th>date</th>\n",
       "      <th>article_url</th>\n",
       "      <th>headline</th>\n",
       "      <th>lead</th>\n",
       "    </tr>\n",
       "  </thead>\n",
       "  <tbody>\n",
       "    <tr>\n",
       "      <th>0</th>\n",
       "      <td>None</td>\n",
       "      <td>Жилищный нацпроект помимо количественных целей...</td>\n",
       "      <td>False</td>\n",
       "      <td>2021-12-16</td>\n",
       "      <td>https://www.kommersant.ru/doc/5130217</td>\n",
       "      <td>Комфортная среда</td>\n",
       "      <td>Городскую среду улучшают с учетом мнения жителей</td>\n",
       "    </tr>\n",
       "    <tr>\n",
       "      <th>1</th>\n",
       "      <td>[{'headline_substring': 'стушевалась', 'start_...</td>\n",
       "      <td>Окончание летних каникул и сезона шашлыков при...</td>\n",
       "      <td>True</td>\n",
       "      <td>2021-08-09</td>\n",
       "      <td>https://www.kommersant.ru/doc/4976692</td>\n",
       "      <td>Свинина стушевалась</td>\n",
       "      <td>Началось сезонное снижение цен</td>\n",
       "    </tr>\n",
       "    <tr>\n",
       "      <th>2</th>\n",
       "      <td>[{'headline_substring': '«Истока»', 'start_ind...</td>\n",
       "      <td>Как стало известно “Ъ”, главное военное следст...</td>\n",
       "      <td>True</td>\n",
       "      <td>2023-09-11</td>\n",
       "      <td>https://www.kommersant.ru/doc/6210688</td>\n",
       "      <td>Исток с «Истока»</td>\n",
       "      <td>Раскрыта преступная группа несунов с оборонног...</td>\n",
       "    </tr>\n",
       "    <tr>\n",
       "      <th>3</th>\n",
       "      <td>[{'headline_substring': 'Налетай, позеленело',...</td>\n",
       "      <td>Как выяснил “Ъ”, крупнейший инвестор в солнечн...</td>\n",
       "      <td>True</td>\n",
       "      <td>2021-04-08</td>\n",
       "      <td>https://www.kommersant.ru/doc/4928249</td>\n",
       "      <td>Налетай, позеленело</td>\n",
       "      <td>Компания «Хевел» выставила электроэнергию со с...</td>\n",
       "    </tr>\n",
       "    <tr>\n",
       "      <th>4</th>\n",
       "      <td>[{'headline_substring': 'Гриппы по осени счита...</td>\n",
       "      <td>В России стартовала кампания прививок против г...</td>\n",
       "      <td>True</td>\n",
       "      <td>2023-09-11</td>\n",
       "      <td>https://www.kommersant.ru/doc/6210686</td>\n",
       "      <td>Гриппы по осени считают</td>\n",
       "      <td>В России началась массовая вакцинация от вируса</td>\n",
       "    </tr>\n",
       "    <tr>\n",
       "      <th>...</th>\n",
       "      <td>...</td>\n",
       "      <td>...</td>\n",
       "      <td>...</td>\n",
       "      <td>...</td>\n",
       "      <td>...</td>\n",
       "      <td>...</td>\n",
       "      <td>...</td>\n",
       "    </tr>\n",
       "    <tr>\n",
       "      <th>195</th>\n",
       "      <td>[{'headline_substring': 'подошли', 'start_inde...</td>\n",
       "      <td>Основными покупателями стартапов в 2021 году с...</td>\n",
       "      <td>True</td>\n",
       "      <td>2021-08-12</td>\n",
       "      <td>https://www.kommersant.ru/doc/5117889</td>\n",
       "      <td>К стартапам подошли экосистемно</td>\n",
       "      <td>Корпорации начали активнее инвестировать в нов...</td>\n",
       "    </tr>\n",
       "    <tr>\n",
       "      <th>196</th>\n",
       "      <td>[{'headline_substring': 'Звезда по имени Моди'...</td>\n",
       "      <td>Новость об успешной посадке на Луне индийской ...</td>\n",
       "      <td>True</td>\n",
       "      <td>2023-08-24</td>\n",
       "      <td>https://www.kommersant.ru/doc/6174473</td>\n",
       "      <td>Звезда по имени Моди</td>\n",
       "      <td>Обозреватель “Ъ” Сергей Строкань — о новом гло...</td>\n",
       "    </tr>\n",
       "    <tr>\n",
       "      <th>197</th>\n",
       "      <td>None</td>\n",
       "      <td>В Кемерово суд арестовал Михаила Федяева, през...</td>\n",
       "      <td>False</td>\n",
       "      <td>2021-12-15</td>\n",
       "      <td>https://www.kommersant.ru/doc/5130733</td>\n",
       "      <td>Собственник подорвался на шахте</td>\n",
       "      <td>По делу о ЧП на «Листвяжной» арестован президе...</td>\n",
       "    </tr>\n",
       "    <tr>\n",
       "      <th>198</th>\n",
       "      <td>None</td>\n",
       "      <td>Авторынок РФ в августе продолжил медленное вос...</td>\n",
       "      <td>False</td>\n",
       "      <td>2022-08-30</td>\n",
       "      <td>https://www.kommersant.ru/doc/5535961</td>\n",
       "      <td>Авторынок растет на льготных кредитах</td>\n",
       "      <td>Lada обеспечила более трети продаж в августе</td>\n",
       "    </tr>\n",
       "    <tr>\n",
       "      <th>199</th>\n",
       "      <td>[{'headline_substring': 'Протекционизм дороже ...</td>\n",
       "      <td>Белый дом расширил протекционистские меры для ...</td>\n",
       "      <td>True</td>\n",
       "      <td>2021-02-09</td>\n",
       "      <td>https://www.kommersant.ru/doc/4967534</td>\n",
       "      <td>Протекционизм дороже технологий</td>\n",
       "      <td>Госзакупки избавляют от импорта ради продаж ро...</td>\n",
       "    </tr>\n",
       "  </tbody>\n",
       "</table>\n",
       "<p>2700 rows × 7 columns</p>\n",
       "</div>"
      ],
      "text/plain": [
       "                                           annotations  \\\n",
       "0                                                 None   \n",
       "1    [{'headline_substring': 'стушевалась', 'start_...   \n",
       "2    [{'headline_substring': '«Истока»', 'start_ind...   \n",
       "3    [{'headline_substring': 'Налетай, позеленело',...   \n",
       "4    [{'headline_substring': 'Гриппы по осени счита...   \n",
       "..                                                 ...   \n",
       "195  [{'headline_substring': 'подошли', 'start_inde...   \n",
       "196  [{'headline_substring': 'Звезда по имени Моди'...   \n",
       "197                                               None   \n",
       "198                                               None   \n",
       "199  [{'headline_substring': 'Протекционизм дороже ...   \n",
       "\n",
       "                                               summary  is_word_play  \\\n",
       "0    Жилищный нацпроект помимо количественных целей...         False   \n",
       "1    Окончание летних каникул и сезона шашлыков при...          True   \n",
       "2    Как стало известно “Ъ”, главное военное следст...          True   \n",
       "3    Как выяснил “Ъ”, крупнейший инвестор в солнечн...          True   \n",
       "4    В России стартовала кампания прививок против г...          True   \n",
       "..                                                 ...           ...   \n",
       "195  Основными покупателями стартапов в 2021 году с...          True   \n",
       "196  Новость об успешной посадке на Луне индийской ...          True   \n",
       "197  В Кемерово суд арестовал Михаила Федяева, през...         False   \n",
       "198  Авторынок РФ в августе продолжил медленное вос...         False   \n",
       "199  Белый дом расширил протекционистские меры для ...          True   \n",
       "\n",
       "          date                            article_url  \\\n",
       "0   2021-12-16  https://www.kommersant.ru/doc/5130217   \n",
       "1   2021-08-09  https://www.kommersant.ru/doc/4976692   \n",
       "2   2023-09-11  https://www.kommersant.ru/doc/6210688   \n",
       "3   2021-04-08  https://www.kommersant.ru/doc/4928249   \n",
       "4   2023-09-11  https://www.kommersant.ru/doc/6210686   \n",
       "..         ...                                    ...   \n",
       "195 2021-08-12  https://www.kommersant.ru/doc/5117889   \n",
       "196 2023-08-24  https://www.kommersant.ru/doc/6174473   \n",
       "197 2021-12-15  https://www.kommersant.ru/doc/5130733   \n",
       "198 2022-08-30  https://www.kommersant.ru/doc/5535961   \n",
       "199 2021-02-09  https://www.kommersant.ru/doc/4967534   \n",
       "\n",
       "                                  headline  \\\n",
       "0                         Комфортная среда   \n",
       "1                      Свинина стушевалась   \n",
       "2                         Исток с «Истока»   \n",
       "3                      Налетай, позеленело   \n",
       "4                  Гриппы по осени считают   \n",
       "..                                     ...   \n",
       "195        К стартапам подошли экосистемно   \n",
       "196                   Звезда по имени Моди   \n",
       "197        Собственник подорвался на шахте   \n",
       "198  Авторынок растет на льготных кредитах   \n",
       "199        Протекционизм дороже технологий   \n",
       "\n",
       "                                                  lead  \n",
       "0     Городскую среду улучшают с учетом мнения жителей  \n",
       "1                       Началось сезонное снижение цен  \n",
       "2    Раскрыта преступная группа несунов с оборонног...  \n",
       "3    Компания «Хевел» выставила электроэнергию со с...  \n",
       "4      В России началась массовая вакцинация от вируса  \n",
       "..                                                 ...  \n",
       "195  Корпорации начали активнее инвестировать в нов...  \n",
       "196  Обозреватель “Ъ” Сергей Строкань — о новом гло...  \n",
       "197  По делу о ЧП на «Листвяжной» арестован президе...  \n",
       "198       Lada обеспечила более трети продаж в августе  \n",
       "199  Госзакупки избавляют от импорта ради продаж ро...  \n",
       "\n",
       "[2700 rows x 7 columns]"
      ]
     },
     "execution_count": 5,
     "metadata": {},
     "output_type": "execute_result"
    }
   ],
   "source": [
    "df"
   ]
  },
  {
   "cell_type": "code",
   "execution_count": 6,
   "metadata": {},
   "outputs": [],
   "source": [
    "def extract_annotations_labels(annotations):\n",
    "    \n",
    "    all_wordplay_type = list()\n",
    "    \n",
    "    if isinstance(annotations, list):\n",
    "        for annot in annotations:\n",
    "            if isinstance(annot, dict):\n",
    "                all_wordplay_type.append(\n",
    "                    annot[\"wordplay_type\"]\n",
    "                )\n",
    "            elif isinstance(annot, list):\n",
    "                all_wordplay_type.append(\n",
    "                    annot[0][\"wordplay_type\"]\n",
    "                )\n",
    "    \n",
    "    return all_wordplay_type\n"
   ]
  },
  {
   "cell_type": "code",
   "execution_count": 7,
   "metadata": {},
   "outputs": [],
   "source": [
    "def extract_annotations_ref_str(annotations):\n",
    "    \n",
    "    all_wordplay_type = list()\n",
    "    \n",
    "    if isinstance(annotations, list):\n",
    "        for annot in annotations:\n",
    "            if isinstance(annot, dict):\n",
    "                all_wordplay_type.append(\n",
    "                    annot[\"reference_string\"]\n",
    "                )\n",
    "            elif isinstance(annot, list):\n",
    "                for t_ann in annot:\n",
    "                    all_wordplay_type.append(\n",
    "                        t_ann[\"reference_string\"]\n",
    "                    )\n",
    "    \n",
    "    return all_wordplay_type\n"
   ]
  },
  {
   "cell_type": "code",
   "execution_count": 8,
   "metadata": {},
   "outputs": [],
   "source": [
    "def extract_annotations_headline_substring(annotations):\n",
    "    \n",
    "    all_wordplay_type = list()\n",
    "    \n",
    "    if isinstance(annotations, list):\n",
    "        for annot in annotations:\n",
    "            if isinstance(annot, dict):\n",
    "                all_wordplay_type.append(\n",
    "                    annot[\"headline_substring\"]\n",
    "                )\n",
    "            elif isinstance(annot, list):\n",
    "                for t_ann in annot:\n",
    "                    all_wordplay_type.append(\n",
    "                        t_ann[\"headline_substring\"]\n",
    "                    )\n",
    "    \n",
    "    return all_wordplay_type"
   ]
  },
  {
   "cell_type": "code",
   "execution_count": 9,
   "metadata": {},
   "outputs": [],
   "source": [
    "wikipedia_urls = 0\n",
    "witionary_urls = 0"
   ]
  },
  {
   "cell_type": "code",
   "execution_count": 10,
   "metadata": {},
   "outputs": [],
   "source": [
    "def extract_annotations_labels_with_links(annotations):\n",
    "\n",
    "    global wikipedia_urls\n",
    "    global witionary_urls\n",
    "    \n",
    "    all_wordplay_type = list()\n",
    "    \n",
    "    if isinstance(annotations, list):\n",
    "        for annot in annotations:\n",
    "            if isinstance(annot, dict) and \"http\" in annot[\"reference_url\"]:\n",
    "                all_wordplay_type.append(\n",
    "                    annot[\"wordplay_type\"]\n",
    "                )\n",
    "                if annot[\"wordplay_type\"] in [\"Collocation\", \"Reference\", \"Idiom\"]:\n",
    "                    if \"wikipedia\" in annot[\"reference_url\"]:\n",
    "                        wikipedia_urls += 1\n",
    "                    else:\n",
    "                        witionary_urls += 1\n",
    "            elif isinstance(annot, list) and \"http\" in annot[0][\"reference_url\"]:\n",
    "                all_wordplay_type.append(\n",
    "                    annot[0][\"wordplay_type\"]\n",
    "                )\n",
    "\n",
    "                if annot[0][\"wordplay_type\"] in [\"Collocation\", \"Reference\", \"Idiom\"]:\n",
    "                    if \"wikipedia\" in annot[0][\"reference_url\"]:\n",
    "                        wikipedia_urls += 1\n",
    "                    else:\n",
    "                        witionary_urls += 1\n",
    "    \n",
    "    return all_wordplay_type\n"
   ]
  },
  {
   "cell_type": "code",
   "execution_count": 11,
   "metadata": {},
   "outputs": [],
   "source": [
    "df[\"all_wordplay_type\"] = df[\"annotations\"].apply(extract_annotations_labels)\n"
   ]
  },
  {
   "cell_type": "code",
   "execution_count": 12,
   "metadata": {},
   "outputs": [
    {
     "data": {
      "text/plain": [
       "(0, 0)"
      ]
     },
     "execution_count": 12,
     "metadata": {},
     "output_type": "execute_result"
    }
   ],
   "source": [
    "wikipedia_urls, witionary_urls"
   ]
  },
  {
   "cell_type": "code",
   "execution_count": 13,
   "metadata": {},
   "outputs": [],
   "source": [
    "df[\"all_wordplay_type_link\"] = df[\"annotations\"].apply(extract_annotations_labels_with_links)"
   ]
  },
  {
   "cell_type": "code",
   "execution_count": 14,
   "metadata": {},
   "outputs": [
    {
     "data": {
      "text/plain": [
       "Collocation            424\n",
       "Reference              352\n",
       "Polysemy               190\n",
       "Nonce word             185\n",
       "Idiom                  177\n",
       "Phonetic similarity     98\n",
       "Oxymoron                48\n",
       "Homonymy                26\n",
       "Name: all_wordplay_type, dtype: int64"
      ]
     },
     "execution_count": 14,
     "metadata": {},
     "output_type": "execute_result"
    }
   ],
   "source": [
    "df[\"all_wordplay_type\"].explode().value_counts()"
   ]
  },
  {
   "cell_type": "code",
   "execution_count": 15,
   "metadata": {},
   "outputs": [
    {
     "data": {
      "text/plain": [
       "Reference              213\n",
       "Collocation            127\n",
       "Idiom                  118\n",
       "Homonymy                 4\n",
       "Polysemy                 2\n",
       "Nonce word               2\n",
       "Phonetic similarity      2\n",
       "Name: all_wordplay_type_link, dtype: int64"
      ]
     },
     "execution_count": 15,
     "metadata": {},
     "output_type": "execute_result"
    }
   ],
   "source": [
    "df[\"all_wordplay_type_link\"].explode().value_counts()"
   ]
  },
  {
   "cell_type": "code",
   "execution_count": 16,
   "metadata": {},
   "outputs": [],
   "source": [
    "def extract_links(annotations):\n",
    "    \n",
    "    all_wordplay_type = list()\n",
    "    \n",
    "    if isinstance(annotations, list):\n",
    "        for annot in annotations:\n",
    "            if isinstance(annot, dict) and \"http\" in annot[\"reference_url\"]:\n",
    "                all_wordplay_type.append(\n",
    "                    annot[\"reference_url\"]\n",
    "                )\n",
    "            elif isinstance(annot, list) and \"http\" in annot[0][\"reference_url\"]:\n",
    "                all_wordplay_type.append(\n",
    "                    annot[0][\"reference_url\"]\n",
    "                )\n",
    "    \n",
    "    return all_wordplay_type\n"
   ]
  },
  {
   "cell_type": "code",
   "execution_count": 17,
   "metadata": {},
   "outputs": [],
   "source": [
    "df[\"all_links\"] = df[\"annotations\"].apply(extract_links)"
   ]
  },
  {
   "cell_type": "code",
   "execution_count": 18,
   "metadata": {},
   "outputs": [
    {
     "data": {
      "text/plain": [
       "468"
      ]
     },
     "execution_count": 18,
     "metadata": {},
     "output_type": "execute_result"
    }
   ],
   "source": [
    "len(df[\"all_links\"].explode().dropna().tolist())"
   ]
  },
  {
   "cell_type": "code",
   "execution_count": 19,
   "metadata": {},
   "outputs": [],
   "source": [
    "df[\"all_reference_string\"] = df[\"annotations\"].apply(extract_annotations_ref_str)"
   ]
  },
  {
   "cell_type": "code",
   "execution_count": 20,
   "metadata": {},
   "outputs": [
    {
     "data": {
      "text/html": [
       "<div>\n",
       "<style scoped>\n",
       "    .dataframe tbody tr th:only-of-type {\n",
       "        vertical-align: middle;\n",
       "    }\n",
       "\n",
       "    .dataframe tbody tr th {\n",
       "        vertical-align: top;\n",
       "    }\n",
       "\n",
       "    .dataframe thead th {\n",
       "        text-align: right;\n",
       "    }\n",
       "</style>\n",
       "<table border=\"1\" class=\"dataframe\">\n",
       "  <thead>\n",
       "    <tr style=\"text-align: right;\">\n",
       "      <th></th>\n",
       "      <th>all_reference_string</th>\n",
       "    </tr>\n",
       "  </thead>\n",
       "  <tbody>\n",
       "    <tr>\n",
       "      <th>0</th>\n",
       "      <td>[]</td>\n",
       "    </tr>\n",
       "    <tr>\n",
       "      <th>1</th>\n",
       "      <td>[]</td>\n",
       "    </tr>\n",
       "    <tr>\n",
       "      <th>2</th>\n",
       "      <td>[]</td>\n",
       "    </tr>\n",
       "    <tr>\n",
       "      <th>3</th>\n",
       "      <td>[налетай - подешевело]</td>\n",
       "    </tr>\n",
       "    <tr>\n",
       "      <th>4</th>\n",
       "      <td>[цыплят по осени считают]</td>\n",
       "    </tr>\n",
       "    <tr>\n",
       "      <th>...</th>\n",
       "      <td>...</td>\n",
       "    </tr>\n",
       "    <tr>\n",
       "      <th>195</th>\n",
       "      <td>[подошли системно, [системно, экосистема]]</td>\n",
       "    </tr>\n",
       "    <tr>\n",
       "      <th>196</th>\n",
       "      <td>[Звезда по имени Солнце]</td>\n",
       "    </tr>\n",
       "    <tr>\n",
       "      <th>197</th>\n",
       "      <td>[]</td>\n",
       "    </tr>\n",
       "    <tr>\n",
       "      <th>198</th>\n",
       "      <td>[]</td>\n",
       "    </tr>\n",
       "    <tr>\n",
       "      <th>199</th>\n",
       "      <td>[уговор дороже денег]</td>\n",
       "    </tr>\n",
       "  </tbody>\n",
       "</table>\n",
       "<p>2700 rows × 1 columns</p>\n",
       "</div>"
      ],
      "text/plain": [
       "                           all_reference_string\n",
       "0                                            []\n",
       "1                                            []\n",
       "2                                            []\n",
       "3                        [налетай - подешевело]\n",
       "4                     [цыплят по осени считают]\n",
       "..                                          ...\n",
       "195  [подошли системно, [системно, экосистема]]\n",
       "196                    [Звезда по имени Солнце]\n",
       "197                                          []\n",
       "198                                          []\n",
       "199                       [уговор дороже денег]\n",
       "\n",
       "[2700 rows x 1 columns]"
      ]
     },
     "execution_count": 20,
     "metadata": {},
     "output_type": "execute_result"
    }
   ],
   "source": [
    "df[[\"all_reference_string\"]]"
   ]
  },
  {
   "cell_type": "code",
   "execution_count": 21,
   "metadata": {},
   "outputs": [],
   "source": [
    "df[\"all_headline_substring\"] = df[\"annotations\"].apply(extract_annotations_headline_substring)"
   ]
  },
  {
   "cell_type": "code",
   "execution_count": null,
   "metadata": {},
   "outputs": [],
   "source": []
  },
  {
   "cell_type": "code",
   "execution_count": 22,
   "metadata": {},
   "outputs": [
    {
     "data": {
      "text/plain": [
       "15.0"
      ]
     },
     "execution_count": 22,
     "metadata": {},
     "output_type": "execute_result"
    }
   ],
   "source": [
    "df[\"all_reference_string\"].explode().dropna().apply(len).median()"
   ]
  },
  {
   "cell_type": "code",
   "execution_count": 23,
   "metadata": {},
   "outputs": [
    {
     "data": {
      "text/plain": [
       "2.0"
      ]
     },
     "execution_count": 23,
     "metadata": {},
     "output_type": "execute_result"
    }
   ],
   "source": [
    "df[\"all_reference_string\"].explode().explode().dropna().apply(lambda x: x.split(\" \")).apply(len).median()"
   ]
  },
  {
   "cell_type": "code",
   "execution_count": 24,
   "metadata": {},
   "outputs": [
    {
     "data": {
      "text/plain": [
       "{'Collocation',\n",
       " 'Homonymy',\n",
       " 'Idiom',\n",
       " 'Nonce word',\n",
       " 'Oxymoron',\n",
       " 'Phonetic similarity',\n",
       " 'Polysemy',\n",
       " 'Reference',\n",
       " nan}"
      ]
     },
     "execution_count": 24,
     "metadata": {},
     "output_type": "execute_result"
    }
   ],
   "source": [
    "set(df[\"all_wordplay_type\"].explode().tolist())"
   ]
  },
  {
   "cell_type": "code",
   "execution_count": 25,
   "metadata": {},
   "outputs": [],
   "source": [
    "stats_tbl = dict()"
   ]
  },
  {
   "cell_type": "code",
   "execution_count": 26,
   "metadata": {},
   "outputs": [
    {
     "name": "stdout",
     "output_type": "stream",
     "text": [
      "Polysemy 10.45 1.51\n",
      "Homonymy 8.29 1.57\n",
      "Phonetic similarity 10.47 1.8\n",
      "Collocation 18.44 2.64\n",
      "Idiom 20.18 3.43\n",
      "Reference 22.93 3.73\n",
      "Nonce word 13.76 1.44\n",
      "Oxymoron 16.18 2.02\n"
     ]
    }
   ],
   "source": [
    "all_types = [\n",
    " 'Polysemy',\n",
    " 'Homonymy',\n",
    " 'Phonetic similarity',\n",
    " 'Collocation',\n",
    " 'Idiom',\n",
    " 'Reference',\n",
    " 'Nonce word',\n",
    " 'Oxymoron',\n",
    " ]\n",
    "\n",
    "for i, tt in enumerate(all_types):\n",
    "    tmp_df = df.copy()\n",
    "    tmp_df[\"is_need\"] = tmp_df[\"all_wordplay_type\"].apply(lambda x: True if tt in x else False)\n",
    "    tmp_df = tmp_df[tmp_df[\"is_need\"]]\n",
    "\n",
    "    stats_tbl[i] = {\n",
    "        \"wordplay type\": tt,\n",
    "        \"word len mean\": np.round(tmp_df[\"all_headline_substring\"].explode().dropna().apply(lambda x: x.split(\" \")).apply(len).mean(), 2),\n",
    "        \"symbol len mean\": np.round(tmp_df[\"all_headline_substring\"].explode().dropna().apply(len).mean(), 2)\n",
    "    }\n",
    "\n",
    "    print(tt, np.round(tmp_df[\"all_headline_substring\"].explode().dropna().apply(len).mean(), 2), np.round(tmp_df[\"all_headline_substring\"].explode().dropna().apply(lambda x: x.split(\" \")).apply(len).mean(), 2))\n",
    "    "
   ]
  },
  {
   "cell_type": "code",
   "execution_count": 27,
   "metadata": {},
   "outputs": [
    {
     "name": "stdout",
     "output_type": "stream",
     "text": [
      "\\begin{tabular}{llrr}\n",
      "\\toprule\n",
      "{} &        wordplay type &  word len mean &  symbol len mean \\\\\n",
      "\\midrule\n",
      "0 &             Polysemy &           1.51 &            10.45 \\\\\n",
      "1 &             Homonymy &           1.57 &             8.29 \\\\\n",
      "2 &  Phonetic similarity &           1.80 &            10.47 \\\\\n",
      "3 &          Collocation &           2.64 &            18.44 \\\\\n",
      "4 &                Idiom &           3.43 &            20.18 \\\\\n",
      "5 &            Reference &           3.73 &            22.93 \\\\\n",
      "6 &           Nonce word &           1.44 &            13.76 \\\\\n",
      "7 &             Oxymoron &           2.02 &            16.18 \\\\\n",
      "\\bottomrule\n",
      "\\end{tabular}\n",
      "\n"
     ]
    },
    {
     "name": "stderr",
     "output_type": "stream",
     "text": [
      "/tmp/ipykernel_1751/1386570770.py:1: FutureWarning: In future versions `DataFrame.to_latex` is expected to utilise the base implementation of `Styler.to_latex` for formatting and rendering. The arguments signature may therefore change. It is recommended instead to use `DataFrame.style.to_latex` which also contains additional functionality.\n",
      "  print(pd.DataFrame().from_dict(stats_tbl, orient=\"index\").to_latex())\n"
     ]
    }
   ],
   "source": [
    "print(pd.DataFrame().from_dict(stats_tbl, orient=\"index\").to_latex())"
   ]
  },
  {
   "cell_type": "code",
   "execution_count": 29,
   "metadata": {},
   "outputs": [],
   "source": [
    "df[\"all_wordplay_type_len\"] = df[\"all_wordplay_type\"].apply(lambda x: len(x))"
   ]
  },
  {
   "cell_type": "code",
   "execution_count": 66,
   "metadata": {},
   "outputs": [
    {
     "data": {
      "text/html": [
       "<div>\n",
       "<style scoped>\n",
       "    .dataframe tbody tr th:only-of-type {\n",
       "        vertical-align: middle;\n",
       "    }\n",
       "\n",
       "    .dataframe tbody tr th {\n",
       "        vertical-align: top;\n",
       "    }\n",
       "\n",
       "    .dataframe thead th {\n",
       "        text-align: right;\n",
       "    }\n",
       "</style>\n",
       "<table border=\"1\" class=\"dataframe\">\n",
       "  <thead>\n",
       "    <tr style=\"text-align: right;\">\n",
       "      <th></th>\n",
       "      <th>annotations</th>\n",
       "      <th>summary</th>\n",
       "      <th>is_word_play</th>\n",
       "      <th>date</th>\n",
       "      <th>article_url</th>\n",
       "      <th>headline</th>\n",
       "      <th>lead</th>\n",
       "      <th>all_wordplay_type</th>\n",
       "      <th>all_wordplay_type_link</th>\n",
       "      <th>all_links</th>\n",
       "      <th>all_reference_string</th>\n",
       "      <th>all_headline_substring</th>\n",
       "      <th>all_wordplay_type_len</th>\n",
       "    </tr>\n",
       "  </thead>\n",
       "  <tbody>\n",
       "    <tr>\n",
       "      <th>253</th>\n",
       "      <td>[{'headline_substring': 'Диалектический пилома...</td>\n",
       "      <td>Пиломатериалы и лесопромышленная продукция нач...</td>\n",
       "      <td>True</td>\n",
       "      <td>2021-10-27</td>\n",
       "      <td>https://www.kommersant.ru/doc/5051268</td>\n",
       "      <td>Диалектический пиломатериализм</td>\n",
       "      <td>Цены на фанеру и доски начали снижаться вслед ...</td>\n",
       "      <td>[Collocation, Nonce word]</td>\n",
       "      <td>[Collocation]</td>\n",
       "      <td>[https://ru.wikipedia.org/wiki/Диалектический_...</td>\n",
       "      <td>[Диалектический материализм, [материализм, пил...</td>\n",
       "      <td>[Диалектический пиломатериализм, пиломатериализм]</td>\n",
       "      <td>2</td>\n",
       "    </tr>\n",
       "    <tr>\n",
       "      <th>2200</th>\n",
       "      <td>[{'headline_substring': 'Чистые', 'start_index...</td>\n",
       "      <td>На фоне участившихся заявлений компаний об амб...</td>\n",
       "      <td>True</td>\n",
       "      <td>2021-10-08</td>\n",
       "      <td>https://www.kommersant.ru/doc/4910877</td>\n",
       "      <td>Чистые нулевые выбросы нечисты</td>\n",
       "      <td>Экологи критикуют планы компаний по достижению...</td>\n",
       "      <td>[Oxymoron, Oxymoron]</td>\n",
       "      <td>[]</td>\n",
       "      <td>[]</td>\n",
       "      <td>[, ]</td>\n",
       "      <td>[Чистые, нечисты]</td>\n",
       "      <td>2</td>\n",
       "    </tr>\n",
       "  </tbody>\n",
       "</table>\n",
       "</div>"
      ],
      "text/plain": [
       "                                            annotations  \\\n",
       "253   [{'headline_substring': 'Диалектический пилома...   \n",
       "2200  [{'headline_substring': 'Чистые', 'start_index...   \n",
       "\n",
       "                                                summary  is_word_play  \\\n",
       "253   Пиломатериалы и лесопромышленная продукция нач...          True   \n",
       "2200  На фоне участившихся заявлений компаний об амб...          True   \n",
       "\n",
       "           date                            article_url  \\\n",
       "253  2021-10-27  https://www.kommersant.ru/doc/5051268   \n",
       "2200 2021-10-08  https://www.kommersant.ru/doc/4910877   \n",
       "\n",
       "                            headline  \\\n",
       "253   Диалектический пиломатериализм   \n",
       "2200  Чистые нулевые выбросы нечисты   \n",
       "\n",
       "                                                   lead  \\\n",
       "253   Цены на фанеру и доски начали снижаться вслед ...   \n",
       "2200  Экологи критикуют планы компаний по достижению...   \n",
       "\n",
       "              all_wordplay_type all_wordplay_type_link  \\\n",
       "253   [Collocation, Nonce word]          [Collocation]   \n",
       "2200       [Oxymoron, Oxymoron]                     []   \n",
       "\n",
       "                                              all_links  \\\n",
       "253   [https://ru.wikipedia.org/wiki/Диалектический_...   \n",
       "2200                                                 []   \n",
       "\n",
       "                                   all_reference_string  \\\n",
       "253   [Диалектический материализм, [материализм, пил...   \n",
       "2200                                               [, ]   \n",
       "\n",
       "                                 all_headline_substring  all_wordplay_type_len  \n",
       "253   [Диалектический пиломатериализм, пиломатериализм]                      2  \n",
       "2200                                  [Чистые, нечисты]                      2  "
      ]
     },
     "execution_count": 66,
     "metadata": {},
     "output_type": "execute_result"
    }
   ],
   "source": [
    "df[\n",
    "    df[\"all_wordplay_type_len\"] > 1\n",
    "].sample(2)"
   ]
  },
  {
   "cell_type": "code",
   "execution_count": 52,
   "metadata": {},
   "outputs": [],
   "source": [
    "from pprint import pprint"
   ]
  },
  {
   "cell_type": "code",
   "execution_count": 59,
   "metadata": {},
   "outputs": [
    {
     "data": {
      "text/plain": [
       "'https://www.kommersant.ru/doc/6212002'"
      ]
     },
     "execution_count": 59,
     "metadata": {},
     "output_type": "execute_result"
    }
   ],
   "source": [
    "\"https://www.kommersant.ru/doc/6212002\""
   ]
  },
  {
   "cell_type": "code",
   "execution_count": 67,
   "metadata": {},
   "outputs": [
    {
     "data": {
      "text/plain": [
       "[{'headline_substring': 'Диалектический пиломатериализм',\n",
       "  'start_index': 0,\n",
       "  'end_index': 30,\n",
       "  'wordplay_type': 'Collocation',\n",
       "  'reference_string': 'Диалектический материализм',\n",
       "  'reference_url': 'https://ru.wikipedia.org/wiki/Диалектический_материализм'},\n",
       " {'headline_substring': 'пиломатериализм',\n",
       "  'start_index': 15,\n",
       "  'end_index': 30,\n",
       "  'wordplay_type': 'Nonce word',\n",
       "  'reference_string': ['материализм', 'пиломатериалы'],\n",
       "  'reference_url': ['', '']}]"
      ]
     },
     "execution_count": 67,
     "metadata": {},
     "output_type": "execute_result"
    }
   ],
   "source": [
    "df[df[\"article_url\"] == \"https://www.kommersant.ru/doc/5051268\"][\"annotations\"].iloc[0]"
   ]
  },
  {
   "cell_type": "code",
   "execution_count": 35,
   "metadata": {},
   "outputs": [
    {
     "data": {
      "text/plain": [
       "17.616810059563203"
      ]
     },
     "execution_count": 35,
     "metadata": {},
     "output_type": "execute_result"
    }
   ],
   "source": [
    "df[\"all_headline_substring\"].explode().dropna().apply(len).mean()"
   ]
  },
  {
   "cell_type": "code",
   "execution_count": 36,
   "metadata": {},
   "outputs": [
    {
     "data": {
      "text/plain": [
       "2.65"
      ]
     },
     "execution_count": 36,
     "metadata": {},
     "output_type": "execute_result"
    }
   ],
   "source": [
    "np.round(df[\"all_headline_substring\"].explode().dropna().apply(lambda x: x.split(\" \")).apply(len).mean(), 2)"
   ]
  },
  {
   "cell_type": "code",
   "execution_count": null,
   "metadata": {},
   "outputs": [],
   "source": []
  },
  {
   "cell_type": "code",
   "execution_count": 62,
   "metadata": {},
   "outputs": [
    {
     "data": {
      "text/html": [
       "<div>\n",
       "<style scoped>\n",
       "    .dataframe tbody tr th:only-of-type {\n",
       "        vertical-align: middle;\n",
       "    }\n",
       "\n",
       "    .dataframe tbody tr th {\n",
       "        vertical-align: top;\n",
       "    }\n",
       "\n",
       "    .dataframe thead th {\n",
       "        text-align: right;\n",
       "    }\n",
       "</style>\n",
       "<table border=\"1\" class=\"dataframe\">\n",
       "  <thead>\n",
       "    <tr style=\"text-align: right;\">\n",
       "      <th></th>\n",
       "      <th>headline</th>\n",
       "      <th>all_wordplay_type</th>\n",
       "    </tr>\n",
       "  </thead>\n",
       "  <tbody>\n",
       "    <tr>\n",
       "      <th>2343</th>\n",
       "      <td>Иноагент остался без прецедента</td>\n",
       "      <td>[]</td>\n",
       "    </tr>\n",
       "    <tr>\n",
       "      <th>64</th>\n",
       "      <td>Батареи просят рубля</td>\n",
       "      <td>[]</td>\n",
       "    </tr>\n",
       "    <tr>\n",
       "      <th>260</th>\n",
       "      <td>Штамм «дельта» пробил Великую иммунную стену</td>\n",
       "      <td>[Collocation]</td>\n",
       "    </tr>\n",
       "  </tbody>\n",
       "</table>\n",
       "</div>"
      ],
      "text/plain": [
       "                                          headline all_wordplay_type\n",
       "2343               Иноагент остался без прецедента                []\n",
       "64                            Батареи просят рубля                []\n",
       "260   Штамм «дельта» пробил Великую иммунную стену     [Collocation]"
      ]
     },
     "execution_count": 62,
     "metadata": {},
     "output_type": "execute_result"
    }
   ],
   "source": [
    "df[[\"headline\", \"all_wordplay_type\"]].sample(3)"
   ]
  },
  {
   "cell_type": "code",
   "execution_count": 63,
   "metadata": {},
   "outputs": [],
   "source": [
    "df[\"all_wordplay_type_len\"] = df[\"all_wordplay_type\"].apply(lambda x: len(x))"
   ]
  },
  {
   "cell_type": "code",
   "execution_count": 64,
   "metadata": {},
   "outputs": [],
   "source": [
    "df[\"all_wordplay_type_len_set\"] = df[\"all_wordplay_type\"].apply(lambda x: len(set(x)))"
   ]
  },
  {
   "cell_type": "code",
   "execution_count": 66,
   "metadata": {},
   "outputs": [
    {
     "data": {
      "text/plain": [
       "29"
      ]
     },
     "execution_count": 66,
     "metadata": {},
     "output_type": "execute_result"
    }
   ],
   "source": [
    "len(df[df[\"all_wordplay_type_len\"] != df[\"all_wordplay_type_len_set\"]])"
   ]
  },
  {
   "cell_type": "code",
   "execution_count": null,
   "metadata": {},
   "outputs": [],
   "source": []
  }
 ],
 "metadata": {
  "kernelspec": {
   "display_name": "general_venv",
   "language": "python",
   "name": "python3"
  },
  "language_info": {
   "codemirror_mode": {
    "name": "ipython",
    "version": 3
   },
   "file_extension": ".py",
   "mimetype": "text/x-python",
   "name": "python",
   "nbconvert_exporter": "python",
   "pygments_lexer": "ipython3",
   "version": "3.10.12"
  }
 },
 "nbformat": 4,
 "nbformat_minor": 2
}
