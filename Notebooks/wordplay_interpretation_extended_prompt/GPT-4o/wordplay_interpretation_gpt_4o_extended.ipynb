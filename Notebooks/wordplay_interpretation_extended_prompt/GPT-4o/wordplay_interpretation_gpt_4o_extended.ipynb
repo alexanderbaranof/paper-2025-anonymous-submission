{
 "cells": [
  {
   "cell_type": "code",
   "execution_count": 1,
   "metadata": {},
   "outputs": [],
   "source": [
    "# imports\n",
    "import os\n",
    "import json\n",
    "\n",
    "import httpx\n",
    "import pandas as pd\n",
    "from openai import OpenAI\n"
   ]
  },
  {
   "cell_type": "code",
   "execution_count": 2,
   "metadata": {},
   "outputs": [],
   "source": [
    "# path\n",
    "PROJECT_PATH = \"/home/alex/paper-2025-anonymous-submission/\""
   ]
  },
  {
   "cell_type": "code",
   "execution_count": 3,
   "metadata": {},
   "outputs": [
    {
     "name": "stdout",
     "output_type": "stream",
     "text": [
      "{\"ip\":\"80.242.58.96\"}\n"
     ]
    }
   ],
   "source": [
    "# config\n",
    "\n",
    "with open(os.path.join(PROJECT_PATH, \"api_credentials.json\")) as f:\n",
    "    configs = json.load(f)\n",
    "\n",
    "proxies=dict(\n",
    "    http=f\"socks5://{configs['proxy_login']}:{configs['proxy_password']}@{configs['proxy_ip']}\",\n",
    "    https=f\"socks5://{configs['proxy_login']}:{configs['proxy_password']}@{configs['proxy_ip']}\"\n",
    ")\n",
    "\n",
    "client_example = httpx.Client(proxy=proxies[\"https\"])\n",
    "print(client_example.get(\"http://jsonip.com\").text)"
   ]
  },
  {
   "cell_type": "code",
   "execution_count": 4,
   "metadata": {},
   "outputs": [],
   "source": [
    "# model config and client\n",
    "\n",
    "OPENAI_MOEDL = \"gpt-4o-2024-08-06\"\n",
    "OPENAI_MOEDL_TEMPERATURE = 0.1\n",
    "\n",
    "TASK_FILE_NAME = \"wordplay_interpretation_gpt_4o_tasks_extended.json\"\n",
    "TASK_FILE_NAME_PATH = os.path.join(PROJECT_PATH, f\"Data/openai_batch_task/{TASK_FILE_NAME}\")\n",
    "\n",
    "TASK_RESULT_FILE_NAME = \"wordplay_interpretation_gpt_4o_predictions_extended.json\"\n",
    "TASK_RESULT_FILE_NAME_PATH = os.path.join(PROJECT_PATH, f\"Data/predictions/{TASK_RESULT_FILE_NAME}\")\n"
   ]
  },
  {
   "cell_type": "code",
   "execution_count": 5,
   "metadata": {},
   "outputs": [],
   "source": [
    "client = OpenAI(api_key=configs[\"openai_token\"] , http_client=client_example)"
   ]
  },
  {
   "cell_type": "code",
   "execution_count": 6,
   "metadata": {},
   "outputs": [],
   "source": [
    "# load data\n",
    "\n",
    "df = pd.read_json(\n",
    "    \"/home/alex/paper-2025-anonymous-submission/Data/processed_data/dataset_wordplay_interpretation_propmts_extended.json\",\n",
    "    orient=\"index\"\n",
    ")"
   ]
  },
  {
   "cell_type": "code",
   "execution_count": 7,
   "metadata": {},
   "outputs": [
    {
     "data": {
      "text/html": [
       "<div>\n",
       "<style scoped>\n",
       "    .dataframe tbody tr th:only-of-type {\n",
       "        vertical-align: middle;\n",
       "    }\n",
       "\n",
       "    .dataframe tbody tr th {\n",
       "        vertical-align: top;\n",
       "    }\n",
       "\n",
       "    .dataframe thead th {\n",
       "        text-align: right;\n",
       "    }\n",
       "</style>\n",
       "<table border=\"1\" class=\"dataframe\">\n",
       "  <thead>\n",
       "    <tr style=\"text-align: right;\">\n",
       "      <th></th>\n",
       "      <th>user_prompt</th>\n",
       "      <th>system_prompt</th>\n",
       "    </tr>\n",
       "  </thead>\n",
       "  <tbody>\n",
       "    <tr>\n",
       "      <th>0</th>\n",
       "      <td>Заголовок новости: Комфортная среда. Cодержани...</td>\n",
       "      <td>\\nПроанализируй заголовок новости в контексте ...</td>\n",
       "    </tr>\n",
       "    <tr>\n",
       "      <th>1</th>\n",
       "      <td>Заголовок новости: Свинина стушевалась. Cодерж...</td>\n",
       "      <td>\\nПроанализируй заголовок новости в контексте ...</td>\n",
       "    </tr>\n",
       "  </tbody>\n",
       "</table>\n",
       "</div>"
      ],
      "text/plain": [
       "                                         user_prompt  \\\n",
       "0  Заголовок новости: Комфортная среда. Cодержани...   \n",
       "1  Заголовок новости: Свинина стушевалась. Cодерж...   \n",
       "\n",
       "                                       system_prompt  \n",
       "0  \\nПроанализируй заголовок новости в контексте ...  \n",
       "1  \\nПроанализируй заголовок новости в контексте ...  "
      ]
     },
     "execution_count": 7,
     "metadata": {},
     "output_type": "execute_result"
    }
   ],
   "source": [
    "df.head(2)"
   ]
  },
  {
   "cell_type": "code",
   "execution_count": 8,
   "metadata": {},
   "outputs": [],
   "source": [
    "# generate task file\n",
    "\n",
    "tasks = []\n",
    "for index, row in df.iterrows():\n",
    "    task_id = index\n",
    "    task = {\n",
    "        \"custom_id\": f\"task-{task_id}\",\n",
    "        \"method\": \"POST\",\n",
    "        \"url\": \"/v1/chat/completions\",\n",
    "        \"body\": {\n",
    "            \"model\": OPENAI_MOEDL,\n",
    "            \"temperature\": OPENAI_MOEDL_TEMPERATURE,\n",
    "            \"messages\": [\n",
    "                {\n",
    "                    \"role\": \"system\",\n",
    "                    \"content\": row[\"system_prompt\"]\n",
    "                },\n",
    "                {\n",
    "                    \"role\": \"user\",\n",
    "                    \"content\": row[\"user_prompt\"]\n",
    "                }\n",
    "            ],\n",
    "        }\n",
    "    }\n",
    "    tasks.append(task)\n",
    "\n",
    "with open(TASK_FILE_NAME_PATH, 'w') as file:\n",
    "    for obj in tasks:\n",
    "        file.write(\n",
    "            json.dumps(obj) + '\\n'\n",
    "        )"
   ]
  },
  {
   "cell_type": "code",
   "execution_count": 10,
   "metadata": {},
   "outputs": [],
   "source": [
    "# run tasks\n",
    "\n",
    "batch_file = client.files.create(\n",
    "  file=open(TASK_FILE_NAME_PATH, \"rb\"),\n",
    "  purpose=\"batch\"\n",
    ")\n",
    "\n",
    "batch_job = client.batches.create(\n",
    "  input_file_id=batch_file.id,\n",
    "  endpoint=\"/v1/chat/completions\",\n",
    "  completion_window=\"24h\"\n",
    ")"
   ]
  },
  {
   "cell_type": "code",
   "execution_count": 14,
   "metadata": {},
   "outputs": [
    {
     "name": "stdout",
     "output_type": "stream",
     "text": [
      "completed\n",
      "BatchRequestCounts(completed=2500, failed=0, total=2500)\n"
     ]
    }
   ],
   "source": [
    "batch_job = client.batches.retrieve(batch_job.id)\n",
    "print(batch_job.status)\n",
    "print(batch_job.request_counts)"
   ]
  },
  {
   "cell_type": "code",
   "execution_count": 15,
   "metadata": {},
   "outputs": [],
   "source": [
    "# save results\n",
    "\n",
    "result_file_id = batch_job.output_file_id\n",
    "result = client.files.content(result_file_id).content\n",
    "result = str(result, \"utf-8\").split(\"\\n\")\n",
    "result = result[:-1]\n",
    "assert len(df) == len(result)\n",
    "result = [json.loads(t) for t in result]\n",
    "\n",
    "df_results = pd.DataFrame()\n",
    "df_results[\"json_response\"] = result\n",
    "\n",
    "df_results[\"task_id\"] = df_results[\"json_response\"].apply(lambda x: x[\"custom_id\"])\n",
    "df_results[\"task_id\"] = df_results[\"task_id\"].apply(lambda x: x.split(\"-\")[1])\n",
    "df_results[\"gpt4o_explain\"] = df_results[\"json_response\"].apply(lambda x: x[\"response\"][\"body\"][\"choices\"][0][\"message\"][\"content\"])\n",
    "\n",
    "\n",
    "df_results.to_json(\n",
    "    TASK_RESULT_FILE_NAME_PATH, orient=\"index\"\n",
    ")"
   ]
  },
  {
   "cell_type": "code",
   "execution_count": 16,
   "metadata": {},
   "outputs": [
    {
     "data": {
      "text/html": [
       "<div>\n",
       "<style scoped>\n",
       "    .dataframe tbody tr th:only-of-type {\n",
       "        vertical-align: middle;\n",
       "    }\n",
       "\n",
       "    .dataframe tbody tr th {\n",
       "        vertical-align: top;\n",
       "    }\n",
       "\n",
       "    .dataframe thead th {\n",
       "        text-align: right;\n",
       "    }\n",
       "</style>\n",
       "<table border=\"1\" class=\"dataframe\">\n",
       "  <thead>\n",
       "    <tr style=\"text-align: right;\">\n",
       "      <th></th>\n",
       "      <th>json_response</th>\n",
       "      <th>task_id</th>\n",
       "      <th>gpt4o_explain</th>\n",
       "    </tr>\n",
       "  </thead>\n",
       "  <tbody>\n",
       "    <tr>\n",
       "      <th>0</th>\n",
       "      <td>{'id': 'batch_req_6797851301a88190afc40b5404c4...</td>\n",
       "      <td>0</td>\n",
       "      <td>в заголовке нет игры слов</td>\n",
       "    </tr>\n",
       "    <tr>\n",
       "      <th>1</th>\n",
       "      <td>{'id': 'batch_req_6797851311e081908902dec52ddd...</td>\n",
       "      <td>1</td>\n",
       "      <td>В заголовке есть игра слов. Использован механи...</td>\n",
       "    </tr>\n",
       "    <tr>\n",
       "      <th>2</th>\n",
       "      <td>{'id': 'batch_req_67978513249c819092e0bf85e17a...</td>\n",
       "      <td>2</td>\n",
       "      <td>В заголовке есть игра слов. Использован механи...</td>\n",
       "    </tr>\n",
       "    <tr>\n",
       "      <th>3</th>\n",
       "      <td>{'id': 'batch_req_6797851336a48190872b32bdf831...</td>\n",
       "      <td>3</td>\n",
       "      <td>В заголовке есть игра слов. \\n\\nМеханизм: Тран...</td>\n",
       "    </tr>\n",
       "    <tr>\n",
       "      <th>4</th>\n",
       "      <td>{'id': 'batch_req_6797851347048190b42390085453...</td>\n",
       "      <td>4</td>\n",
       "      <td>В заголовке есть игра слов. Использован механи...</td>\n",
       "    </tr>\n",
       "    <tr>\n",
       "      <th>...</th>\n",
       "      <td>...</td>\n",
       "      <td>...</td>\n",
       "      <td>...</td>\n",
       "    </tr>\n",
       "    <tr>\n",
       "      <th>2495</th>\n",
       "      <td>{'id': 'batch_req_679785c8f7b081908d2454342abe...</td>\n",
       "      <td>2495</td>\n",
       "      <td>В заголовке есть игра слов. Использован механи...</td>\n",
       "    </tr>\n",
       "    <tr>\n",
       "      <th>2496</th>\n",
       "      <td>{'id': 'batch_req_679785c90e98819083a679c9d4bc...</td>\n",
       "      <td>2496</td>\n",
       "      <td>В заголовке есть игра слов. \\n\\nМеханизм: Отсы...</td>\n",
       "    </tr>\n",
       "    <tr>\n",
       "      <th>2497</th>\n",
       "      <td>{'id': 'batch_req_679785c92b208190b294bbbab6cb...</td>\n",
       "      <td>2497</td>\n",
       "      <td>в заголовке нет игры слов</td>\n",
       "    </tr>\n",
       "    <tr>\n",
       "      <th>2498</th>\n",
       "      <td>{'id': 'batch_req_679785c93f208190ab38a527586d...</td>\n",
       "      <td>2498</td>\n",
       "      <td>В заголовке есть игра слов. Использован механи...</td>\n",
       "    </tr>\n",
       "    <tr>\n",
       "      <th>2499</th>\n",
       "      <td>{'id': 'batch_req_679785c9567481909865045eacac...</td>\n",
       "      <td>2499</td>\n",
       "      <td>В заголовке нет игры слов.</td>\n",
       "    </tr>\n",
       "  </tbody>\n",
       "</table>\n",
       "<p>2500 rows × 3 columns</p>\n",
       "</div>"
      ],
      "text/plain": [
       "                                          json_response task_id  \\\n",
       "0     {'id': 'batch_req_6797851301a88190afc40b5404c4...       0   \n",
       "1     {'id': 'batch_req_6797851311e081908902dec52ddd...       1   \n",
       "2     {'id': 'batch_req_67978513249c819092e0bf85e17a...       2   \n",
       "3     {'id': 'batch_req_6797851336a48190872b32bdf831...       3   \n",
       "4     {'id': 'batch_req_6797851347048190b42390085453...       4   \n",
       "...                                                 ...     ...   \n",
       "2495  {'id': 'batch_req_679785c8f7b081908d2454342abe...    2495   \n",
       "2496  {'id': 'batch_req_679785c90e98819083a679c9d4bc...    2496   \n",
       "2497  {'id': 'batch_req_679785c92b208190b294bbbab6cb...    2497   \n",
       "2498  {'id': 'batch_req_679785c93f208190ab38a527586d...    2498   \n",
       "2499  {'id': 'batch_req_679785c9567481909865045eacac...    2499   \n",
       "\n",
       "                                          gpt4o_explain  \n",
       "0                             в заголовке нет игры слов  \n",
       "1     В заголовке есть игра слов. Использован механи...  \n",
       "2     В заголовке есть игра слов. Использован механи...  \n",
       "3     В заголовке есть игра слов. \\n\\nМеханизм: Тран...  \n",
       "4     В заголовке есть игра слов. Использован механи...  \n",
       "...                                                 ...  \n",
       "2495  В заголовке есть игра слов. Использован механи...  \n",
       "2496  В заголовке есть игра слов. \\n\\nМеханизм: Отсы...  \n",
       "2497                          в заголовке нет игры слов  \n",
       "2498  В заголовке есть игра слов. Использован механи...  \n",
       "2499                         В заголовке нет игры слов.  \n",
       "\n",
       "[2500 rows x 3 columns]"
      ]
     },
     "execution_count": 16,
     "metadata": {},
     "output_type": "execute_result"
    }
   ],
   "source": [
    "df_results"
   ]
  },
  {
   "cell_type": "code",
   "execution_count": 17,
   "metadata": {},
   "outputs": [
    {
     "data": {
      "text/plain": [
       "в заголовке нет игры слов                                                                                                                                                                                                                                                                                                                                                                                                                                                                                                                                                                                                                                           870\n",
       "В заголовке нет игры слов.                                                                                                                                                                                                                                                                                                                                                                                                                                                                                                                                                                                                                                          462\n",
       "в заголовке нет игры слов.                                                                                                                                                                                                                                                                                                                                                                                                                                                                                                                                                                                                                                           21\n",
       "В заголовке есть игра слов. Использован механизм трансформации устойчивых сочетаний. Заголовок обыгрывает известное выражение \"пакетный период\", заменяя его на \"ракетно-пакетный период\". Это создает новый смысл, связанный с контекстом международной политики и обсуждениями поставок вооружений, включая ракеты, что актуально в свете визита главы МИД ФРГ Анналены Бербок в Киев.                                                                                                                                                                                                                                                                              1\n",
       "В заголовке есть игра слов. Использован механизм полисемии. Слово \"парные\" может означать как \"связанные в пары\", так и \"двойные\" или \"двойственные\", что создает двусмысленность. В контексте новости это может означать как комбинации команд или игроков, участвующих в чемпионатах, так и намек на \"золотые дуэли\", которые подразумевают важные и значимые матчи.                                                                                                                                                                                                                                                                                                1\n",
       "                                                                                                                                                                                                                                                                                                                                                                                                                                                                                                                                                                                                                                                                   ... \n",
       "В заголовке есть игра слов. Использован механизм трансформации фразеологизмов. Заголовок \"Народу опиум нипочем\" является измененной версией известного выражения \"Опиум для народа\", которое часто используется для обозначения чего-то, что отвлекает людей от реальных проблем. В данном случае, заголовок обыгрывает это выражение, добавляя слово \"нипочем\", что может указывать на безразличие или устойчивость к этому \"опиуму\". Это связано с содержанием новости, которое говорит о ностальгии по 1990-м, возможно, подразумевая, что такие ностальгические чувства или развлечения, как болливудские фильмы, являются своего рода \"опиумом\" для народа.      1\n",
       "В заголовке есть игра слов. Использован механизм полисемии. Слово \"легкого\" может быть понято двояко: как \"простой, несложный\" и как \"относящийся к легким (органу)\". В контексте новости речь идет о пациенте с раком легкого, что делает второй смысл более актуальным. Заголовок обыгрывает оба значения, создавая двусмысленность и привлекая внимание к теме.                                                                                                                                                                                                                                                                                                    1\n",
       "В заголовке есть игра слов. Использован механизм трансформации устойчивых сочетаний. Заголовок \"Маникуарный набор\" является игрой слов на основе устойчивого выражения \"маникюрный набор\". Здесь слово \"маникюрный\" трансформировано в \"маникуарный\", что отсылает к QR-кодам, упомянутым в содержании новости. Это создает новый смысл, связывая тему маникюра с актуальной темой QR-кодов, которые салоны красоты просят для льгот.                                                                                                                                                                                                                                 1\n",
       "В заголовке есть игра слов. \\n\\nМеханизм: Отсылка к прецедентным текстам.\\n\\nЗаголовок \"Когда б вы знали, из какого танца\" является отсылкой к известной строке из стихотворения Александра Блока \"Незнакомка\": \"Когда б вы знали, из какого сора...\". В оригинале речь идет о том, как из обыденных и непримечательных вещей рождается поэзия. В заголовке же эта строка трансформирована, чтобы создать игру слов, заменив \"сора\" на \"танца\", что связано с темой новости о выступлении Peeping Tom на Лионской биеннале, где представляются танцевальные перформансы.                                                                                              1\n",
       "В заголовке есть игра слов. Использован механизм отсылки к прецедентным текстам. Заголовок \"Pablo будешь\" отсылает к известной фразе \"Pablo Escobar\", где Пабло Эскобар — известный наркобарон. В контексте новости, где речь идет о проверке творчества рэпера Моргенштерна на призывы к употреблению наркотиков, заголовок намекает на связь с темой наркотиков, создавая ассоциацию с Пабло Эскобаром.                                                                                                                                                                                                                                                             1\n",
       "Name: gpt4o_explain, Length: 1150, dtype: int64"
      ]
     },
     "execution_count": 17,
     "metadata": {},
     "output_type": "execute_result"
    }
   ],
   "source": [
    "df_results[\"gpt4o_explain\"].value_counts()"
   ]
  },
  {
   "cell_type": "code",
   "execution_count": null,
   "metadata": {},
   "outputs": [],
   "source": []
  }
 ],
 "metadata": {
  "kernelspec": {
   "display_name": "general_venv",
   "language": "python",
   "name": "python3"
  },
  "language_info": {
   "codemirror_mode": {
    "name": "ipython",
    "version": 3
   },
   "file_extension": ".py",
   "mimetype": "text/x-python",
   "name": "python",
   "nbconvert_exporter": "python",
   "pygments_lexer": "ipython3",
   "version": "3.10.12"
  }
 },
 "nbformat": 4,
 "nbformat_minor": 2
}
