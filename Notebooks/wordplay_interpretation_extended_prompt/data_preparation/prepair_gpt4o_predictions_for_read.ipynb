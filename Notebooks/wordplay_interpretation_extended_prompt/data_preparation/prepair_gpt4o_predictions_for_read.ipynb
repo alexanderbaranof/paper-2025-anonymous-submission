{
 "cells": [
  {
   "cell_type": "code",
   "execution_count": 1,
   "metadata": {},
   "outputs": [],
   "source": [
    "import pandas as pd\n",
    "\n",
    "df = pd.read_json(\"/home/alex/paper-2025-anonymous-submission/Data/processed_data/dataset.json\", orient=\"index\")"
   ]
  },
  {
   "cell_type": "code",
   "execution_count": 2,
   "metadata": {},
   "outputs": [],
   "source": [
    "df_preds = pd.read_json(\"/home/alex/paper-2025-anonymous-submission/Data/predictions/wordplay_interpretation_gpt_4o_predictions_extended.json\", orient=\"index\")"
   ]
  },
  {
   "cell_type": "code",
   "execution_count": 3,
   "metadata": {},
   "outputs": [
    {
     "data": {
      "text/html": [
       "<div>\n",
       "<style scoped>\n",
       "    .dataframe tbody tr th:only-of-type {\n",
       "        vertical-align: middle;\n",
       "    }\n",
       "\n",
       "    .dataframe tbody tr th {\n",
       "        vertical-align: top;\n",
       "    }\n",
       "\n",
       "    .dataframe thead th {\n",
       "        text-align: right;\n",
       "    }\n",
       "</style>\n",
       "<table border=\"1\" class=\"dataframe\">\n",
       "  <thead>\n",
       "    <tr style=\"text-align: right;\">\n",
       "      <th></th>\n",
       "      <th>json_response</th>\n",
       "      <th>task_id</th>\n",
       "      <th>gpt4o_explain</th>\n",
       "    </tr>\n",
       "  </thead>\n",
       "  <tbody>\n",
       "    <tr>\n",
       "      <th>0</th>\n",
       "      <td>{'id': 'batch_req_6797851301a88190afc40b5404c4...</td>\n",
       "      <td>0</td>\n",
       "      <td>в заголовке нет игры слов</td>\n",
       "    </tr>\n",
       "    <tr>\n",
       "      <th>1</th>\n",
       "      <td>{'id': 'batch_req_6797851311e081908902dec52ddd...</td>\n",
       "      <td>1</td>\n",
       "      <td>В заголовке есть игра слов. Использован механи...</td>\n",
       "    </tr>\n",
       "  </tbody>\n",
       "</table>\n",
       "</div>"
      ],
      "text/plain": [
       "                                       json_response  task_id  \\\n",
       "0  {'id': 'batch_req_6797851301a88190afc40b5404c4...        0   \n",
       "1  {'id': 'batch_req_6797851311e081908902dec52ddd...        1   \n",
       "\n",
       "                                       gpt4o_explain  \n",
       "0                          в заголовке нет игры слов  \n",
       "1  В заголовке есть игра слов. Использован механи...  "
      ]
     },
     "execution_count": 3,
     "metadata": {},
     "output_type": "execute_result"
    }
   ],
   "source": [
    "df_preds.head(2)"
   ]
  },
  {
   "cell_type": "code",
   "execution_count": 4,
   "metadata": {},
   "outputs": [],
   "source": [
    "pd.merge(df, df_preds, left_index=True, right_index=True).to_excel(\"/home/alex/paper-2025-anonymous-submission/Data/processed_predictions/wordplay_interpretation_gpt_4o_predictions_extended.xlsx\")"
   ]
  },
  {
   "cell_type": "code",
   "execution_count": null,
   "metadata": {},
   "outputs": [],
   "source": []
  }
 ],
 "metadata": {
  "kernelspec": {
   "display_name": "general_venv",
   "language": "python",
   "name": "python3"
  },
  "language_info": {
   "codemirror_mode": {
    "name": "ipython",
    "version": 3
   },
   "file_extension": ".py",
   "mimetype": "text/x-python",
   "name": "python",
   "nbconvert_exporter": "python",
   "pygments_lexer": "ipython3",
   "version": "3.10.12"
  }
 },
 "nbformat": 4,
 "nbformat_minor": 2
}
