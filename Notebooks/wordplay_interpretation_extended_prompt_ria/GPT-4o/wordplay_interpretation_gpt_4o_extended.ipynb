{
 "cells": [
  {
   "cell_type": "code",
   "execution_count": 1,
   "metadata": {},
   "outputs": [],
   "source": [
    "# imports\n",
    "import os\n",
    "import json\n",
    "\n",
    "import httpx\n",
    "import pandas as pd\n",
    "from openai import OpenAI\n"
   ]
  },
  {
   "cell_type": "code",
   "execution_count": 2,
   "metadata": {},
   "outputs": [],
   "source": [
    "# path\n",
    "PROJECT_PATH = \"/home/alex/paper-2025-anonymous-submission/\""
   ]
  },
  {
   "cell_type": "code",
   "execution_count": 3,
   "metadata": {},
   "outputs": [
    {
     "name": "stdout",
     "output_type": "stream",
     "text": [
      "{\"ip\":\"80.242.58.96\"}\n"
     ]
    }
   ],
   "source": [
    "# config\n",
    "\n",
    "with open(os.path.join(PROJECT_PATH, \"api_credentials.json\")) as f:\n",
    "    configs = json.load(f)\n",
    "\n",
    "proxies=dict(\n",
    "    http=f\"socks5://{configs['proxy_login']}:{configs['proxy_password']}@{configs['proxy_ip']}\",\n",
    "    https=f\"socks5://{configs['proxy_login']}:{configs['proxy_password']}@{configs['proxy_ip']}\"\n",
    ")\n",
    "\n",
    "client_example = httpx.Client(proxy=proxies[\"https\"])\n",
    "print(client_example.get(\"http://jsonip.com\").text)"
   ]
  },
  {
   "cell_type": "code",
   "execution_count": 4,
   "metadata": {},
   "outputs": [],
   "source": [
    "# model config and client\n",
    "\n",
    "OPENAI_MOEDL = \"gpt-4o-2024-08-06\"\n",
    "OPENAI_MOEDL_TEMPERATURE = 0.1\n",
    "\n",
    "TASK_FILE_NAME = \"wordplay_interpretation_gpt_4o_tasks_extended_ria.json\"\n",
    "TASK_FILE_NAME_PATH = os.path.join(PROJECT_PATH, f\"Data/openai_batch_task/{TASK_FILE_NAME}\")\n",
    "\n",
    "TASK_RESULT_FILE_NAME = \"wordplay_interpretation_gpt_4o_predictions_extended_ria.json\"\n",
    "TASK_RESULT_FILE_NAME_PATH = os.path.join(PROJECT_PATH, f\"Data/predictions/{TASK_RESULT_FILE_NAME}\")\n"
   ]
  },
  {
   "cell_type": "code",
   "execution_count": 5,
   "metadata": {},
   "outputs": [],
   "source": [
    "client = OpenAI(api_key=configs[\"openai_token\"] , http_client=client_example)"
   ]
  },
  {
   "cell_type": "code",
   "execution_count": 6,
   "metadata": {},
   "outputs": [],
   "source": [
    "# load data\n",
    "\n",
    "df = pd.read_json(\n",
    "    \"/home/alex/paper-2025-anonymous-submission/Data/processed_data/ria_interpretation_extended.json\",\n",
    "    orient=\"index\"\n",
    ")"
   ]
  },
  {
   "cell_type": "code",
   "execution_count": 7,
   "metadata": {},
   "outputs": [
    {
     "data": {
      "text/html": [
       "<div>\n",
       "<style scoped>\n",
       "    .dataframe tbody tr th:only-of-type {\n",
       "        vertical-align: middle;\n",
       "    }\n",
       "\n",
       "    .dataframe tbody tr th {\n",
       "        vertical-align: top;\n",
       "    }\n",
       "\n",
       "    .dataframe thead th {\n",
       "        text-align: right;\n",
       "    }\n",
       "</style>\n",
       "<table border=\"1\" class=\"dataframe\">\n",
       "  <thead>\n",
       "    <tr style=\"text-align: right;\">\n",
       "      <th></th>\n",
       "      <th>user_prompt</th>\n",
       "      <th>system_prompt</th>\n",
       "    </tr>\n",
       "  </thead>\n",
       "  <tbody>\n",
       "    <tr>\n",
       "      <th>0</th>\n",
       "      <td>Заголовок новости: украинская люстрация: жертв...</td>\n",
       "      <td>\\nПроанализируй заголовок новости в контексте ...</td>\n",
       "    </tr>\n",
       "    <tr>\n",
       "      <th>1</th>\n",
       "      <td>Заголовок новости: цена на нефть марки brent п...</td>\n",
       "      <td>\\nПроанализируй заголовок новости в контексте ...</td>\n",
       "    </tr>\n",
       "  </tbody>\n",
       "</table>\n",
       "</div>"
      ],
      "text/plain": [
       "                                         user_prompt  \\\n",
       "0  Заголовок новости: украинская люстрация: жертв...   \n",
       "1  Заголовок новости: цена на нефть марки brent п...   \n",
       "\n",
       "                                       system_prompt  \n",
       "0  \\nПроанализируй заголовок новости в контексте ...  \n",
       "1  \\nПроанализируй заголовок новости в контексте ...  "
      ]
     },
     "execution_count": 7,
     "metadata": {},
     "output_type": "execute_result"
    }
   ],
   "source": [
    "df.head(2)"
   ]
  },
  {
   "cell_type": "code",
   "execution_count": 8,
   "metadata": {},
   "outputs": [],
   "source": [
    "# generate task file\n",
    "\n",
    "tasks = []\n",
    "for index, row in df.iterrows():\n",
    "    task_id = index\n",
    "    task = {\n",
    "        \"custom_id\": f\"task-{task_id}\",\n",
    "        \"method\": \"POST\",\n",
    "        \"url\": \"/v1/chat/completions\",\n",
    "        \"body\": {\n",
    "            \"model\": OPENAI_MOEDL,\n",
    "            \"temperature\": OPENAI_MOEDL_TEMPERATURE,\n",
    "            \"messages\": [\n",
    "                {\n",
    "                    \"role\": \"system\",\n",
    "                    \"content\": row[\"system_prompt\"]\n",
    "                },\n",
    "                {\n",
    "                    \"role\": \"user\",\n",
    "                    \"content\": row[\"user_prompt\"]\n",
    "                }\n",
    "            ],\n",
    "        }\n",
    "    }\n",
    "    tasks.append(task)\n",
    "\n",
    "with open(TASK_FILE_NAME_PATH, 'w') as file:\n",
    "    for obj in tasks:\n",
    "        file.write(\n",
    "            json.dumps(obj) + '\\n'\n",
    "        )"
   ]
  },
  {
   "cell_type": "code",
   "execution_count": 9,
   "metadata": {},
   "outputs": [],
   "source": [
    "# run tasks\n",
    "\n",
    "batch_file = client.files.create(\n",
    "  file=open(TASK_FILE_NAME_PATH, \"rb\"),\n",
    "  purpose=\"batch\"\n",
    ")\n",
    "\n",
    "batch_job = client.batches.create(\n",
    "  input_file_id=batch_file.id,\n",
    "  endpoint=\"/v1/chat/completions\",\n",
    "  completion_window=\"24h\"\n",
    ")"
   ]
  },
  {
   "cell_type": "code",
   "execution_count": 40,
   "metadata": {},
   "outputs": [
    {
     "name": "stdout",
     "output_type": "stream",
     "text": [
      "completed\n",
      "BatchRequestCounts(completed=1000, failed=0, total=1000)\n"
     ]
    }
   ],
   "source": [
    "batch_job = client.batches.retrieve(batch_job.id)\n",
    "print(batch_job.status)\n",
    "print(batch_job.request_counts)"
   ]
  },
  {
   "cell_type": "code",
   "execution_count": 41,
   "metadata": {},
   "outputs": [],
   "source": [
    "# save results\n",
    "\n",
    "result_file_id = batch_job.output_file_id\n",
    "result = client.files.content(result_file_id).content\n",
    "result = str(result, \"utf-8\").split(\"\\n\")\n",
    "result = result[:-1]\n",
    "assert len(df) == len(result)\n",
    "result = [json.loads(t) for t in result]\n",
    "\n",
    "df_results = pd.DataFrame()\n",
    "df_results[\"json_response\"] = result\n",
    "\n",
    "df_results[\"task_id\"] = df_results[\"json_response\"].apply(lambda x: x[\"custom_id\"])\n",
    "df_results[\"task_id\"] = df_results[\"task_id\"].apply(lambda x: x.split(\"-\")[1])\n",
    "df_results[\"gpt4o_explain\"] = df_results[\"json_response\"].apply(lambda x: x[\"response\"][\"body\"][\"choices\"][0][\"message\"][\"content\"])\n",
    "\n",
    "\n",
    "df_results.to_json(\n",
    "    TASK_RESULT_FILE_NAME_PATH, orient=\"index\"\n",
    ")"
   ]
  },
  {
   "cell_type": "code",
   "execution_count": 42,
   "metadata": {},
   "outputs": [
    {
     "data": {
      "text/html": [
       "<div>\n",
       "<style scoped>\n",
       "    .dataframe tbody tr th:only-of-type {\n",
       "        vertical-align: middle;\n",
       "    }\n",
       "\n",
       "    .dataframe tbody tr th {\n",
       "        vertical-align: top;\n",
       "    }\n",
       "\n",
       "    .dataframe thead th {\n",
       "        text-align: right;\n",
       "    }\n",
       "</style>\n",
       "<table border=\"1\" class=\"dataframe\">\n",
       "  <thead>\n",
       "    <tr style=\"text-align: right;\">\n",
       "      <th></th>\n",
       "      <th>json_response</th>\n",
       "      <th>task_id</th>\n",
       "      <th>gpt4o_explain</th>\n",
       "    </tr>\n",
       "  </thead>\n",
       "  <tbody>\n",
       "    <tr>\n",
       "      <th>0</th>\n",
       "      <td>{'id': 'batch_req_67a5edd5b6148190bf09e2f48d7a...</td>\n",
       "      <td>0</td>\n",
       "      <td>в заголовке нет игры слов.</td>\n",
       "    </tr>\n",
       "    <tr>\n",
       "      <th>1</th>\n",
       "      <td>{'id': 'batch_req_67a5edd5c8d48190a1426e71028d...</td>\n",
       "      <td>1</td>\n",
       "      <td>в заголовке нет игры слов</td>\n",
       "    </tr>\n",
       "    <tr>\n",
       "      <th>2</th>\n",
       "      <td>{'id': 'batch_req_67a5edd5e9c48190ac024113e362...</td>\n",
       "      <td>2</td>\n",
       "      <td>в заголовке нет игры слов.</td>\n",
       "    </tr>\n",
       "    <tr>\n",
       "      <th>3</th>\n",
       "      <td>{'id': 'batch_req_67a5edd5fb20819083d54e5b99ac...</td>\n",
       "      <td>3</td>\n",
       "      <td>в заголовке нет игры слов.</td>\n",
       "    </tr>\n",
       "    <tr>\n",
       "      <th>4</th>\n",
       "      <td>{'id': 'batch_req_67a5edd60e788190bfc92e746ab4...</td>\n",
       "      <td>4</td>\n",
       "      <td>в заголовке нет игры слов.</td>\n",
       "    </tr>\n",
       "    <tr>\n",
       "      <th>...</th>\n",
       "      <td>...</td>\n",
       "      <td>...</td>\n",
       "      <td>...</td>\n",
       "    </tr>\n",
       "    <tr>\n",
       "      <th>995</th>\n",
       "      <td>{'id': 'batch_req_67a5eea4264481909b41ae6ce706...</td>\n",
       "      <td>995</td>\n",
       "      <td>в заголовке нет игры слов.</td>\n",
       "    </tr>\n",
       "    <tr>\n",
       "      <th>996</th>\n",
       "      <td>{'id': 'batch_req_67a5eea437a08190962f6218ae07...</td>\n",
       "      <td>996</td>\n",
       "      <td>в заголовке нет игры слов.</td>\n",
       "    </tr>\n",
       "    <tr>\n",
       "      <th>997</th>\n",
       "      <td>{'id': 'batch_req_67a5eea44bc48190ab040cb0ce8e...</td>\n",
       "      <td>997</td>\n",
       "      <td>в заголовке нет игры слов.</td>\n",
       "    </tr>\n",
       "    <tr>\n",
       "      <th>998</th>\n",
       "      <td>{'id': 'batch_req_67a5eea475d48190b151b866ebb4...</td>\n",
       "      <td>998</td>\n",
       "      <td>в заголовке нет игры слов.</td>\n",
       "    </tr>\n",
       "    <tr>\n",
       "      <th>999</th>\n",
       "      <td>{'id': 'batch_req_67a5eea48b388190b2543001e854...</td>\n",
       "      <td>999</td>\n",
       "      <td>в заголовке нет игры слов.</td>\n",
       "    </tr>\n",
       "  </tbody>\n",
       "</table>\n",
       "<p>1000 rows × 3 columns</p>\n",
       "</div>"
      ],
      "text/plain": [
       "                                         json_response task_id  \\\n",
       "0    {'id': 'batch_req_67a5edd5b6148190bf09e2f48d7a...       0   \n",
       "1    {'id': 'batch_req_67a5edd5c8d48190a1426e71028d...       1   \n",
       "2    {'id': 'batch_req_67a5edd5e9c48190ac024113e362...       2   \n",
       "3    {'id': 'batch_req_67a5edd5fb20819083d54e5b99ac...       3   \n",
       "4    {'id': 'batch_req_67a5edd60e788190bfc92e746ab4...       4   \n",
       "..                                                 ...     ...   \n",
       "995  {'id': 'batch_req_67a5eea4264481909b41ae6ce706...     995   \n",
       "996  {'id': 'batch_req_67a5eea437a08190962f6218ae07...     996   \n",
       "997  {'id': 'batch_req_67a5eea44bc48190ab040cb0ce8e...     997   \n",
       "998  {'id': 'batch_req_67a5eea475d48190b151b866ebb4...     998   \n",
       "999  {'id': 'batch_req_67a5eea48b388190b2543001e854...     999   \n",
       "\n",
       "                  gpt4o_explain  \n",
       "0    в заголовке нет игры слов.  \n",
       "1     в заголовке нет игры слов  \n",
       "2    в заголовке нет игры слов.  \n",
       "3    в заголовке нет игры слов.  \n",
       "4    в заголовке нет игры слов.  \n",
       "..                          ...  \n",
       "995  в заголовке нет игры слов.  \n",
       "996  в заголовке нет игры слов.  \n",
       "997  в заголовке нет игры слов.  \n",
       "998  в заголовке нет игры слов.  \n",
       "999  в заголовке нет игры слов.  \n",
       "\n",
       "[1000 rows x 3 columns]"
      ]
     },
     "execution_count": 42,
     "metadata": {},
     "output_type": "execute_result"
    }
   ],
   "source": [
    "df_results"
   ]
  },
  {
   "cell_type": "code",
   "execution_count": 43,
   "metadata": {},
   "outputs": [
    {
     "data": {
      "text/plain": [
       "в заголовке нет игры слов.                                                                                                                                                                                                                                                                                                                                                                                                                                                                                                                                                                                                                                                                                                                                                                                                    904\n",
       "в заголовке нет игры слов                                                                                                                                                                                                                                                                                                                                                                                                                                                                                                                                                                                                                                                                                                                                                                                                      85\n",
       "В заголовке нет игры слов.                                                                                                                                                                                                                                                                                                                                                                                                                                                                                                                                                                                                                                                                                                                                                                                                      5\n",
       "В заголовке есть игра слов. Использован механизм трансформации фразеологизма. Заголовок \"ни флага, ни 'родины'\" является трансформацией известного выражения \"ни флага, ни родины\", которое обычно используется для описания людей или организаций, не имеющих привязанности или лояльности к какой-либо стране. В данном случае слово \"родина\" взято в кавычки, что может указывать на двусмысленность или иронию, связанную с политической ситуацией в Молдавии. Это подчеркивает неопределенность и отсутствие четкой позиции или направления в политике страны, что отражено в содержании новости.                                                                                                                                                                                                                          1\n",
       "В заголовке есть игра слов. \\n\\nМеханизм: Полисемия\\n\\nСмысл: Слово \"секонд\" в заголовке может иметь несколько значений. Во-первых, это может быть отсылка к \"второму\" президенту Евросоюза после Хермана Ван Ромпея, что соответствует значению \"second\" как \"второй\" на английском языке. Во-вторых, \"секонд\" может ассоциироваться с \"second-hand\", что подразумевает что-то второсортное или бывшее в употреблении, что может быть связано с критикой Дональда Туска в тексте, где его называют \"серой мышью\" и сравнивают с его предшественником. \\n\\nСвязь с основным текстом: В тексте обсуждается, что Дональд Туск не обладает теми качествами, которые были у его предшественника, и его называют \"серой мышью\", что может быть связано с идеей \"второсортности\" или \"вторичности\", подразумеваемой в заголовке.      1\n",
       "В заголовке есть игра слов. Использован механизм отсылки к прецедентным текстам. Заголовок \"что наша жизнь?\" отсылает к известной фразе \"Что наша жизнь? Игра!\" из пьесы Александра Грибоедова \"Горе от ума\". Это создает связь с основной темой новости, где обсуждается роль актеров и политиков, их способность играть определенные роли и входить в образы.                                                                                                                                                                                                                                                                                                                                                                                                                                                                 1\n",
       "В заголовке есть игра слов. \\n\\nМеханизм: Отсылка к прецедентным текстам.\\n\\nЗаголовок \"октябрь первой мировой\" отсылает к известному выражению \"Первая мировая война\", но в данном контексте используется для обозначения Октябрьской революции в России, которая произошла в период Первой мировой войны. Это создает игру слов, связывая историческое событие с известным термином, что подчеркивает влияние Октябрьской революции на мировую историю.                                                                                                                                                                                                                                                                                                                                                                       1\n",
       "В заголовке есть игра слов. Использован механизм трансформации фразеологизма. Заголовок представляет собой измененную версию известного фразеологизма \"и хочется, и колется\", к которому добавлено \"и мама не велит\". Это добавление усиливает комический эффект и подчеркивает нерешительность и внутренние противоречия, которые испытывает Франсуа Олланд в вопросе военно-технического сотрудничества с Россией. Заголовок отражает содержание новости, где описывается ситуация с поставкой вертолетоносцев \"Мистраль\" и колебания французского правительства.                                                                                                                                                                                                                                                             1\n",
       "В заголовке есть игра слов. Использован механизм трансформации устойчивого сочетания. Аббревиатура \"СБУ\", которая обычно расшифровывается как \"Служба безопасности Украины\", трансформирована в \"служба бандеризации украины\". Это изменение создает новый смысл, намекая на идеологическую направленность или политику, связанную с исторической фигурой Степаном Бандерой. Заголовок использует эту трансформацию для создания провокационного эффекта, который не имеет прямого отношения к содержанию новости о создании пункта управления при Министерстве обороны.                                                                                                                                                                                                                                                        1\n",
       "Name: gpt4o_explain, dtype: int64"
      ]
     },
     "execution_count": 43,
     "metadata": {},
     "output_type": "execute_result"
    }
   ],
   "source": [
    "df_results[\"gpt4o_explain\"].value_counts()"
   ]
  },
  {
   "cell_type": "code",
   "execution_count": null,
   "metadata": {},
   "outputs": [],
   "source": []
  }
 ],
 "metadata": {
  "kernelspec": {
   "display_name": "general_venv",
   "language": "python",
   "name": "python3"
  },
  "language_info": {
   "codemirror_mode": {
    "name": "ipython",
    "version": 3
   },
   "file_extension": ".py",
   "mimetype": "text/x-python",
   "name": "python",
   "nbconvert_exporter": "python",
   "pygments_lexer": "ipython3",
   "version": "3.10.12"
  }
 },
 "nbformat": 4,
 "nbformat_minor": 2
}
