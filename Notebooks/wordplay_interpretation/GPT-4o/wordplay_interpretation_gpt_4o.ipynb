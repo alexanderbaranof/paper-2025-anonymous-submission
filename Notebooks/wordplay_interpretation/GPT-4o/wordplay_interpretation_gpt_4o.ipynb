{
 "cells": [
  {
   "cell_type": "code",
   "execution_count": 1,
   "metadata": {},
   "outputs": [],
   "source": [
    "# imports\n",
    "import os\n",
    "import json\n",
    "\n",
    "import httpx\n",
    "import pandas as pd\n",
    "from openai import OpenAI\n"
   ]
  },
  {
   "cell_type": "code",
   "execution_count": 2,
   "metadata": {},
   "outputs": [],
   "source": [
    "# path\n",
    "PROJECT_PATH = \"/home/alex/paper-2025-anonymous-submission/\""
   ]
  },
  {
   "cell_type": "code",
   "execution_count": 3,
   "metadata": {},
   "outputs": [
    {
     "name": "stdout",
     "output_type": "stream",
     "text": [
      "{\"ip\":\"80.242.58.96\"}\n"
     ]
    }
   ],
   "source": [
    "# config\n",
    "\n",
    "with open(os.path.join(PROJECT_PATH, \"api_credentials.json\")) as f:\n",
    "    configs = json.load(f)\n",
    "\n",
    "proxies=dict(\n",
    "    http=f\"socks5://{configs['proxy_login']}:{configs['proxy_password']}@{configs['proxy_ip']}\",\n",
    "    https=f\"socks5://{configs['proxy_login']}:{configs['proxy_password']}@{configs['proxy_ip']}\"\n",
    ")\n",
    "\n",
    "client_example = httpx.Client(proxy=proxies[\"https\"])\n",
    "print(client_example.get(\"http://jsonip.com\").text)"
   ]
  },
  {
   "cell_type": "code",
   "execution_count": 4,
   "metadata": {},
   "outputs": [],
   "source": [
    "# model config and client\n",
    "\n",
    "OPENAI_MOEDL = \"gpt-4o-2024-08-06\"\n",
    "OPENAI_MOEDL_TEMPERATURE = 0.1\n",
    "\n",
    "TASK_FILE_NAME = \"wordplay_interpretation_gpt_4o_tasks.json\"\n",
    "TASK_FILE_NAME_PATH = os.path.join(PROJECT_PATH, f\"Data/openai_batch_task/{TASK_FILE_NAME}\")\n",
    "\n",
    "TASK_RESULT_FILE_NAME = \"wordplay_interpretation_gpt_4o_predictions.json\"\n",
    "TASK_RESULT_FILE_NAME_PATH = os.path.join(PROJECT_PATH, f\"Data/predictions/{TASK_RESULT_FILE_NAME}\")\n"
   ]
  },
  {
   "cell_type": "code",
   "execution_count": 5,
   "metadata": {},
   "outputs": [],
   "source": [
    "client = OpenAI(api_key=configs[\"openai_token\"] , http_client=client_example)"
   ]
  },
  {
   "cell_type": "code",
   "execution_count": 7,
   "metadata": {},
   "outputs": [],
   "source": [
    "# load data\n",
    "\n",
    "df = pd.read_json(\n",
    "    \"/home/alex/paper-2025-anonymous-submission/Data/processed_data/dataset_wordplay_interpretation_propmts.json\",\n",
    "    orient=\"index\"\n",
    ")"
   ]
  },
  {
   "cell_type": "code",
   "execution_count": 8,
   "metadata": {},
   "outputs": [
    {
     "data": {
      "text/html": [
       "<div>\n",
       "<style scoped>\n",
       "    .dataframe tbody tr th:only-of-type {\n",
       "        vertical-align: middle;\n",
       "    }\n",
       "\n",
       "    .dataframe tbody tr th {\n",
       "        vertical-align: top;\n",
       "    }\n",
       "\n",
       "    .dataframe thead th {\n",
       "        text-align: right;\n",
       "    }\n",
       "</style>\n",
       "<table border=\"1\" class=\"dataframe\">\n",
       "  <thead>\n",
       "    <tr style=\"text-align: right;\">\n",
       "      <th></th>\n",
       "      <th>user_prompt</th>\n",
       "      <th>system_prompt</th>\n",
       "    </tr>\n",
       "  </thead>\n",
       "  <tbody>\n",
       "    <tr>\n",
       "      <th>0</th>\n",
       "      <td>Заголовок новости: Комфортная среда. Cодержани...</td>\n",
       "      <td>\\nПроанализируй заголовок новости в контексте ...</td>\n",
       "    </tr>\n",
       "    <tr>\n",
       "      <th>1</th>\n",
       "      <td>Заголовок новости: Свинина стушевалась. Cодерж...</td>\n",
       "      <td>\\nПроанализируй заголовок новости в контексте ...</td>\n",
       "    </tr>\n",
       "  </tbody>\n",
       "</table>\n",
       "</div>"
      ],
      "text/plain": [
       "                                         user_prompt  \\\n",
       "0  Заголовок новости: Комфортная среда. Cодержани...   \n",
       "1  Заголовок новости: Свинина стушевалась. Cодерж...   \n",
       "\n",
       "                                       system_prompt  \n",
       "0  \\nПроанализируй заголовок новости в контексте ...  \n",
       "1  \\nПроанализируй заголовок новости в контексте ...  "
      ]
     },
     "execution_count": 8,
     "metadata": {},
     "output_type": "execute_result"
    }
   ],
   "source": [
    "df.head(2)"
   ]
  },
  {
   "cell_type": "code",
   "execution_count": 9,
   "metadata": {},
   "outputs": [],
   "source": [
    "# generate task file\n",
    "\n",
    "tasks = []\n",
    "for index, row in df.iterrows():\n",
    "    task_id = index\n",
    "    task = {\n",
    "        \"custom_id\": f\"task-{task_id}\",\n",
    "        \"method\": \"POST\",\n",
    "        \"url\": \"/v1/chat/completions\",\n",
    "        \"body\": {\n",
    "            \"model\": OPENAI_MOEDL,\n",
    "            \"temperature\": OPENAI_MOEDL_TEMPERATURE,\n",
    "            \"messages\": [\n",
    "                {\n",
    "                    \"role\": \"system\",\n",
    "                    \"content\": row[\"system_prompt\"]\n",
    "                },\n",
    "                {\n",
    "                    \"role\": \"user\",\n",
    "                    \"content\": row[\"user_prompt\"]\n",
    "                }\n",
    "            ],\n",
    "        }\n",
    "    }\n",
    "    tasks.append(task)\n",
    "\n",
    "with open(TASK_FILE_NAME_PATH, 'w') as file:\n",
    "    for obj in tasks:\n",
    "        file.write(\n",
    "            json.dumps(obj) + '\\n'\n",
    "        )"
   ]
  },
  {
   "cell_type": "code",
   "execution_count": 10,
   "metadata": {},
   "outputs": [],
   "source": [
    "# run tasks\n",
    "\n",
    "batch_file = client.files.create(\n",
    "  file=open(TASK_FILE_NAME_PATH, \"rb\"),\n",
    "  purpose=\"batch\"\n",
    ")\n",
    "\n",
    "batch_job = client.batches.create(\n",
    "  input_file_id=batch_file.id,\n",
    "  endpoint=\"/v1/chat/completions\",\n",
    "  completion_window=\"24h\"\n",
    ")"
   ]
  },
  {
   "cell_type": "code",
   "execution_count": 20,
   "metadata": {},
   "outputs": [
    {
     "name": "stdout",
     "output_type": "stream",
     "text": [
      "completed\n",
      "BatchRequestCounts(completed=2500, failed=0, total=2500)\n"
     ]
    }
   ],
   "source": [
    "batch_job = client.batches.retrieve(batch_job.id)\n",
    "print(batch_job.status)\n",
    "print(batch_job.request_counts)"
   ]
  },
  {
   "cell_type": "code",
   "execution_count": 21,
   "metadata": {},
   "outputs": [],
   "source": [
    "# save results\n",
    "\n",
    "result_file_id = batch_job.output_file_id\n",
    "result = client.files.content(result_file_id).content\n",
    "result = str(result, \"utf-8\").split(\"\\n\")\n",
    "result = result[:-1]\n",
    "assert len(df) == len(result)\n",
    "result = [json.loads(t) for t in result]\n",
    "\n",
    "df_results = pd.DataFrame()\n",
    "df_results[\"json_response\"] = result\n",
    "\n",
    "df_results[\"task_id\"] = df_results[\"json_response\"].apply(lambda x: x[\"custom_id\"])\n",
    "df_results[\"task_id\"] = df_results[\"task_id\"].apply(lambda x: x.split(\"-\")[1])\n",
    "df_results[\"gpt4o_explain\"] = df_results[\"json_response\"].apply(lambda x: x[\"response\"][\"body\"][\"choices\"][0][\"message\"][\"content\"])\n",
    "\n",
    "\n",
    "df_results.to_json(\n",
    "    TASK_RESULT_FILE_NAME_PATH, orient=\"index\"\n",
    ")"
   ]
  },
  {
   "cell_type": "code",
   "execution_count": 22,
   "metadata": {},
   "outputs": [
    {
     "data": {
      "text/html": [
       "<div>\n",
       "<style scoped>\n",
       "    .dataframe tbody tr th:only-of-type {\n",
       "        vertical-align: middle;\n",
       "    }\n",
       "\n",
       "    .dataframe tbody tr th {\n",
       "        vertical-align: top;\n",
       "    }\n",
       "\n",
       "    .dataframe thead th {\n",
       "        text-align: right;\n",
       "    }\n",
       "</style>\n",
       "<table border=\"1\" class=\"dataframe\">\n",
       "  <thead>\n",
       "    <tr style=\"text-align: right;\">\n",
       "      <th></th>\n",
       "      <th>json_response</th>\n",
       "      <th>task_id</th>\n",
       "      <th>gpt4o_explain</th>\n",
       "    </tr>\n",
       "  </thead>\n",
       "  <tbody>\n",
       "    <tr>\n",
       "      <th>0</th>\n",
       "      <td>{'id': 'batch_req_6796a676ea588190aa1d1229d667...</td>\n",
       "      <td>0</td>\n",
       "      <td>в заголовке нет игры слов</td>\n",
       "    </tr>\n",
       "    <tr>\n",
       "      <th>1</th>\n",
       "      <td>{'id': 'batch_req_6796a676fa0c819087f5d6e14386...</td>\n",
       "      <td>1</td>\n",
       "      <td>в заголовке нет игры слов</td>\n",
       "    </tr>\n",
       "    <tr>\n",
       "      <th>2</th>\n",
       "      <td>{'id': 'batch_req_6796a6770ed88190b6b06e595edb...</td>\n",
       "      <td>2</td>\n",
       "      <td>В заголовке есть игра слов. \\n\\nСмысл: Заголов...</td>\n",
       "    </tr>\n",
       "    <tr>\n",
       "      <th>3</th>\n",
       "      <td>{'id': 'batch_req_6796a677221081909ea4ddf1ca4f...</td>\n",
       "      <td>3</td>\n",
       "      <td>В заголовке есть игра слов. \\n\\nСмысл: Заголов...</td>\n",
       "    </tr>\n",
       "    <tr>\n",
       "      <th>4</th>\n",
       "      <td>{'id': 'batch_req_6796a6773f5c8190b241b0162a20...</td>\n",
       "      <td>4</td>\n",
       "      <td>В заголовке есть игра слов. Он обыгрывает изве...</td>\n",
       "    </tr>\n",
       "    <tr>\n",
       "      <th>...</th>\n",
       "      <td>...</td>\n",
       "      <td>...</td>\n",
       "      <td>...</td>\n",
       "    </tr>\n",
       "    <tr>\n",
       "      <th>2495</th>\n",
       "      <td>{'id': 'batch_req_6796a71b4b5481909f816e3f4850...</td>\n",
       "      <td>2495</td>\n",
       "      <td>В заголовке есть игра слов. Он отсылает к изве...</td>\n",
       "    </tr>\n",
       "    <tr>\n",
       "      <th>2496</th>\n",
       "      <td>{'id': 'batch_req_6796a71b599c819090eaa91c92a2...</td>\n",
       "      <td>2496</td>\n",
       "      <td>в заголовке нет игры слов</td>\n",
       "    </tr>\n",
       "    <tr>\n",
       "      <th>2497</th>\n",
       "      <td>{'id': 'batch_req_6796a71b67d481909bd67783d9f2...</td>\n",
       "      <td>2497</td>\n",
       "      <td>в заголовке нет игры слов</td>\n",
       "    </tr>\n",
       "    <tr>\n",
       "      <th>2498</th>\n",
       "      <td>{'id': 'batch_req_6796a71b79b081909e5fafed83cb...</td>\n",
       "      <td>2498</td>\n",
       "      <td>в заголовке нет игры слов</td>\n",
       "    </tr>\n",
       "    <tr>\n",
       "      <th>2499</th>\n",
       "      <td>{'id': 'batch_req_6796a71b8d2081908530e4fa0c94...</td>\n",
       "      <td>2499</td>\n",
       "      <td>в заголовке нет игры слов</td>\n",
       "    </tr>\n",
       "  </tbody>\n",
       "</table>\n",
       "<p>2500 rows × 3 columns</p>\n",
       "</div>"
      ],
      "text/plain": [
       "                                          json_response task_id  \\\n",
       "0     {'id': 'batch_req_6796a676ea588190aa1d1229d667...       0   \n",
       "1     {'id': 'batch_req_6796a676fa0c819087f5d6e14386...       1   \n",
       "2     {'id': 'batch_req_6796a6770ed88190b6b06e595edb...       2   \n",
       "3     {'id': 'batch_req_6796a677221081909ea4ddf1ca4f...       3   \n",
       "4     {'id': 'batch_req_6796a6773f5c8190b241b0162a20...       4   \n",
       "...                                                 ...     ...   \n",
       "2495  {'id': 'batch_req_6796a71b4b5481909f816e3f4850...    2495   \n",
       "2496  {'id': 'batch_req_6796a71b599c819090eaa91c92a2...    2496   \n",
       "2497  {'id': 'batch_req_6796a71b67d481909bd67783d9f2...    2497   \n",
       "2498  {'id': 'batch_req_6796a71b79b081909e5fafed83cb...    2498   \n",
       "2499  {'id': 'batch_req_6796a71b8d2081908530e4fa0c94...    2499   \n",
       "\n",
       "                                          gpt4o_explain  \n",
       "0                             в заголовке нет игры слов  \n",
       "1                             в заголовке нет игры слов  \n",
       "2     В заголовке есть игра слов. \\n\\nСмысл: Заголов...  \n",
       "3     В заголовке есть игра слов. \\n\\nСмысл: Заголов...  \n",
       "4     В заголовке есть игра слов. Он обыгрывает изве...  \n",
       "...                                                 ...  \n",
       "2495  В заголовке есть игра слов. Он отсылает к изве...  \n",
       "2496                          в заголовке нет игры слов  \n",
       "2497                          в заголовке нет игры слов  \n",
       "2498                          в заголовке нет игры слов  \n",
       "2499                          в заголовке нет игры слов  \n",
       "\n",
       "[2500 rows x 3 columns]"
      ]
     },
     "execution_count": 22,
     "metadata": {},
     "output_type": "execute_result"
    }
   ],
   "source": [
    "df_results"
   ]
  },
  {
   "cell_type": "code",
   "execution_count": 24,
   "metadata": {},
   "outputs": [
    {
     "data": {
      "text/plain": [
       "в заголовке нет игры слов                                                                                                                                                                                                                                                                                                                                                                                                                                                                                                                                                                                                                                                                                                                                                                                                                                                       1607\n",
       "В заголовке нет игры слов.                                                                                                                                                                                                                                                                                                                                                                                                                                                                                                                                                                                                                                                                                                                                                                                                                                                       108\n",
       "В заголовке есть игра слов. Использованное выражение \"заклятые друзья\" является оксюмороном, так как сочетает в себе противоположные понятия: \"заклятые враги\" и \"друзья\". Это подчеркивает сложные и противоречивые отношения между Турцией и Сирией, которые, несмотря на исторические конфликты и напряженность, начинают налаживать диалог. Заголовок удачно отражает суть новости, где речь идет о попытках двух стран улучшить отношения при посредничестве Москвы.                                                                                                                                                                                                                                                                                                                                                                                                          1\n",
       "В заголовке есть игра слов. \\n\\nСмысл: Заголовок использует слово \"разгоняет\" в переносном значении. Обычно \"разгонять\" ассоциируется с увеличением скорости или мощности, что в данном контексте может означать увеличение или усиление энергетической инфраструктуры. \\n\\nИспользованные методы: Игра слов основана на метафорическом использовании термина \"разгоняет\", который обычно не применяется в контексте энергетической инфраструктуры. Это создает образ ускорения или увеличения мощности, что привлекает внимание к теме улучшения энергетической системы.\\n\\nСвязь с основным текстом: Основной текст говорит о строительстве энергетической инфраструктуры, что подразумевает увеличение ее мощности или эффективности. Заголовок метафорически отражает эту идею, используя термин \"разгоняет\", чтобы подчеркнуть процесс усиления энергетической системы.       1\n",
       "В заголовке есть игра слов. Использован фразеологический оборот \"на высшем уровне\", который заменен на \"на вице-скандальном уровне\". Это создает эффект неожиданности и привлекает внимание к новости. Слово \"вице-скандальном\" намекает на высокий уровень напряженности и скандальности ситуации, связанной с угрозами и ядерным шантажом со стороны Пхеньяна. Таким образом, заголовок подчеркивает серьезность и скандальность обсуждаемой темы, что соответствует содержанию новости о международной напряженности.                                                                                                                                                                                                                                                                                                                                                           1\n",
       "                                                                                                                                                                                                                                                                                                                                                                                                                                                                                                                                                                                                                                                                                                                                                                                                                                                                                ... \n",
       "В заголовке есть игра слов. Используется каламбур, основанный на созвучии слов \"трубкопожатный\" и \"рукопожатный\". Обычно выражение \"рукопожатный\" используется в контексте, когда кто-то снова становится приемлемым для общения и сотрудничества. В данном случае \"трубкопожатный\" намекает на то, что Лукашенко снова стал приемлемым для диалога, но с добавлением слова \"трубка\", что может указывать на переговоры или связь, как будто через телефонную трубку. Это связано с основным текстом, где говорится о налаживании диалога между странами Европы и Минском.                                                                                                                                                                                                                                                                                                         1\n",
       "В заголовке есть игра слов. Оригинальная пословица \"Друг познается в беде\" подразумевает, что истинные друзья проявляют себя в трудные времена. В заголовке же фраза изменена на \"Друг познается нигде\", что намекает на отсутствие поддержки или дружбы со стороны Китая в сложной ситуации для России. Это создает ироничный эффект и подчеркивает основной посыл статьи о том, что Китай, возможно, не оказывает ожидаемой помощи России.                                                                                                                                                                                                                                                                                                                                                                                                                                       1\n",
       "В заголовке есть игра слов. Фраза \"Танцующие в тесноте\" может быть интерпретирована двояко. С одной стороны, она может буквально описывать танцоров, которые выступают в ограниченном пространстве, что может быть связано с постановкой спектакля. С другой стороны, это может быть метафорой, намекающей на сложные условия или ограничения, с которыми сталкиваются артисты театра, возможно, в контексте участия в престижном фестивале «Золотая маска». Таким образом, заголовок использует метафорическое значение, чтобы привлечь внимание к особенностям и, возможно, трудностям постановки, о которой идет речь в новости.                                                                                                                                                                                                                                                1\n",
       "В заголовке есть игра слов. Слово «Аврора» может ассоциироваться с чем-то красивым и положительным, например, с северным сиянием или именем, но в данном контексте оно используется иронично, чтобы подчеркнуть негативное событие — отравление школьников в бассейне. Заголовок создает контраст между ожиданием приятного отдыха и реальностью, где «Аврора» (возможно, название бассейна или отеля) стала причиной неприятностей. Это привлекает внимание и вызывает интерес к содержанию новости.                                                                                                                                                                                                                                                                                                                                                                              1\n",
       "В заголовке есть игра слов. Он отсылает к известному фильму \"Назад в будущее\" (Back to the Future), что создает ассоциацию с путешествием во времени. В данном контексте \"полет назад в будущее\" подразумевает стремление \"Аэрофлота\" вернуться к прежним показателям перевозок, которые были в 2021 году, что для компании является \"будущим\" в плане восстановления и роста. Использованный метод — это культурная отсылка и игра с временными понятиями, что делает заголовок более запоминающимся и интригующим.                                                                                                                                                                                                                                                                                                                                                               1\n",
       "Name: gpt4o_explain, Length: 787, dtype: int64"
      ]
     },
     "execution_count": 24,
     "metadata": {},
     "output_type": "execute_result"
    }
   ],
   "source": [
    "df_results[\"gpt4o_explain\"].value_counts()"
   ]
  },
  {
   "cell_type": "code",
   "execution_count": null,
   "metadata": {},
   "outputs": [],
   "source": []
  }
 ],
 "metadata": {
  "kernelspec": {
   "display_name": "general_venv",
   "language": "python",
   "name": "python3"
  },
  "language_info": {
   "codemirror_mode": {
    "name": "ipython",
    "version": 3
   },
   "file_extension": ".py",
   "mimetype": "text/x-python",
   "name": "python",
   "nbconvert_exporter": "python",
   "pygments_lexer": "ipython3",
   "version": "3.10.12"
  }
 },
 "nbformat": 4,
 "nbformat_minor": 2
}
