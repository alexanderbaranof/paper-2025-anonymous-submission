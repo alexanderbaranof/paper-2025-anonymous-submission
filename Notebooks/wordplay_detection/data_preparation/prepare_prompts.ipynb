{
 "cells": [
  {
   "cell_type": "code",
   "execution_count": 2,
   "metadata": {},
   "outputs": [],
   "source": [
    "# imports\n",
    "import os\n",
    "\n",
    "import pandas as pd"
   ]
  },
  {
   "cell_type": "code",
   "execution_count": 4,
   "metadata": {},
   "outputs": [],
   "source": [
    "# config\n",
    "PROJECT_PATH = \"/home/alex/paper-2025-anonymous-submission/\""
   ]
  },
  {
   "cell_type": "code",
   "execution_count": 6,
   "metadata": {},
   "outputs": [],
   "source": [
    "# load data\n",
    "df = pd.read_json(\n",
    "    os.path.join(\n",
    "        PROJECT_PATH, \"Data/processed_data/dataset.json\"\n",
    "    ),\n",
    "    orient=\"index\"\n",
    ")"
   ]
  },
  {
   "cell_type": "code",
   "execution_count": 11,
   "metadata": {},
   "outputs": [],
   "source": [
    "system_propmt = 'Присутствует ли в заголовке новости игра слов? Дай ответ с учетом содержания новости. Отвечать можешь только \"да\", \"нет\" или \"не знаю\".'"
   ]
  },
  {
   "cell_type": "code",
   "execution_count": 13,
   "metadata": {},
   "outputs": [],
   "source": [
    "def genereate_user_prompt(headline, lead):\n",
    "    user_prompt = f\"Заголовок новости: {headline}. Cодержание новости: {lead}\"\n",
    "    return user_prompt"
   ]
  },
  {
   "cell_type": "code",
   "execution_count": 16,
   "metadata": {},
   "outputs": [],
   "source": [
    "df[\"user_prompt\"] = df.apply(\n",
    "    lambda row: genereate_user_prompt(headline=row[\"headline\"], lead=row[\"lead\"]),\n",
    "    axis=1\n",
    ")\n",
    "\n",
    "df[\"system_prompt\"] = system_propmt"
   ]
  },
  {
   "cell_type": "code",
   "execution_count": 19,
   "metadata": {},
   "outputs": [],
   "source": [
    "df[[\"user_prompt\", \"system_prompt\"]].to_json(\n",
    "    os.path.join(\n",
    "        PROJECT_PATH, \"Data/processed_data/dataset_wordplay_detection_propmts.json\"\n",
    "    ),\n",
    "    orient=\"index\",\n",
    "    force_ascii=False\n",
    ")"
   ]
  },
  {
   "cell_type": "code",
   "execution_count": null,
   "metadata": {},
   "outputs": [],
   "source": []
  }
 ],
 "metadata": {
  "kernelspec": {
   "display_name": "general_venv",
   "language": "python",
   "name": "python3"
  },
  "language_info": {
   "codemirror_mode": {
    "name": "ipython",
    "version": 3
   },
   "file_extension": ".py",
   "mimetype": "text/x-python",
   "name": "python",
   "nbconvert_exporter": "python",
   "pygments_lexer": "ipython3",
   "version": "3.10.12"
  }
 },
 "nbformat": 4,
 "nbformat_minor": 2
}
